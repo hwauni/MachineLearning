{
 "cells": [
  {
   "cell_type": "code",
   "execution_count": 1,
   "metadata": {},
   "outputs": [],
   "source": [
    "import tensorflow as tf\n",
    "import numpy as np\n",
    "tf.set_random_seed(777)  # for reproducibility"
   ]
  },
  {
   "cell_type": "code",
   "execution_count": 2,
   "metadata": {},
   "outputs": [],
   "source": [
    "learning_rate = 0.01\n",
    "\n",
    "x_data = [[0, 0],\n",
    "          [0, 1],\n",
    "          [1, 0],\n",
    "          [1, 1]]\n",
    "y_data = [[0],\n",
    "          [1],\n",
    "          [1],\n",
    "          [0]]\n",
    "x_data = np.array(x_data, dtype=np.float32)\n",
    "y_data = np.array(y_data, dtype=np.float32)\n",
    "\n",
    "X = tf.placeholder(tf.float32, [None, 2], name='x-input')\n",
    "Y = tf.placeholder(tf.float32, [None, 1], name='y-input')"
   ]
  },
  {
   "cell_type": "code",
   "execution_count": 3,
   "metadata": {},
   "outputs": [],
   "source": [
    "with tf.name_scope(\"layer1\") as scope:\n",
    "    W1 = tf.Variable(tf.random_normal([2, 2]), name='weight1')\n",
    "    b1 = tf.Variable(tf.random_normal([2]), name='bias1')\n",
    "    layer1 = tf.sigmoid(tf.matmul(X, W1) + b1)\n",
    "\n",
    "    w1_hist = tf.summary.histogram(\"weights1\", W1)\n",
    "    b1_hist = tf.summary.histogram(\"biases1\", b1)\n",
    "    layer1_hist = tf.summary.histogram(\"layer1\", layer1)"
   ]
  },
  {
   "cell_type": "code",
   "execution_count": 4,
   "metadata": {},
   "outputs": [],
   "source": [
    "with tf.name_scope(\"layer2\") as scope:\n",
    "    W2 = tf.Variable(tf.random_normal([2, 1]), name='weight2')\n",
    "    b2 = tf.Variable(tf.random_normal([1]), name='bias2')\n",
    "    hypothesis = tf.sigmoid(tf.matmul(layer1, W2) + b2)\n",
    "\n",
    "    w2_hist = tf.summary.histogram(\"weights2\", W2)\n",
    "    b2_hist = tf.summary.histogram(\"biases2\", b2)\n",
    "    hypothesis_hist = tf.summary.histogram(\"hypothesis\", hypothesis)"
   ]
  },
  {
   "cell_type": "code",
   "execution_count": 5,
   "metadata": {},
   "outputs": [],
   "source": [
    "# cost/loss function\n",
    "with tf.name_scope(\"cost\") as scope:\n",
    "    cost = -tf.reduce_mean(Y * tf.log(hypothesis) + (1 - Y) *\n",
    "                           tf.log(1 - hypothesis))\n",
    "    cost_summ = tf.summary.scalar(\"cost\", cost)"
   ]
  },
  {
   "cell_type": "code",
   "execution_count": 6,
   "metadata": {},
   "outputs": [],
   "source": [
    "with tf.name_scope(\"train\") as scope:\n",
    "    train = tf.train.AdamOptimizer(learning_rate=learning_rate).minimize(cost)"
   ]
  },
  {
   "cell_type": "code",
   "execution_count": 7,
   "metadata": {},
   "outputs": [],
   "source": [
    "# Accuracy computation\n",
    "# True if hypothesis>0.5 else False\n",
    "predicted = tf.cast(hypothesis > 0.5, dtype=tf.float32)\n",
    "accuracy = tf.reduce_mean(tf.cast(tf.equal(predicted, Y), dtype=tf.float32))\n",
    "accuracy_summ = tf.summary.scalar(\"accuracy\", accuracy)"
   ]
  },
  {
   "cell_type": "code",
   "execution_count": 8,
   "metadata": {},
   "outputs": [
    {
     "name": "stdout",
     "output_type": "stream",
     "text": [
      "(0, 0.71563762, [array([[ 0.79269594,  0.68861032],\n",
      "       [-1.20728338, -0.29517072]], dtype=float32), array([[ 1.7177    ],\n",
      "       [ 0.35572484]], dtype=float32)])\n",
      "(1000, 0.022333965, [array([[ 5.67364979, -6.21975279],\n",
      "       [-6.14471054,  6.57215261]], dtype=float32), array([[ 8.90876007],\n",
      "       [ 8.4727869 ]], dtype=float32)])\n",
      "(2000, 0.0063093929, [array([[ 6.62234497, -7.19256639],\n",
      "       [-7.08543205,  7.52679729]], dtype=float32), array([[ 11.22315598],\n",
      "       [ 10.81134701]], dtype=float32)])\n",
      "(3000, 0.0027709822, [array([[ 7.14892006, -7.73299503],\n",
      "       [-7.60934496,  8.05845451]], dtype=float32), array([[ 12.75990582],\n",
      "       [ 12.36296463]], dtype=float32)])\n",
      "(4000, 0.0014247244, [array([[ 7.53379822, -8.12767982],\n",
      "       [-7.99296522,  8.44739819]], dtype=float32), array([[ 14.01666355],\n",
      "       [ 13.63034058]], dtype=float32)])\n",
      "(5000, 0.00078940508, [array([[ 7.84969997, -8.45132446],\n",
      "       [-8.30820274,  8.76673508]], dtype=float32), array([[ 15.14112568],\n",
      "       [ 14.76316071]], dtype=float32)])\n",
      "(6000, 0.00045509648, [array([[ 8.12537479, -8.73349476],\n",
      "       [-8.58353519,  9.04543018]], dtype=float32), array([[ 16.19618034],\n",
      "       [ 15.8252182 ]], dtype=float32)])\n",
      "(7000, 0.00026833173, [array([[ 8.37463665, -8.98839569],\n",
      "       [-8.83265114,  9.2973938 ]], dtype=float32), array([[ 17.21317101],\n",
      "       [ 16.84827423]], dtype=float32)])\n",
      "(8000, 0.00016026004, [array([[ 8.60492706, -9.22369862],\n",
      "       [-9.06292439,  9.53015804]], dtype=float32), array([[ 18.20902443],\n",
      "       [ 17.84943771]], dtype=float32)])\n",
      "(9000, 9.6489719e-05, [array([[ 8.82060337, -9.44391537],\n",
      "       [-9.27869606,  9.74813175]], dtype=float32), array([[ 19.19311714],\n",
      "       [ 18.83855438]], dtype=float32)])\n",
      "(10000, 5.8339763e-05, [array([[ 9.02439404, -9.65184593],\n",
      "       [-9.48265266,  9.95403957]], dtype=float32), array([[ 20.17106056],\n",
      "       [ 19.82086754]], dtype=float32)])\n",
      "('\\nHypothesis: ', array([[  6.13103257e-05],\n",
      "       [  9.99936938e-01],\n",
      "       [  9.99950767e-01],\n",
      "       [  5.97514700e-05]], dtype=float32), '\\nCorrect: ', array([[ 0.],\n",
      "       [ 1.],\n",
      "       [ 1.],\n",
      "       [ 0.]], dtype=float32), '\\nAccuracy: ', 1.0)\n"
     ]
    }
   ],
   "source": [
    "# Launch graph\n",
    "with tf.Session() as sess:\n",
    "    # tensorboard --logdir=./logs/xor_logs\n",
    "    merged_summary = tf.summary.merge_all()\n",
    "    writer = tf.summary.FileWriter(\"./logs/xor_tensorboard\")\n",
    "    writer.add_graph(sess.graph)  # Show the graph\n",
    "\n",
    "    # Initialize TensorFlow variables\n",
    "    sess.run(tf.global_variables_initializer())\n",
    "\n",
    "    for step in range(10001):\n",
    "        summary, _ = sess.run([merged_summary, train], feed_dict={X: x_data, Y: y_data})\n",
    "        writer.add_summary(summary, global_step=step)\n",
    "\n",
    "        if step % 1000 == 0:\n",
    "            print(step, sess.run(cost, feed_dict={\n",
    "                  X: x_data, Y: y_data}), sess.run([W1, W2]))\n",
    "\n",
    "    # Accuracy report\n",
    "    h, c, a = sess.run([hypothesis, predicted, accuracy],\n",
    "                       feed_dict={X: x_data, Y: y_data})\n",
    "    print(\"\\nHypothesis: \", h, \"\\nCorrect: \", c, \"\\nAccuracy: \", a)"
   ]
  },
  {
   "cell_type": "code",
   "execution_count": 9,
   "metadata": {},
   "outputs": [
    {
     "data": {
      "text/plain": [
       "'\\nHypothesis:  [[  6.13103184e-05]\\n [  9.99936938e-01]\\n [  9.99950767e-01]\\n [  5.97514772e-05]]\\nCorrect:  [[ 0.]\\n [ 1.]\\n [ 1.]\\n [ 0.]]\\nAccuracy:  1.0\\n'"
      ]
     },
     "execution_count": 9,
     "metadata": {},
     "output_type": "execute_result"
    }
   ],
   "source": [
    "'''\n",
    "Hypothesis:  [[  6.13103184e-05]\n",
    " [  9.99936938e-01]\n",
    " [  9.99950767e-01]\n",
    " [  5.97514772e-05]]\n",
    "Correct:  [[ 0.]\n",
    " [ 1.]\n",
    " [ 1.]\n",
    " [ 0.]]\n",
    "Accuracy:  1.0\n",
    "'''"
   ]
  }
 ],
 "metadata": {
  "kernelspec": {
   "display_name": "Python 2",
   "language": "python",
   "name": "python2"
  },
  "language_info": {
   "codemirror_mode": {
    "name": "ipython",
    "version": 2
   },
   "file_extension": ".py",
   "mimetype": "text/x-python",
   "name": "python",
   "nbconvert_exporter": "python",
   "pygments_lexer": "ipython2",
   "version": "2.7.12"
  }
 },
 "nbformat": 4,
 "nbformat_minor": 2
}
