{
 "cells": [
  {
   "cell_type": "code",
   "execution_count": 1,
   "metadata": {},
   "outputs": [],
   "source": [
    "import tensorflow as tf\n",
    "import numpy as np\n",
    "import tfutil"
   ]
  },
  {
   "cell_type": "code",
   "execution_count": 2,
   "metadata": {},
   "outputs": [
    {
     "name": "stdout",
     "output_type": "stream",
     "text": [
      "Tensor(\"Const:0\", shape=(), dtype=float32)\n",
      "Tensor(\"Shape:0\", shape=(0,), dtype=int32)\n",
      "37.0\n"
     ]
    }
   ],
   "source": [
    "x = 37.0\n",
    "const1 = tf.constant(x)  \n",
    "print(const1)\n",
    "print(tf.shape(const1))\n",
    "tfutil.print_constant(const1)"
   ]
  },
  {
   "cell_type": "code",
   "execution_count": 3,
   "metadata": {},
   "outputs": [
    {
     "name": "stdout",
     "output_type": "stream",
     "text": [
      "Tensor(\"Bitcast:0\", shape=(), dtype=int32)\n",
      "Tensor(\"Shape_1:0\", shape=(0,), dtype=int32)\n",
      "1108606976\n"
     ]
    }
   ],
   "source": [
    "bc_const1 = tf.bitcast(const1, tf.int32)\n",
    "print(bc_const1)\n",
    "print(tf.shape(bc_const1))\n",
    "tfutil.print_operation_value(bc_const1)"
   ]
  },
  {
   "cell_type": "code",
   "execution_count": 4,
   "metadata": {},
   "outputs": [
    {
     "name": "stdout",
     "output_type": "stream",
     "text": [
      "Tensor(\"sub:0\", shape=(), dtype=int32)\n",
      "Tensor(\"Shape_2:0\", shape=(0,), dtype=int32)\n",
      "-1108606977\n"
     ]
    }
   ],
   "source": [
    "x = -1\n",
    "invert_bits = tf.constant(x) - bc_const1\n",
    "print(invert_bits)\n",
    "print(tf.shape(invert_bits))\n",
    "tfutil.print_operation_value(invert_bits)"
   ]
  },
  {
   "cell_type": "code",
   "execution_count": 5,
   "metadata": {},
   "outputs": [
    {
     "name": "stdout",
     "output_type": "stream",
     "text": [
      "Tensor(\"Bitcast_1:0\", shape=(), dtype=float32)\n",
      "Tensor(\"Shape_3:0\", shape=(0,), dtype=int32)\n",
      "-0.115234\n"
     ]
    }
   ],
   "source": [
    "bc_to_float = tf.bitcast(invert_bits, tf.float32)\n",
    "print(bc_to_float)\n",
    "print(tf.shape(bc_to_float))\n",
    "tfutil.print_operation_value(bc_to_float)"
   ]
  }
 ],
 "metadata": {
  "kernelspec": {
   "display_name": "Python 2",
   "language": "python",
   "name": "python2"
  },
  "language_info": {
   "codemirror_mode": {
    "name": "ipython",
    "version": 2
   },
   "file_extension": ".py",
   "mimetype": "text/x-python",
   "name": "python",
   "nbconvert_exporter": "python",
   "pygments_lexer": "ipython2",
   "version": "2.7.12"
  }
 },
 "nbformat": 4,
 "nbformat_minor": 2
}
