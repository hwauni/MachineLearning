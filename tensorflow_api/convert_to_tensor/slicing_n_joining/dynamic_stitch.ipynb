{
 "cells": [
  {
   "cell_type": "code",
   "execution_count": 1,
   "metadata": {},
   "outputs": [],
   "source": [
    "import tensorflow as tf\n",
    "import numpy as np\n",
    "import tfutil"
   ]
  },
  {
   "cell_type": "code",
   "execution_count": 2,
   "metadata": {},
   "outputs": [
    {
     "name": "stdout",
     "output_type": "stream",
     "text": [
      "Tensor(\"Const:0\", shape=(2, 2), dtype=int64)\n",
      "Tensor(\"Shape:0\", shape=(2,), dtype=int32)\n",
      "[[1 2]\n",
      " [3 4]]\n"
     ]
    }
   ],
   "source": [
    "x = [[1, 2], [3, 4]]\n",
    "const1 = tf.constant(np.array(x))\n",
    "print(const1)\n",
    "print(tf.shape(const1))\n",
    "tfutil.print_constant(const1)"
   ]
  },
  {
   "cell_type": "code",
   "execution_count": 3,
   "metadata": {},
   "outputs": [
    {
     "name": "stdout",
     "output_type": "stream",
     "text": [
      "Tensor(\"Const_1:0\", shape=(2,), dtype=int64)\n",
      "Tensor(\"Shape_1:0\", shape=(1,), dtype=int32)\n",
      "[1 1]\n"
     ]
    }
   ],
   "source": [
    "y = [1, 1]\n",
    "row_to_add = tf.constant(np.array(y))\n",
    "print(row_to_add)\n",
    "print(tf.shape(row_to_add))\n",
    "tfutil.print_constant(row_to_add)"
   ]
  },
  {
   "cell_type": "code",
   "execution_count": 4,
   "metadata": {},
   "outputs": [
    {
     "name": "stdout",
     "output_type": "stream",
     "text": [
      "Tensor(\"strided_slice:0\", shape=(2,), dtype=int64)\n",
      "Tensor(\"Shape_2:0\", shape=(1,), dtype=int32)\n",
      "[1 2]\n"
     ]
    }
   ],
   "source": [
    "original_row = const1[0]\n",
    "print(original_row)\n",
    "print(tf.shape(original_row))\n",
    "tfutil.print_constant(original_row)"
   ]
  },
  {
   "cell_type": "code",
   "execution_count": 5,
   "metadata": {},
   "outputs": [
    {
     "name": "stdout",
     "output_type": "stream",
     "text": [
      "Tensor(\"add:0\", shape=(2,), dtype=int64)\n",
      "Tensor(\"Shape_3:0\", shape=(1,), dtype=int32)\n",
      "[2 3]\n"
     ]
    }
   ],
   "source": [
    "updated_row = original_row + row_to_add\n",
    "print(updated_row)\n",
    "print(tf.shape(updated_row))\n",
    "tfutil.print_operation_value(updated_row)"
   ]
  },
  {
   "cell_type": "code",
   "execution_count": 6,
   "metadata": {},
   "outputs": [
    {
     "name": "stdout",
     "output_type": "stream",
     "text": [
      "Tensor(\"range:0\", shape=(4,), dtype=int32)\n",
      "Tensor(\"Shape_4:0\", shape=(1,), dtype=int32)\n",
      "[0 1 2 3]\n"
     ]
    }
   ],
   "source": [
    "unchanged_indices = tf.range(tf.size(const1))\n",
    "print(unchanged_indices)\n",
    "print(tf.shape(unchanged_indices))\n",
    "tfutil.print_operation_value(unchanged_indices)"
   ]
  },
  {
   "cell_type": "code",
   "execution_count": 7,
   "metadata": {},
   "outputs": [
    {
     "name": "stdout",
     "output_type": "stream",
     "text": [
      "Tensor(\"range_1:0\", shape=(2,), dtype=int32)\n",
      "Tensor(\"Shape_5:0\", shape=(1,), dtype=int32)\n",
      "[0 1]\n"
     ]
    }
   ],
   "source": [
    "changed_indices = tf.range(const1.get_shape()[0])\n",
    "print(changed_indices)\n",
    "print(tf.shape(changed_indices))\n",
    "tfutil.print_operation_value(changed_indices)"
   ]
  },
  {
   "cell_type": "code",
   "execution_count": 8,
   "metadata": {},
   "outputs": [
    {
     "name": "stdout",
     "output_type": "stream",
     "text": [
      "Tensor(\"Reshape:0\", shape=(4,), dtype=int64)\n",
      "Tensor(\"Shape_6:0\", shape=(1,), dtype=int32)\n",
      "[1 2 3 4]\n"
     ]
    }
   ],
   "source": [
    "a_flat = tf.reshape(const1, [-1])\n",
    "print(a_flat)\n",
    "print(tf.shape(a_flat))\n",
    "tfutil.print_operation_value(a_flat)"
   ]
  },
  {
   "cell_type": "code",
   "execution_count": 9,
   "metadata": {},
   "outputs": [
    {
     "name": "stdout",
     "output_type": "stream",
     "text": [
      "Tensor(\"DynamicStitch:0\", shape=(4,), dtype=int64)\n",
      "Tensor(\"Shape_7:0\", shape=(1,), dtype=int32)\n",
      "[2 3 3 4]\n"
     ]
    }
   ],
   "source": [
    "updated_a_flat = tf.dynamic_stitch([unchanged_indices, changed_indices], [a_flat, updated_row])\n",
    "print(updated_a_flat)\n",
    "print(tf.shape(updated_a_flat))\n",
    "tfutil.print_operation_value(updated_a_flat)"
   ]
  },
  {
   "cell_type": "code",
   "execution_count": 10,
   "metadata": {},
   "outputs": [
    {
     "name": "stdout",
     "output_type": "stream",
     "text": [
      "Tensor(\"Reshape_1:0\", shape=(2, 2), dtype=int64)\n",
      "Tensor(\"Shape_8:0\", shape=(2,), dtype=int32)\n",
      "[[2 3]\n",
      " [3 4]]\n"
     ]
    }
   ],
   "source": [
    "updated_a = tf.reshape(updated_a_flat, const1.get_shape())\n",
    "print(updated_a)\n",
    "print(tf.shape(updated_a))\n",
    "tfutil.print_operation_value(updated_a)"
   ]
  },
  {
   "cell_type": "code",
   "execution_count": 11,
   "metadata": {},
   "outputs": [
    {
     "name": "stdout",
     "output_type": "stream",
     "text": [
      "Tensor(\"Const_2:0\", shape=(6,), dtype=float64)\n",
      "Tensor(\"Shape_9:0\", shape=(1,), dtype=int32)\n",
      "[ 0.1 -1.   5.2  4.3 -1.   7.4]\n"
     ]
    }
   ],
   "source": [
    "# Apply function (increments x_i) on elements for which a certain condition\n",
    "# apply (x_i != -1 in this example).\n",
    "x = [0.1, -1., 5.2, 4.3, -1., 7.4]\n",
    "const1 = tf.constant(np.array(x))\n",
    "print(const1)\n",
    "print(tf.shape(const1))\n",
    "tfutil.print_constant(const1)"
   ]
  },
  {
   "cell_type": "code",
   "execution_count": 12,
   "metadata": {},
   "outputs": [
    {
     "name": "stdout",
     "output_type": "stream",
     "text": [
      "Tensor(\"NotEqual:0\", shape=(6,), dtype=bool)\n",
      "Tensor(\"Shape_10:0\", shape=(1,), dtype=int32)\n",
      "[ True False  True  True False  True]\n"
     ]
    }
   ],
   "source": [
    "condition_mask=tf.not_equal(x,tf.constant(-1.))\n",
    "print(condition_mask)\n",
    "print(tf.shape(condition_mask))\n",
    "tfutil.print_constant(condition_mask)"
   ]
  },
  {
   "cell_type": "code",
   "execution_count": 13,
   "metadata": {},
   "outputs": [
    {
     "name": "stdout",
     "output_type": "stream",
     "text": [
      "[<tf.Tensor 'DynamicPartition:0' shape=(?,) dtype=float32>, <tf.Tensor 'DynamicPartition:1' shape=(?,) dtype=float32>]\n",
      "Tensor(\"Shape_11:0\", shape=(2,), dtype=int32)\n"
     ]
    }
   ],
   "source": [
    "partitioned_data = tf.dynamic_partition(x,\n",
    "    tf.cast(condition_mask, tf.int32) , 2)\n",
    "print(partitioned_data)\n",
    "print(tf.shape(partitioned_data))"
   ]
  },
  {
   "cell_type": "code",
   "execution_count": 14,
   "metadata": {},
   "outputs": [
    {
     "name": "stdout",
     "output_type": "stream",
     "text": [
      "Tensor(\"add_1:0\", shape=(?,), dtype=float32)\n",
      "Tensor(\"Shape_12:0\", shape=(1,), dtype=int32)\n",
      "[ 1.10000002  6.19999981  5.30000019  8.39999962]\n"
     ]
    }
   ],
   "source": [
    "partitioned_data[1] = partitioned_data[1] + 1.0\n",
    "print(partitioned_data[1])\n",
    "print(tf.shape(partitioned_data[1]))\n",
    "tfutil.print_constant(partitioned_data[1])"
   ]
  },
  {
   "cell_type": "code",
   "execution_count": 15,
   "metadata": {},
   "outputs": [
    {
     "name": "stdout",
     "output_type": "stream",
     "text": [
      "[<tf.Tensor 'DynamicPartition_1:0' shape=(?,) dtype=int32>, <tf.Tensor 'DynamicPartition_1:1' shape=(?,) dtype=int32>]\n",
      "Tensor(\"Shape_14:0\", shape=(2,), dtype=int32)\n"
     ]
    }
   ],
   "source": [
    "condition_indices = tf.dynamic_partition(\n",
    "    tf.range(tf.shape(x)[0]), tf.cast(condition_mask, tf.int32) , 2)\n",
    "print(condition_indices)\n",
    "print(tf.shape(condition_indices))"
   ]
  },
  {
   "cell_type": "code",
   "execution_count": 16,
   "metadata": {},
   "outputs": [
    {
     "name": "stdout",
     "output_type": "stream",
     "text": [
      "Tensor(\"DynamicStitch_1:0\", shape=(?,), dtype=float32)\n",
      "Tensor(\"Shape_15:0\", shape=(1,), dtype=int32)\n",
      "[ 1.10000002 -1.          6.19999981  5.30000019 -1.          8.39999962]\n"
     ]
    }
   ],
   "source": [
    "ds_const1 = tf.dynamic_stitch(condition_indices, partitioned_data)\n",
    "print(ds_const1)\n",
    "print(tf.shape(ds_const1))\n",
    "tfutil.print_constant(ds_const1)"
   ]
  }
 ],
 "metadata": {
  "kernelspec": {
   "display_name": "Python 2",
   "language": "python",
   "name": "python2"
  },
  "language_info": {
   "codemirror_mode": {
    "name": "ipython",
    "version": 2
   },
   "file_extension": ".py",
   "mimetype": "text/x-python",
   "name": "python",
   "nbconvert_exporter": "python",
   "pygments_lexer": "ipython2",
   "version": "2.7.12"
  }
 },
 "nbformat": 4,
 "nbformat_minor": 2
}
