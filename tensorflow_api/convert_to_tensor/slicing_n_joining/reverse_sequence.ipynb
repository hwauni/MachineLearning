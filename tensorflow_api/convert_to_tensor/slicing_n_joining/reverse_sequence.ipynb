{
 "cells": [
  {
   "cell_type": "code",
   "execution_count": 1,
   "metadata": {},
   "outputs": [],
   "source": [
    "import tensorflow as tf\n",
    "import numpy as np\n",
    "import tfutil"
   ]
  },
  {
   "cell_type": "code",
   "execution_count": 2,
   "metadata": {},
   "outputs": [
    {
     "name": "stdout",
     "output_type": "stream",
     "text": [
      "Tensor(\"Const:0\", shape=(3, 7), dtype=int32)\n",
      "Tensor(\"Shape:0\", shape=(2,), dtype=int32)\n",
      "[[1 2 3 4 0 0 0]\n",
      " [1 2 3 0 0 0 0]\n",
      " [1 2 3 4 5 6 7]]\n"
     ]
    }
   ],
   "source": [
    "x = [[1, 2, 3, 4, 0, 0, 0],\n",
    "     [1, 2, 3, 0, 0, 0, 0],\n",
    "     [1, 2, 3, 4, 5, 6, 7]]\n",
    "const1 = tf.constant(np.array(x), dtype=tf.int32)\n",
    "print(const1)\n",
    "print(tf.shape(const1))\n",
    "tfutil.print_constant(const1)"
   ]
  },
  {
   "cell_type": "code",
   "execution_count": 3,
   "metadata": {},
   "outputs": [
    {
     "name": "stdout",
     "output_type": "stream",
     "text": [
      "Tensor(\"ReverseSequence:0\", shape=(3, 7), dtype=int32)\n",
      "Tensor(\"Shape_1:0\", shape=(2,), dtype=int32)\n",
      "[[4 3 2 1 0 0 0]\n",
      " [3 2 1 0 0 0 0]\n",
      " [7 6 5 4 3 2 1]]\n"
     ]
    }
   ],
   "source": [
    "seq_lens = [4, 3, 7]\n",
    "rs_const1 = tf.reverse_sequence(const1, seq_lens, seq_dim=1, batch_dim=0)\n",
    "print(rs_const1)\n",
    "print(tf.shape(rs_const1))\n",
    "tfutil.print_operation_value(rs_const1)"
   ]
  },
  {
   "cell_type": "code",
   "execution_count": 4,
   "metadata": {},
   "outputs": [
    {
     "name": "stdout",
     "output_type": "stream",
     "text": [
      "Tensor(\"Const_1:0\", shape=(3, 2, 7), dtype=int32)\n",
      "Tensor(\"Shape_2:0\", shape=(3,), dtype=int32)\n",
      "[[[1 2 3 4 0 0 0]\n",
      "  [1 0 2 0 0 0 0]]\n",
      "\n",
      " [[1 2 3 4 5 0 0]\n",
      "  [0 2 1 4 0 0 0]]\n",
      "\n",
      " [[1 2 3 4 5 6 7]\n",
      "  [1 2 3 4 0 6 0]]]\n"
     ]
    }
   ],
   "source": [
    "x = [[[1, 2, 3, 4, 0, 0, 0], [1, 0, 2, 0, 0, 0, 0]],\n",
    "     [[1, 2, 3, 4, 5, 0, 0], [0, 2, 1, 4, 0, 0, 0]],\n",
    "     [[1, 2, 3, 4, 5, 6 ,7], [1, 2, 3, 4, 0, 6, 0]]]\n",
    "const2 = tf.constant(np.array(x), dtype=tf.int32)\n",
    "print(const2)\n",
    "print(tf.shape(const2))\n",
    "tfutil.print_constant(const2)"
   ]
  },
  {
   "cell_type": "code",
   "execution_count": 5,
   "metadata": {},
   "outputs": [
    {
     "name": "stdout",
     "output_type": "stream",
     "text": [
      "Tensor(\"ReverseSequence_1:0\", shape=(3, 2, 7), dtype=int32)\n",
      "Tensor(\"Shape_3:0\", shape=(3,), dtype=int32)\n",
      "[[[4 3 2 1 0 0 0]\n",
      "  [0 2 0 1 0 0 0]]\n",
      "\n",
      " [[3 2 1 4 5 0 0]\n",
      "  [1 2 0 4 0 0 0]]\n",
      "\n",
      " [[5 4 3 2 1 6 7]\n",
      "  [0 4 3 2 1 6 0]]]\n"
     ]
    }
   ],
   "source": [
    "seq_lens = [4, 3, 5]\n",
    "rs_const2 = tf.reverse_sequence(const2, seq_lens, seq_dim=2, batch_dim=0)\n",
    "print(rs_const2)\n",
    "print(tf.shape(rs_const2))\n",
    "tfutil.print_operation_value(rs_const2)"
   ]
  },
  {
   "cell_type": "code",
   "execution_count": 6,
   "metadata": {},
   "outputs": [
    {
     "name": "stdout",
     "output_type": "stream",
     "text": [
      "Tensor(\"ReverseSequence_2:0\", shape=(3, 2, 7), dtype=int32)\n",
      "Tensor(\"Shape_4:0\", shape=(3,), dtype=int32)\n",
      "[[[4 3 2 1 0 0 0]\n",
      "  [2 0 1 0 0 0 0]]\n",
      "\n",
      " [[4 3 2 1 5 0 0]\n",
      "  [1 2 0 4 0 0 0]]\n",
      "\n",
      " [[4 3 2 1 5 6 7]\n",
      "  [3 2 1 4 0 6 0]]]\n"
     ]
    }
   ],
   "source": [
    "seq_lens = [4, 3]\n",
    "rs_const2 = tf.reverse_sequence(const2, seq_lens, seq_dim=2, batch_dim=1)\n",
    "print(rs_const2)\n",
    "print(tf.shape(rs_const2))\n",
    "tfutil.print_operation_value(rs_const2)"
   ]
  }
 ],
 "metadata": {
  "kernelspec": {
   "display_name": "Python 2",
   "language": "python",
   "name": "python2"
  },
  "language_info": {
   "codemirror_mode": {
    "name": "ipython",
    "version": 2
   },
   "file_extension": ".py",
   "mimetype": "text/x-python",
   "name": "python",
   "nbconvert_exporter": "python",
   "pygments_lexer": "ipython2",
   "version": "2.7.12"
  }
 },
 "nbformat": 4,
 "nbformat_minor": 2
}
