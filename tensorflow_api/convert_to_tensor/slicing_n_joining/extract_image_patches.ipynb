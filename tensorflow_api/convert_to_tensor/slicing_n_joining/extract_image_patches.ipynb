{
 "cells": [
  {
   "cell_type": "code",
   "execution_count": 1,
   "metadata": {},
   "outputs": [],
   "source": [
    "import tensorflow as tf\n",
    "import numpy as np\n",
    "import tfutil"
   ]
  },
  {
   "cell_type": "code",
   "execution_count": 2,
   "metadata": {
    "scrolled": true
   },
   "outputs": [
    {
     "name": "stdout",
     "output_type": "stream",
     "text": [
      "Tensor(\"Const:0\", shape=(1, 10, 10, 1), dtype=int32)\n",
      "Tensor(\"Shape:0\", shape=(4,), dtype=int32)\n",
      "[[[[  1]\n",
      "   [  2]\n",
      "   [  3]\n",
      "   [  4]\n",
      "   [  5]\n",
      "   [  6]\n",
      "   [  7]\n",
      "   [  8]\n",
      "   [  9]\n",
      "   [ 10]]\n",
      "\n",
      "  [[ 11]\n",
      "   [ 12]\n",
      "   [ 13]\n",
      "   [ 14]\n",
      "   [ 15]\n",
      "   [ 16]\n",
      "   [ 17]\n",
      "   [ 18]\n",
      "   [ 19]\n",
      "   [ 20]]\n",
      "\n",
      "  [[ 21]\n",
      "   [ 22]\n",
      "   [ 23]\n",
      "   [ 24]\n",
      "   [ 25]\n",
      "   [ 26]\n",
      "   [ 27]\n",
      "   [ 28]\n",
      "   [ 29]\n",
      "   [ 30]]\n",
      "\n",
      "  [[ 31]\n",
      "   [ 32]\n",
      "   [ 33]\n",
      "   [ 34]\n",
      "   [ 35]\n",
      "   [ 36]\n",
      "   [ 37]\n",
      "   [ 38]\n",
      "   [ 39]\n",
      "   [ 40]]\n",
      "\n",
      "  [[ 41]\n",
      "   [ 42]\n",
      "   [ 43]\n",
      "   [ 44]\n",
      "   [ 45]\n",
      "   [ 46]\n",
      "   [ 47]\n",
      "   [ 48]\n",
      "   [ 49]\n",
      "   [ 50]]\n",
      "\n",
      "  [[ 51]\n",
      "   [ 52]\n",
      "   [ 53]\n",
      "   [ 54]\n",
      "   [ 55]\n",
      "   [ 56]\n",
      "   [ 57]\n",
      "   [ 58]\n",
      "   [ 59]\n",
      "   [ 60]]\n",
      "\n",
      "  [[ 61]\n",
      "   [ 62]\n",
      "   [ 63]\n",
      "   [ 64]\n",
      "   [ 65]\n",
      "   [ 66]\n",
      "   [ 67]\n",
      "   [ 68]\n",
      "   [ 69]\n",
      "   [ 70]]\n",
      "\n",
      "  [[ 71]\n",
      "   [ 72]\n",
      "   [ 73]\n",
      "   [ 74]\n",
      "   [ 75]\n",
      "   [ 76]\n",
      "   [ 77]\n",
      "   [ 78]\n",
      "   [ 79]\n",
      "   [ 80]]\n",
      "\n",
      "  [[ 81]\n",
      "   [ 82]\n",
      "   [ 83]\n",
      "   [ 84]\n",
      "   [ 85]\n",
      "   [ 86]\n",
      "   [ 87]\n",
      "   [ 88]\n",
      "   [ 89]\n",
      "   [ 90]]\n",
      "\n",
      "  [[ 91]\n",
      "   [ 92]\n",
      "   [ 93]\n",
      "   [ 94]\n",
      "   [ 95]\n",
      "   [ 96]\n",
      "   [ 97]\n",
      "   [ 98]\n",
      "   [ 99]\n",
      "   [100]]]]\n"
     ]
    }
   ],
   "source": [
    "n = 10\n",
    "# images is a 1 x 10 x 10 x 1 array that contains the numbers 1 through 100 in order\n",
    "images = [[[[x * n + y + 1] for y in range(n)] for x in range(n)]]\n",
    "\n",
    "const1 = tf.constant(np.array(images), dtype=tf.int32)\n",
    "print(const1)\n",
    "print(tf.shape(const1))\n",
    "tfutil.print_constant(const1)"
   ]
  },
  {
   "cell_type": "code",
   "execution_count": 3,
   "metadata": {},
   "outputs": [
    {
     "name": "stdout",
     "output_type": "stream",
     "text": [
      "Tensor(\"ExtractImagePatches:0\", shape=(1, 4, 4, 1), dtype=int32)\n",
      "Tensor(\"Shape_1:0\", shape=(4,), dtype=int32)\n",
      "[[[[  1]\n",
      "   [  4]\n",
      "   [  7]\n",
      "   [ 10]]\n",
      "\n",
      "  [[ 31]\n",
      "   [ 34]\n",
      "   [ 37]\n",
      "   [ 40]]\n",
      "\n",
      "  [[ 61]\n",
      "   [ 64]\n",
      "   [ 67]\n",
      "   [ 70]]\n",
      "\n",
      "  [[ 91]\n",
      "   [ 94]\n",
      "   [ 97]\n",
      "   [100]]]]\n"
     ]
    }
   ],
   "source": [
    "# Ksizes Test\n",
    "# output_depth = ksize_rows * ksize_cols * depth = (1 x 1 x 1 ) = 1\n",
    "# ksizes: raws: [1] col: [1]\n",
    "ksizes = [1, 1, 1, 1]\n",
    "strides = [1, 3, 3, 1]\n",
    "rates = [1, 1, 1, 1]\n",
    "exi_const1 = tf.extract_image_patches(const1, ksizes, strides, rates, padding='VALID')\n",
    "print(exi_const1)\n",
    "print(tf.shape(exi_const1))\n",
    "tfutil.print_operation_value(exi_const1)"
   ]
  },
  {
   "cell_type": "code",
   "execution_count": 4,
   "metadata": {},
   "outputs": [
    {
     "name": "stdout",
     "output_type": "stream",
     "text": [
      "Tensor(\"ExtractImagePatches_1:0\", shape=(1, 4, 3, 2), dtype=int32)\n",
      "Tensor(\"Shape_2:0\", shape=(4,), dtype=int32)\n",
      "[[[[ 1  2]\n",
      "   [ 4  5]\n",
      "   [ 7  8]]\n",
      "\n",
      "  [[31 32]\n",
      "   [34 35]\n",
      "   [37 38]]\n",
      "\n",
      "  [[61 62]\n",
      "   [64 65]\n",
      "   [67 68]]\n",
      "\n",
      "  [[91 92]\n",
      "   [94 95]\n",
      "   [97 98]]]]\n"
     ]
    }
   ],
   "source": [
    "# Ksizes Test\n",
    "# output_depth = ksize_rows * ksize_cols * depth = (1 x 2 x 1 ) = 2\n",
    "# ksizes: raws: [1, 2]  col: [1, 2]\n",
    "ksizes = [1, 1, 2, 1]\n",
    "strides = [1, 3, 3, 1]\n",
    "rates = [1, 1, 1, 1]\n",
    "exi_const1 = tf.extract_image_patches(const1, ksizes, strides, rates, padding='VALID')\n",
    "print(exi_const1)\n",
    "print(tf.shape(exi_const1))\n",
    "tfutil.print_operation_value(exi_const1)"
   ]
  },
  {
   "cell_type": "code",
   "execution_count": 5,
   "metadata": {},
   "outputs": [
    {
     "name": "stdout",
     "output_type": "stream",
     "text": [
      "Tensor(\"ExtractImagePatches_2:0\", shape=(1, 4, 3, 3), dtype=int32)\n",
      "Tensor(\"Shape_3:0\", shape=(4,), dtype=int32)\n",
      "[[[[ 1  2  3]\n",
      "   [ 4  5  6]\n",
      "   [ 7  8  9]]\n",
      "\n",
      "  [[31 32 33]\n",
      "   [34 35 36]\n",
      "   [37 38 39]]\n",
      "\n",
      "  [[61 62 63]\n",
      "   [64 65 66]\n",
      "   [67 68 69]]\n",
      "\n",
      "  [[91 92 93]\n",
      "   [94 95 96]\n",
      "   [97 98 99]]]]\n"
     ]
    }
   ],
   "source": [
    "# Ksizes Test\n",
    "# output_depth = ksize_rows * ksize_cols * depth = (1 x 3 x 1 ) = 3\n",
    "# ksizes: raws: [1, 2, 3]   col: [1, 2, 3]\n",
    "ksizes = [1, 1, 3, 1]\n",
    "strides = [1, 3, 3, 1]\n",
    "rates = [1, 1, 1, 1]\n",
    "exi_const1 = tf.extract_image_patches(const1, ksizes, strides, rates, padding='VALID')\n",
    "print(exi_const1)\n",
    "print(tf.shape(exi_const1))\n",
    "tfutil.print_operation_value(exi_const1)"
   ]
  },
  {
   "cell_type": "code",
   "execution_count": 6,
   "metadata": {},
   "outputs": [
    {
     "name": "stdout",
     "output_type": "stream",
     "text": [
      "Tensor(\"ExtractImagePatches_3:0\", shape=(1, 3, 3, 6), dtype=int32)\n",
      "Tensor(\"Shape_4:0\", shape=(4,), dtype=int32)\n",
      "[[[[ 1  2  3 11 12 13]\n",
      "   [ 4  5  6 14 15 16]\n",
      "   [ 7  8  9 17 18 19]]\n",
      "\n",
      "  [[31 32 33 41 42 43]\n",
      "   [34 35 36 44 45 46]\n",
      "   [37 38 39 47 48 49]]\n",
      "\n",
      "  [[61 62 63 71 72 73]\n",
      "   [64 65 66 74 75 76]\n",
      "   [67 68 69 77 78 79]]]]\n"
     ]
    }
   ],
   "source": [
    "# Ksizes Test\n",
    "# output_depth = ksize_rows * ksize_cols * depth = (2 x 3 x 1 ) = 6 -> [ 1  2  3 11 12 13] ..\n",
    "# ksizes: raws: [1  2  3 ]   col: [1  2  3 11 12 13]\n",
    "ksizes = [1, 2, 3, 1]\n",
    "strides = [1, 3, 3, 1]\n",
    "rates = [1, 1, 1, 1]\n",
    "exi_const1 = tf.extract_image_patches(const1, ksizes, strides, rates, padding='VALID')\n",
    "print(exi_const1)\n",
    "print(tf.shape(exi_const1))\n",
    "tfutil.print_operation_value(exi_const1)"
   ]
  },
  {
   "cell_type": "code",
   "execution_count": 7,
   "metadata": {},
   "outputs": [
    {
     "name": "stdout",
     "output_type": "stream",
     "text": [
      "Tensor(\"ExtractImagePatches_4:0\", shape=(1, 3, 3, 9), dtype=int32)\n",
      "Tensor(\"Shape_5:0\", shape=(4,), dtype=int32)\n",
      "[[[[ 1  2  3 11 12 13 21 22 23]\n",
      "   [ 4  5  6 14 15 16 24 25 26]\n",
      "   [ 7  8  9 17 18 19 27 28 29]]\n",
      "\n",
      "  [[31 32 33 41 42 43 51 52 53]\n",
      "   [34 35 36 44 45 46 54 55 56]\n",
      "   [37 38 39 47 48 49 57 58 59]]\n",
      "\n",
      "  [[61 62 63 71 72 73 81 82 83]\n",
      "   [64 65 66 74 75 76 84 85 86]\n",
      "   [67 68 69 77 78 79 87 88 89]]]]\n"
     ]
    }
   ],
   "source": [
    "# Ksizes Test\n",
    "# output_depth = ksize_rows * ksize_cols * depth = (3 x 3 x 1 ) = 9 -> [ 1 2 3 11 12 13 21 22 23] ..\n",
    "# ksizes: raws: [1  2  3 ]   col: [1  2  3 11 12 13 21 22 23]\n",
    "ksizes = [1, 3, 3, 1]\n",
    "strides = [1, 3, 3, 1]\n",
    "rates = [1, 1, 1, 1]\n",
    "exi_const1 = tf.extract_image_patches(const1, ksizes, strides, rates, padding='VALID')\n",
    "print(exi_const1)\n",
    "print(tf.shape(exi_const1))\n",
    "tfutil.print_operation_value(exi_const1)"
   ]
  },
  {
   "cell_type": "code",
   "execution_count": 8,
   "metadata": {},
   "outputs": [
    {
     "name": "stdout",
     "output_type": "stream",
     "text": [
      "Tensor(\"ExtractImagePatches_5:0\", shape=(1, 3, 3, 9), dtype=int32)\n",
      "Tensor(\"Shape_6:0\", shape=(4,), dtype=int32)\n",
      "[[[[ 1  2  3 11 12 13 21 22 23]\n",
      "   [ 4  5  6 14 15 16 24 25 26]\n",
      "   [ 7  8  9 17 18 19 27 28 29]]\n",
      "\n",
      "  [[31 32 33 41 42 43 51 52 53]\n",
      "   [34 35 36 44 45 46 54 55 56]\n",
      "   [37 38 39 47 48 49 57 58 59]]\n",
      "\n",
      "  [[61 62 63 71 72 73 81 82 83]\n",
      "   [64 65 66 74 75 76 84 85 86]\n",
      "   [67 68 69 77 78 79 87 88 89]]]]\n"
     ]
    }
   ],
   "source": [
    "# strides Test\n",
    "# output_depth = ksize_rows * ksize_cols * depth = (3 x 3 x 1 ) = 9 -> [ 1 2 3 11 12 13 21 22 23] ..\n",
    "# strides: raws: [1, 4, 7]   col: [1, 31, 61]\n",
    "ksizes = [1, 3, 3, 1]\n",
    "strides = [1, 3, 3, 1]\n",
    "rates = [1, 1, 1, 1]\n",
    "exi_const1 = tf.extract_image_patches(const1, ksizes, strides, rates, padding='VALID')\n",
    "print(exi_const1)\n",
    "print(tf.shape(exi_const1))\n",
    "tfutil.print_operation_value(exi_const1)"
   ]
  },
  {
   "cell_type": "code",
   "execution_count": 9,
   "metadata": {},
   "outputs": [
    {
     "name": "stdout",
     "output_type": "stream",
     "text": [
      "Tensor(\"ExtractImagePatches_6:0\", shape=(1, 4, 3, 9), dtype=int32)\n",
      "Tensor(\"Shape_7:0\", shape=(4,), dtype=int32)\n",
      "[[[[ 1  2  3 11 12 13 21 22 23]\n",
      "   [ 4  5  6 14 15 16 24 25 26]\n",
      "   [ 7  8  9 17 18 19 27 28 29]]\n",
      "\n",
      "  [[21 22 23 31 32 33 41 42 43]\n",
      "   [24 25 26 34 35 36 44 45 46]\n",
      "   [27 28 29 37 38 39 47 48 49]]\n",
      "\n",
      "  [[41 42 43 51 52 53 61 62 63]\n",
      "   [44 45 46 54 55 56 64 65 66]\n",
      "   [47 48 49 57 58 59 67 68 69]]\n",
      "\n",
      "  [[61 62 63 71 72 73 81 82 83]\n",
      "   [64 65 66 74 75 76 84 85 86]\n",
      "   [67 68 69 77 78 79 87 88 89]]]]\n"
     ]
    }
   ],
   "source": [
    "# strides Test\n",
    "# output_depth = ksize_rows * ksize_cols * depth = (3 x 3 x 1 ) = 9 -> [ 1 2 3 11 12 13 21 22 23] ..\n",
    "# strides: raws: [1, 4, 7]   col: [1, 21, 41, 61]\n",
    "ksizes = [1, 3, 3, 1]\n",
    "strides = [1, 2, 3, 1]\n",
    "rates = [1, 1, 1, 1]\n",
    "exi_const1 = tf.extract_image_patches(const1, ksizes, strides, rates, padding='VALID')\n",
    "print(exi_const1)\n",
    "print(tf.shape(exi_const1))\n",
    "tfutil.print_operation_value(exi_const1)"
   ]
  },
  {
   "cell_type": "code",
   "execution_count": 10,
   "metadata": {},
   "outputs": [
    {
     "name": "stdout",
     "output_type": "stream",
     "text": [
      "Tensor(\"ExtractImagePatches_7:0\", shape=(1, 3, 4, 9), dtype=int32)\n",
      "Tensor(\"Shape_8:0\", shape=(4,), dtype=int32)\n",
      "[[[[ 1  2  3 11 12 13 21 22 23]\n",
      "   [ 3  4  5 13 14 15 23 24 25]\n",
      "   [ 5  6  7 15 16 17 25 26 27]\n",
      "   [ 7  8  9 17 18 19 27 28 29]]\n",
      "\n",
      "  [[31 32 33 41 42 43 51 52 53]\n",
      "   [33 34 35 43 44 45 53 54 55]\n",
      "   [35 36 37 45 46 47 55 56 57]\n",
      "   [37 38 39 47 48 49 57 58 59]]\n",
      "\n",
      "  [[61 62 63 71 72 73 81 82 83]\n",
      "   [63 64 65 73 74 75 83 84 85]\n",
      "   [65 66 67 75 76 77 85 86 87]\n",
      "   [67 68 69 77 78 79 87 88 89]]]]\n"
     ]
    }
   ],
   "source": [
    "# strides Test\n",
    "# output_depth = ksize_rows * ksize_cols * depth = (3 x 3 x 1 ) = 9 -> [ 1 2 3 11 12 13 21 22 23] ..\n",
    "# strides: raws: [1, 3, 5, 7]   col: [1, 31, 61]\n",
    "ksizes = [1, 3, 3, 1]\n",
    "strides = [1, 3, 2, 1]\n",
    "rates = [1, 1, 1, 1]\n",
    "exi_const1 = tf.extract_image_patches(const1, ksizes, strides, rates, padding='VALID')\n",
    "print(exi_const1)\n",
    "print(tf.shape(exi_const1))\n",
    "tfutil.print_operation_value(exi_const1)"
   ]
  },
  {
   "cell_type": "code",
   "execution_count": 11,
   "metadata": {},
   "outputs": [
    {
     "name": "stdout",
     "output_type": "stream",
     "text": [
      "Tensor(\"ExtractImagePatches_8:0\", shape=(1, 2, 2, 9), dtype=int32)\n",
      "Tensor(\"Shape_9:0\", shape=(4,), dtype=int32)\n",
      "[[[[ 1  2  3 11 12 13 21 22 23]\n",
      "   [ 6  7  8 16 17 18 26 27 28]]\n",
      "\n",
      "  [[51 52 53 61 62 63 71 72 73]\n",
      "   [56 57 58 66 67 68 76 77 78]]]]\n"
     ]
    }
   ],
   "source": [
    "# We generate four outputs as follows:\n",
    "# 1. 3x3 patches with stride length 5\n",
    "ksizes = [1, 3, 3, 1]\n",
    "strides = [1, 5, 5, 1]\n",
    "rates = [1, 1, 1, 1]\n",
    "exi_const1 = tf.extract_image_patches(const1, ksizes, strides, rates, padding='VALID')\n",
    "print(exi_const1)\n",
    "print(tf.shape(exi_const1))\n",
    "tfutil.print_operation_value(exi_const1)"
   ]
  },
  {
   "cell_type": "code",
   "execution_count": 12,
   "metadata": {},
   "outputs": [
    {
     "name": "stdout",
     "output_type": "stream",
     "text": [
      "Tensor(\"ExtractImagePatches_9:0\", shape=(1, 2, 2, 9), dtype=int32)\n",
      "Tensor(\"Shape_10:0\", shape=(4,), dtype=int32)\n",
      "[[[[  1   3   5  21  23  25  41  43  45]\n",
      "   [  6   8  10  26  28  30  46  48  50]]\n",
      "\n",
      "  [[ 51  53  55  71  73  75  91  93  95]\n",
      "   [ 56  58  60  76  78  80  96  98 100]]]]\n"
     ]
    }
   ],
   "source": [
    "# 2. Same as above, but the rate is increased to 2\n",
    "ksizes = [1, 3, 3, 1]\n",
    "strides = [1, 5, 5, 1]\n",
    "rates = [1, 2, 2, 1]\n",
    "exi_const1 = tf.extract_image_patches(const1, ksizes, strides, rates, padding='VALID')\n",
    "print(exi_const1)\n",
    "print(tf.shape(exi_const1))\n",
    "tfutil.print_operation_value(exi_const1)"
   ]
  },
  {
   "cell_type": "code",
   "execution_count": 13,
   "metadata": {},
   "outputs": [
    {
     "name": "stdout",
     "output_type": "stream",
     "text": [
      "Tensor(\"ExtractImagePatches_10:0\", shape=(1, 1, 1, 16), dtype=int32)\n",
      "Tensor(\"Shape_11:0\", shape=(4,), dtype=int32)\n",
      "[[[[ 1  2  3  4 11 12 13 14 21 22 23 24 31 32 33 34]]]]\n"
     ]
    }
   ],
   "source": [
    "# 3. 4x4 patches with stride length 7; only one patch should be generated\n",
    "ksizes = [1, 4, 4, 1]\n",
    "strides = [1, 7, 7, 1]\n",
    "rates = [1, 1, 1, 1]\n",
    "exi_const1 = tf.extract_image_patches(const1, ksizes, strides, rates, padding='VALID')\n",
    "print(exi_const1)\n",
    "print(tf.shape(exi_const1))\n",
    "tfutil.print_operation_value(exi_const1)"
   ]
  },
  {
   "cell_type": "code",
   "execution_count": 14,
   "metadata": {},
   "outputs": [
    {
     "name": "stdout",
     "output_type": "stream",
     "text": [
      "Tensor(\"ExtractImagePatches_11:0\", shape=(1, 2, 2, 16), dtype=int32)\n",
      "Tensor(\"Shape_12:0\", shape=(4,), dtype=int32)\n",
      "[[[[  1   2   3   4  11  12  13  14  21  22  23  24  31  32  33  34]\n",
      "   [  8   9  10   0  18  19  20   0  28  29  30   0  38  39  40   0]]\n",
      "\n",
      "  [[ 71  72  73  74  81  82  83  84  91  92  93  94   0   0   0   0]\n",
      "   [ 78  79  80   0  88  89  90   0  98  99 100   0   0   0   0   0]]]]\n"
     ]
    }
   ],
   "source": [
    "# 4. Same as above, but with padding set to 'SAME'\n",
    "ksizes = [1, 4, 4, 1]\n",
    "strides = [1, 7, 7, 1]\n",
    "rates = [1, 1, 1, 1]\n",
    "exi_const1 = tf.extract_image_patches(const1, ksizes, strides, rates, padding='SAME')\n",
    "print(exi_const1)\n",
    "print(tf.shape(exi_const1))\n",
    "tfutil.print_operation_value(exi_const1)"
   ]
  }
 ],
 "metadata": {
  "kernelspec": {
   "display_name": "Python 2",
   "language": "python",
   "name": "python2"
  },
  "language_info": {
   "codemirror_mode": {
    "name": "ipython",
    "version": 2
   },
   "file_extension": ".py",
   "mimetype": "text/x-python",
   "name": "python",
   "nbconvert_exporter": "python",
   "pygments_lexer": "ipython2",
   "version": "2.7.12"
  }
 },
 "nbformat": 4,
 "nbformat_minor": 2
}
