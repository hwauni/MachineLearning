{
 "cells": [
  {
   "cell_type": "code",
   "execution_count": 1,
   "metadata": {},
   "outputs": [],
   "source": [
    "import tensorflow as tf\n",
    "import numpy as np\n",
    "import tfutil"
   ]
  },
  {
   "cell_type": "code",
   "execution_count": 2,
   "metadata": {},
   "outputs": [
    {
     "name": "stdout",
     "output_type": "stream",
     "text": [
      "Tensor(\"Const:0\", shape=(1, 2, 2, 1), dtype=int32)\n",
      "Tensor(\"Shape:0\", shape=(4,), dtype=int32)\n",
      "[[[[1]\n",
      "   [2]]\n",
      "\n",
      "  [[3]\n",
      "   [4]]]]\n"
     ]
    }
   ],
   "source": [
    "x = [[[[1], [2]],\n",
    "      [[3], [4]]]]\n",
    "const1 = tf.constant(np.array(x), dtype=tf.int32)\n",
    "print(const1)\n",
    "print(tf.shape(const1))\n",
    "tfutil.print_constant(const1)"
   ]
  },
  {
   "cell_type": "code",
   "execution_count": 3,
   "metadata": {},
   "outputs": [
    {
     "name": "stdout",
     "output_type": "stream",
     "text": [
      "Tensor(\"SpaceToDepth:0\", shape=(1, 1, 1, 4), dtype=int32)\n",
      "Tensor(\"Shape_1:0\", shape=(4,), dtype=int32)\n",
      "[[[[1 2 3 4]]]]\n"
     ]
    }
   ],
   "source": [
    "# input: [batch, height, width, depth]\n",
    "# output: [batch, height/block_size, width/block_size, depth*block_size*block_size]\n",
    "blocksize = 2\n",
    "std_const1 = tf.space_to_depth(const1, blocksize)\n",
    "print(std_const1)\n",
    "print(tf.shape(std_const1))\n",
    "tfutil.print_operation_value(std_const1)"
   ]
  },
  {
   "cell_type": "code",
   "execution_count": 4,
   "metadata": {},
   "outputs": [
    {
     "name": "stdout",
     "output_type": "stream",
     "text": [
      "Tensor(\"Const_1:0\", shape=(1, 2, 2, 3), dtype=int32)\n",
      "Tensor(\"Shape_2:0\", shape=(4,), dtype=int32)\n",
      "[[[[ 1  2  3]\n",
      "   [ 4  5  6]]\n",
      "\n",
      "  [[ 7  8  9]\n",
      "   [10 11 12]]]]\n"
     ]
    }
   ],
   "source": [
    "x = [[[[1, 2, 3], [4, 5, 6]],\n",
    "      [[7, 8, 9], [10, 11, 12]]]]\n",
    "const2 = tf.constant(np.array(x), dtype=tf.int32)\n",
    "print(const2)\n",
    "print(tf.shape(const2))\n",
    "tfutil.print_constant(const2)"
   ]
  },
  {
   "cell_type": "code",
   "execution_count": 5,
   "metadata": {},
   "outputs": [
    {
     "name": "stdout",
     "output_type": "stream",
     "text": [
      "Tensor(\"SpaceToDepth_1:0\", shape=(1, 1, 1, 12), dtype=int32)\n",
      "Tensor(\"Shape_3:0\", shape=(4,), dtype=int32)\n",
      "[[[[ 1  2  3  4  5  6  7  8  9 10 11 12]]]]\n"
     ]
    }
   ],
   "source": [
    "blocksize = 2\n",
    "std_const2 = tf.space_to_depth(const2, blocksize)\n",
    "print(std_const2)\n",
    "print(tf.shape(std_const2))\n",
    "tfutil.print_operation_value(std_const2)"
   ]
  },
  {
   "cell_type": "code",
   "execution_count": 6,
   "metadata": {},
   "outputs": [
    {
     "name": "stdout",
     "output_type": "stream",
     "text": [
      "Tensor(\"Const_2:0\", shape=(1, 4, 4, 1), dtype=int32)\n",
      "Tensor(\"Shape_4:0\", shape=(4,), dtype=int32)\n",
      "[[[[ 1]\n",
      "   [ 2]\n",
      "   [ 5]\n",
      "   [ 6]]\n",
      "\n",
      "  [[ 3]\n",
      "   [ 4]\n",
      "   [ 7]\n",
      "   [ 8]]\n",
      "\n",
      "  [[ 9]\n",
      "   [10]\n",
      "   [13]\n",
      "   [14]]\n",
      "\n",
      "  [[11]\n",
      "   [12]\n",
      "   [15]\n",
      "   [16]]]]\n"
     ]
    }
   ],
   "source": [
    "x = [[[[1],   [2],  [5],  [6]],\n",
    "      [[3],   [4],  [7],  [8]],\n",
    "      [[9],  [10], [13],  [14]],\n",
    "      [[11], [12], [15],  [16]]]]\n",
    "const3 = tf.constant(np.array(x), dtype=tf.int32)\n",
    "print(const3)\n",
    "print(tf.shape(const3))\n",
    "tfutil.print_constant(const3)"
   ]
  },
  {
   "cell_type": "code",
   "execution_count": 7,
   "metadata": {},
   "outputs": [
    {
     "name": "stdout",
     "output_type": "stream",
     "text": [
      "Tensor(\"SpaceToDepth_2:0\", shape=(1, 2, 2, 4), dtype=int32)\n",
      "Tensor(\"Shape_5:0\", shape=(4,), dtype=int32)\n",
      "[[[[ 1  2  3  4]\n",
      "   [ 5  6  7  8]]\n",
      "\n",
      "  [[ 9 10 11 12]\n",
      "   [13 14 15 16]]]]\n"
     ]
    }
   ],
   "source": [
    "blocksize = 2\n",
    "std_const3 = tf.space_to_depth(const3, blocksize)\n",
    "print(std_const3)\n",
    "print(tf.shape(std_const3))\n",
    "tfutil.print_operation_value(std_const3)"
   ]
  }
 ],
 "metadata": {
  "kernelspec": {
   "display_name": "Python 2",
   "language": "python",
   "name": "python2"
  },
  "language_info": {
   "codemirror_mode": {
    "name": "ipython",
    "version": 2
   },
   "file_extension": ".py",
   "mimetype": "text/x-python",
   "name": "python",
   "nbconvert_exporter": "python",
   "pygments_lexer": "ipython2",
   "version": "2.7.12"
  }
 },
 "nbformat": 4,
 "nbformat_minor": 2
}
