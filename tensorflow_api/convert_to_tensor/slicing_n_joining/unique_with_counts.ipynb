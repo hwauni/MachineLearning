{
 "cells": [
  {
   "cell_type": "code",
   "execution_count": 1,
   "metadata": {},
   "outputs": [],
   "source": [
    "import tensorflow as tf\n",
    "import numpy as np\n",
    "import tfutil"
   ]
  },
  {
   "cell_type": "code",
   "execution_count": 2,
   "metadata": {},
   "outputs": [
    {
     "name": "stdout",
     "output_type": "stream",
     "text": [
      "Tensor(\"Const:0\", shape=(9,), dtype=int32)\n",
      "Tensor(\"Shape:0\", shape=(1,), dtype=int32)\n",
      "[1 1 2 4 4 4 7 8 8]\n"
     ]
    }
   ],
   "source": [
    "x = [1, 1, 2, 4, 4, 4, 7, 8, 8]\n",
    "\n",
    "const1 = tf.constant(np.array(x), dtype=tf.int32)\n",
    "print(const1)\n",
    "print(tf.shape(const1))\n",
    "tfutil.print_constant(const1)"
   ]
  },
  {
   "cell_type": "code",
   "execution_count": 3,
   "metadata": {},
   "outputs": [
    {
     "name": "stdout",
     "output_type": "stream",
     "text": [
      "Tensor(\"UniqueWithCounts:0\", shape=(?,), dtype=int32)\n",
      "Tensor(\"Shape_1:0\", shape=(1,), dtype=int32)\n",
      "[1 2 4 7 8]\n"
     ]
    }
   ],
   "source": [
    "y, idx, count = tf.unique_with_counts(const1)\n",
    "print(y)\n",
    "print(tf.shape(y))\n",
    "tfutil.print_constant(y)"
   ]
  },
  {
   "cell_type": "code",
   "execution_count": 4,
   "metadata": {},
   "outputs": [
    {
     "name": "stdout",
     "output_type": "stream",
     "text": [
      "Tensor(\"UniqueWithCounts:1\", shape=(9,), dtype=int32)\n",
      "Tensor(\"Shape_2:0\", shape=(1,), dtype=int32)\n",
      "[0 0 1 2 2 2 3 4 4]\n"
     ]
    }
   ],
   "source": [
    "print(idx)\n",
    "print(tf.shape(idx))\n",
    "tfutil.print_constant(idx)"
   ]
  },
  {
   "cell_type": "code",
   "execution_count": 5,
   "metadata": {},
   "outputs": [
    {
     "name": "stdout",
     "output_type": "stream",
     "text": [
      "Tensor(\"UniqueWithCounts:2\", shape=(?,), dtype=int32)\n",
      "Tensor(\"Shape_3:0\", shape=(1,), dtype=int32)\n",
      "[2 1 3 1 2]\n"
     ]
    }
   ],
   "source": [
    "print(count)\n",
    "print(tf.shape(count))\n",
    "tfutil.print_constant(count)"
   ]
  }
 ],
 "metadata": {
  "kernelspec": {
   "display_name": "Python 2",
   "language": "python",
   "name": "python2"
  },
  "language_info": {
   "codemirror_mode": {
    "name": "ipython",
    "version": 2
   },
   "file_extension": ".py",
   "mimetype": "text/x-python",
   "name": "python",
   "nbconvert_exporter": "python",
   "pygments_lexer": "ipython2",
   "version": "2.7.12"
  }
 },
 "nbformat": 4,
 "nbformat_minor": 2
}
