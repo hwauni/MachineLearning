{
 "cells": [
  {
   "cell_type": "code",
   "execution_count": 1,
   "metadata": {},
   "outputs": [],
   "source": [
    "import tensorflow as tf\n",
    "import numpy as np\n",
    "import tfutil"
   ]
  },
  {
   "cell_type": "code",
   "execution_count": 2,
   "metadata": {},
   "outputs": [
    {
     "name": "stdout",
     "output_type": "stream",
     "text": [
      "Tensor(\"Const:0\", shape=(4,), dtype=int64)\n",
      "Tensor(\"Shape:0\", shape=(1,), dtype=int32)\n",
      "[0 1 2 3]\n"
     ]
    }
   ],
   "source": [
    "x = [0, 1, 2, 3]\n",
    "const1 = tf.constant(np.array(x))\n",
    "print(const1)\n",
    "print(tf.shape(const1))\n",
    "tfutil.print_constant(const1)"
   ]
  },
  {
   "cell_type": "code",
   "execution_count": 3,
   "metadata": {},
   "outputs": [
    {
     "name": "stdout",
     "output_type": "stream",
     "text": [
      "Tensor(\"boolean_mask/Gather:0\", shape=(?,), dtype=int64)\n",
      "Tensor(\"Shape_1:0\", shape=(1,), dtype=int32)\n",
      "[0 2]\n"
     ]
    }
   ],
   "source": [
    "mask = np.array([True, False, True, False])\n",
    "bm_const1 = tf.boolean_mask(const1, mask)\n",
    "print(bm_const1)\n",
    "print(tf.shape(bm_const1))\n",
    "tfutil.print_operation_value(bm_const1)"
   ]
  },
  {
   "cell_type": "code",
   "execution_count": 4,
   "metadata": {},
   "outputs": [
    {
     "name": "stdout",
     "output_type": "stream",
     "text": [
      "Tensor(\"Const_1:0\", shape=(3, 2), dtype=int64)\n",
      "Tensor(\"Shape_2:0\", shape=(2,), dtype=int32)\n",
      "[[1 2]\n",
      " [3 4]\n",
      " [5 6]]\n"
     ]
    }
   ],
   "source": [
    "x = [[1, 2], [3, 4], [5, 6]]\n",
    "const2 = tf.constant(np.array(x)) \n",
    "print(const2)\n",
    "print(tf.shape(const2))\n",
    "tfutil.print_constant(const2)"
   ]
  },
  {
   "cell_type": "code",
   "execution_count": 5,
   "metadata": {},
   "outputs": [
    {
     "name": "stdout",
     "output_type": "stream",
     "text": [
      "Tensor(\"boolean_mask_1/Gather:0\", shape=(?, 2), dtype=int64)\n",
      "Tensor(\"Shape_3:0\", shape=(2,), dtype=int32)\n",
      "[[1 2]\n",
      " [5 6]]\n"
     ]
    }
   ],
   "source": [
    "mask = np.array([True, False, True])\n",
    "bm_const2 = tf.boolean_mask(const2, mask)\n",
    "print(bm_const2)\n",
    "print(tf.shape(bm_const2))\n",
    "tfutil.print_operation_value(bm_const2)"
   ]
  }
 ],
 "metadata": {
  "kernelspec": {
   "display_name": "Python 2",
   "language": "python",
   "name": "python2"
  },
  "language_info": {
   "codemirror_mode": {
    "name": "ipython",
    "version": 2
   },
   "file_extension": ".py",
   "mimetype": "text/x-python",
   "name": "python",
   "nbconvert_exporter": "python",
   "pygments_lexer": "ipython2",
   "version": "2.7.12"
  }
 },
 "nbformat": 4,
 "nbformat_minor": 2
}
