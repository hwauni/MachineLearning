{
 "cells": [
  {
   "cell_type": "code",
   "execution_count": 1,
   "metadata": {},
   "outputs": [
    {
     "name": "stdout",
     "output_type": "stream",
     "text": [
      "Tensor(\"Const:0\", shape=(9,), dtype=int32)\n",
      "Tensor(\"Shape:0\", shape=(1,), dtype=int32)\n",
      "[1 2 3 4 5 6 7 8 9]\n"
     ]
    }
   ],
   "source": [
    "import tensorflow as tf\n",
    "import tfutil\n",
    "\n",
    "# [1, 2, 3, 4, 5, 6, 7, 8, 9]\n",
    "const1 = tf.constant([1, 2, 3, 4, 5, 6, 7, 8, 9])\n",
    "print(const1)\n",
    "print(tf.shape(const1))\n",
    "tfutil.print_constant(const1)"
   ]
  },
  {
   "cell_type": "code",
   "execution_count": 2,
   "metadata": {},
   "outputs": [
    {
     "name": "stdout",
     "output_type": "stream",
     "text": [
      "Tensor(\"Slice:0\", shape=(3,), dtype=int32)\n",
      "Tensor(\"Shape_1:0\", shape=(1,), dtype=int32)\n",
      "[3 4 5]\n"
     ]
    }
   ],
   "source": [
    "sl_const1 = tf.slice(const1, [2], [3])\n",
    "print(sl_const1)\n",
    "print(tf.shape(sl_const1))\n",
    "tfutil.print_operation_value(sl_const1)"
   ]
  },
  {
   "cell_type": "code",
   "execution_count": 3,
   "metadata": {},
   "outputs": [
    {
     "name": "stdout",
     "output_type": "stream",
     "text": [
      "Tensor(\"Const_1:0\", shape=(2, 10), dtype=int32)\n",
      "Tensor(\"Shape_2:0\", shape=(2,), dtype=int32)\n",
      "[[ 1  2  3  4  5  6  7  8  9 10]\n",
      " [11 12 13 14 15 16 17 18 19 20]]\n"
     ]
    }
   ],
   "source": [
    "# [[1, 2, 3, 4, 5, 6, 7, 8, 9, 10], [11, 12, 13, 14, 15, 16, 17, 18, 19,20]]\n",
    "const2 = tf.constant([[1, 2, 3, 4, 5, 6, 7, 8, 9, 10], [11, 12, 13, 14, 15, 16, 17, 18, 19,20]])\n",
    "print(const2)\n",
    "print(tf.shape(const2))\n",
    "tfutil.print_constant(const2)"
   ]
  },
  {
   "cell_type": "code",
   "execution_count": 4,
   "metadata": {},
   "outputs": [
    {
     "name": "stdout",
     "output_type": "stream",
     "text": [
      "Tensor(\"Slice_1:0\", shape=(1, 3), dtype=int32)\n",
      "Tensor(\"Shape_3:0\", shape=(2,), dtype=int32)\n",
      "[[2 3 4]]\n"
     ]
    }
   ],
   "source": [
    "sl_const2 = tf.slice(const2, [0, 1], [1, 3])\n",
    "print(sl_const2)\n",
    "print(tf.shape(sl_const2))\n",
    "tfutil.print_operation_value(sl_const2)"
   ]
  },
  {
   "cell_type": "code",
   "execution_count": 5,
   "metadata": {},
   "outputs": [
    {
     "name": "stdout",
     "output_type": "stream",
     "text": [
      "Tensor(\"Slice_2:0\", shape=(1, 3), dtype=int32)\n",
      "Tensor(\"Shape_4:0\", shape=(2,), dtype=int32)\n",
      "[[3 4 5]]\n"
     ]
    }
   ],
   "source": [
    "sl_const2 = tf.slice(const2, [0, 2], [1, 3])\n",
    "print(sl_const2)\n",
    "print(tf.shape(sl_const2))\n",
    "tfutil.print_operation_value(sl_const2)"
   ]
  },
  {
   "cell_type": "code",
   "execution_count": 6,
   "metadata": {},
   "outputs": [
    {
     "name": "stdout",
     "output_type": "stream",
     "text": [
      "Tensor(\"Slice_3:0\", shape=(1, 3), dtype=int32)\n",
      "Tensor(\"Shape_5:0\", shape=(2,), dtype=int32)\n",
      "[[12 13 14]]\n"
     ]
    }
   ],
   "source": [
    "sl_const2 = tf.slice(const2, [1, 1], [1, 3])\n",
    "print(sl_const2)\n",
    "print(tf.shape(sl_const2))\n",
    "tfutil.print_operation_value(sl_const2)"
   ]
  },
  {
   "cell_type": "code",
   "execution_count": 7,
   "metadata": {},
   "outputs": [
    {
     "name": "stdout",
     "output_type": "stream",
     "text": [
      "Tensor(\"Slice_4:0\", shape=(1, 3), dtype=int32)\n",
      "Tensor(\"Shape_6:0\", shape=(2,), dtype=int32)\n",
      "[[13 14 15]]\n"
     ]
    }
   ],
   "source": [
    "sl_const2 = tf.slice(const2, [1, 2], [1, 3])\n",
    "print(sl_const2)\n",
    "print(tf.shape(sl_const2))\n",
    "tfutil.print_operation_value(sl_const2)"
   ]
  },
  {
   "cell_type": "code",
   "execution_count": 8,
   "metadata": {},
   "outputs": [
    {
     "name": "stdout",
     "output_type": "stream",
     "text": [
      "Tensor(\"Const_2:0\", shape=(3, 2, 3), dtype=int32)\n",
      "Tensor(\"Shape_7:0\", shape=(3,), dtype=int32)\n",
      "[[[ 1  2  3]\n",
      "  [ 4  5  6]]\n",
      "\n",
      " [[ 7  8  9]\n",
      "  [10 11 12]]\n",
      "\n",
      " [[13 14 15]\n",
      "  [16 17 18]]]\n"
     ]
    }
   ],
   "source": [
    "# [[[1, 2, 3], [4, 5, 6]], [[7, 8, 9], [10, 11, 12]], [[13, 14, 15], [16, 17, 18]]]\n",
    "const3 = tf.constant([[[1, 2, 3], [4, 5, 6]], [[7, 8, 9], [10, 11, 12]], [[13, 14, 15], [16, 17, 18]]])\n",
    "print(const3)\n",
    "print(tf.shape(const3))\n",
    "tfutil.print_constant(const3)"
   ]
  },
  {
   "cell_type": "code",
   "execution_count": 9,
   "metadata": {},
   "outputs": [
    {
     "name": "stdout",
     "output_type": "stream",
     "text": [
      "Tensor(\"Slice_5:0\", shape=(1, 1, 1), dtype=int32)\n",
      "Tensor(\"Shape_8:0\", shape=(3,), dtype=int32)\n",
      "[[[1]]]\n"
     ]
    }
   ],
   "source": [
    "sl_const3 = tf.slice(const3, [0, 0, 0], [1, 1, 1])\n",
    "print(sl_const3)\n",
    "print(tf.shape(sl_const3))\n",
    "tfutil.print_operation_value(sl_const3)"
   ]
  },
  {
   "cell_type": "code",
   "execution_count": 10,
   "metadata": {},
   "outputs": [
    {
     "name": "stdout",
     "output_type": "stream",
     "text": [
      "Tensor(\"Slice_6:0\", shape=(1, 1, 2), dtype=int32)\n",
      "Tensor(\"Shape_9:0\", shape=(3,), dtype=int32)\n",
      "[[[1 2]]]\n"
     ]
    }
   ],
   "source": [
    "sl_const3 = tf.slice(const3, [0, 0, 0], [1, 1, 2])\n",
    "print(sl_const3)\n",
    "print(tf.shape(sl_const3))\n",
    "tfutil.print_operation_value(sl_const3)"
   ]
  },
  {
   "cell_type": "code",
   "execution_count": 11,
   "metadata": {},
   "outputs": [
    {
     "name": "stdout",
     "output_type": "stream",
     "text": [
      "Tensor(\"Slice_7:0\", shape=(1, 1, 1), dtype=int32)\n",
      "Tensor(\"Shape_10:0\", shape=(3,), dtype=int32)\n",
      "[[[4]]]\n"
     ]
    }
   ],
   "source": [
    "sl_const3 = tf.slice(const3, [0, 1, 0], [1, 1, 1])\n",
    "print(sl_const3)\n",
    "print(tf.shape(sl_const3))\n",
    "tfutil.print_operation_value(sl_const3)"
   ]
  },
  {
   "cell_type": "code",
   "execution_count": 12,
   "metadata": {},
   "outputs": [
    {
     "name": "stdout",
     "output_type": "stream",
     "text": [
      "Tensor(\"Slice_8:0\", shape=(1, 1, 2), dtype=int32)\n",
      "Tensor(\"Shape_11:0\", shape=(3,), dtype=int32)\n",
      "[[[4 5]]]\n"
     ]
    }
   ],
   "source": [
    "sl_const3 = tf.slice(const3, [0, 1, 0], [1, 1, 2])\n",
    "print(sl_const3)\n",
    "print(tf.shape(sl_const3))\n",
    "tfutil.print_operation_value(sl_const3)"
   ]
  },
  {
   "cell_type": "code",
   "execution_count": 13,
   "metadata": {},
   "outputs": [
    {
     "name": "stdout",
     "output_type": "stream",
     "text": [
      "Tensor(\"Slice_9:0\", shape=(1, 1, 1), dtype=int32)\n",
      "Tensor(\"Shape_12:0\", shape=(3,), dtype=int32)\n",
      "[[[7]]]\n"
     ]
    }
   ],
   "source": [
    "sl_const3 = tf.slice(const3, [1, 0, 0], [1, 1, 1])\n",
    "print(sl_const3)\n",
    "print(tf.shape(sl_const3))\n",
    "tfutil.print_operation_value(sl_const3)"
   ]
  },
  {
   "cell_type": "code",
   "execution_count": 14,
   "metadata": {},
   "outputs": [
    {
     "name": "stdout",
     "output_type": "stream",
     "text": [
      "Tensor(\"Slice_10:0\", shape=(1, 1, 2), dtype=int32)\n",
      "Tensor(\"Shape_13:0\", shape=(3,), dtype=int32)\n",
      "[[[7 8]]]\n"
     ]
    }
   ],
   "source": [
    "sl_const3 = tf.slice(const3, [1, 0, 0], [1, 1, 2])\n",
    "print(sl_const3)\n",
    "print(tf.shape(sl_const3))\n",
    "tfutil.print_operation_value(sl_const3)"
   ]
  },
  {
   "cell_type": "code",
   "execution_count": 15,
   "metadata": {},
   "outputs": [
    {
     "name": "stdout",
     "output_type": "stream",
     "text": [
      "Tensor(\"Slice_11:0\", shape=(1, 1, 1), dtype=int32)\n",
      "Tensor(\"Shape_14:0\", shape=(3,), dtype=int32)\n",
      "[[[10]]]\n"
     ]
    }
   ],
   "source": [
    "sl_const3 = tf.slice(const3, [1, 1, 0], [1, 1, 1])\n",
    "print(sl_const3)\n",
    "print(tf.shape(sl_const3))\n",
    "tfutil.print_operation_value(sl_const3)"
   ]
  },
  {
   "cell_type": "code",
   "execution_count": 16,
   "metadata": {},
   "outputs": [
    {
     "name": "stdout",
     "output_type": "stream",
     "text": [
      "Tensor(\"Slice_12:0\", shape=(1, 1, 2), dtype=int32)\n",
      "Tensor(\"Shape_15:0\", shape=(3,), dtype=int32)\n",
      "[[[10 11]]]\n"
     ]
    }
   ],
   "source": [
    "sl_const3 = tf.slice(const3, [1, 1, 0], [1, 1, 2])\n",
    "print(sl_const3)\n",
    "print(tf.shape(sl_const3))\n",
    "tfutil.print_operation_value(sl_const3)"
   ]
  },
  {
   "cell_type": "code",
   "execution_count": 17,
   "metadata": {},
   "outputs": [
    {
     "name": "stdout",
     "output_type": "stream",
     "text": [
      "Tensor(\"Slice_13:0\", shape=(1, 1, 1), dtype=int32)\n",
      "Tensor(\"Shape_16:0\", shape=(3,), dtype=int32)\n",
      "[[[13]]]\n"
     ]
    }
   ],
   "source": [
    "sl_const3 = tf.slice(const3, [2, 0, 0], [1, 1, 1])\n",
    "print(sl_const3)\n",
    "print(tf.shape(sl_const3))\n",
    "tfutil.print_operation_value(sl_const3)"
   ]
  },
  {
   "cell_type": "code",
   "execution_count": 18,
   "metadata": {},
   "outputs": [
    {
     "name": "stdout",
     "output_type": "stream",
     "text": [
      "Tensor(\"Slice_14:0\", shape=(1, 1, 2), dtype=int32)\n",
      "Tensor(\"Shape_17:0\", shape=(3,), dtype=int32)\n",
      "[[[13 14]]]\n"
     ]
    }
   ],
   "source": [
    "sl_const3 = tf.slice(const3, [2, 0, 0], [1, 1, 2])\n",
    "print(sl_const3)\n",
    "print(tf.shape(sl_const3))\n",
    "tfutil.print_operation_value(sl_const3)"
   ]
  },
  {
   "cell_type": "code",
   "execution_count": 19,
   "metadata": {},
   "outputs": [
    {
     "name": "stdout",
     "output_type": "stream",
     "text": [
      "Tensor(\"Slice_15:0\", shape=(1, 1, 1), dtype=int32)\n",
      "Tensor(\"Shape_18:0\", shape=(3,), dtype=int32)\n",
      "[[[16]]]\n"
     ]
    }
   ],
   "source": [
    "sl_const3 = tf.slice(const3, [2, 1, 0], [1, 1, 1])\n",
    "print(sl_const3)\n",
    "print(tf.shape(sl_const3))\n",
    "tfutil.print_operation_value(sl_const3)"
   ]
  },
  {
   "cell_type": "code",
   "execution_count": 20,
   "metadata": {},
   "outputs": [
    {
     "name": "stdout",
     "output_type": "stream",
     "text": [
      "Tensor(\"Slice_16:0\", shape=(1, 1, 2), dtype=int32)\n",
      "Tensor(\"Shape_19:0\", shape=(3,), dtype=int32)\n",
      "[[[16 17]]]\n"
     ]
    }
   ],
   "source": [
    "sl_const3 = tf.slice(const3, [2, 1, 0], [1, 1, 2])\n",
    "print(sl_const3)\n",
    "print(tf.shape(sl_const3))\n",
    "tfutil.print_operation_value(sl_const3)"
   ]
  },
  {
   "cell_type": "code",
   "execution_count": 21,
   "metadata": {},
   "outputs": [
    {
     "name": "stdout",
     "output_type": "stream",
     "text": [
      "Tensor(\"Slice_17:0\", shape=(1, 1, 1), dtype=int32)\n",
      "Tensor(\"Shape_20:0\", shape=(3,), dtype=int32)\n",
      "[[[1]]]\n"
     ]
    }
   ],
   "source": [
    "# [[[1, 2, 3], [4, 5, 6]], [[7, 8, 9], [10, 11, 12]], [[13, 14, 15], [16, 17, 18]]]\n",
    "sl_const3 = tf.slice(const3, [0, 0, 0], [1, 1, 1])\n",
    "print(sl_const3)\n",
    "print(tf.shape(sl_const3))\n",
    "tfutil.print_operation_value(sl_const3)"
   ]
  },
  {
   "cell_type": "code",
   "execution_count": 22,
   "metadata": {},
   "outputs": [
    {
     "name": "stdout",
     "output_type": "stream",
     "text": [
      "Tensor(\"Slice_18:0\", shape=(1, 1, 2), dtype=int32)\n",
      "Tensor(\"Shape_21:0\", shape=(3,), dtype=int32)\n",
      "[[[1 2]]]\n"
     ]
    }
   ],
   "source": [
    "sl_const3 = tf.slice(const3, [0, 0, 0], [1, 1, 2])\n",
    "print(sl_const3)\n",
    "print(tf.shape(sl_const3))\n",
    "tfutil.print_operation_value(sl_const3)"
   ]
  },
  {
   "cell_type": "code",
   "execution_count": 23,
   "metadata": {},
   "outputs": [
    {
     "name": "stdout",
     "output_type": "stream",
     "text": [
      "Tensor(\"Slice_19:0\", shape=(1, 1, 3), dtype=int32)\n",
      "Tensor(\"Shape_22:0\", shape=(3,), dtype=int32)\n",
      "[[[1 2 3]]]\n"
     ]
    }
   ],
   "source": [
    "sl_const3 = tf.slice(const3, [0, 0, 0], [1, 1, 3])\n",
    "print(sl_const3)\n",
    "print(tf.shape(sl_const3))\n",
    "tfutil.print_operation_value(sl_const3)"
   ]
  },
  {
   "cell_type": "code",
   "execution_count": 24,
   "metadata": {},
   "outputs": [
    {
     "name": "stdout",
     "output_type": "stream",
     "text": [
      "Tensor(\"Slice_20:0\", shape=(1, 2, 1), dtype=int32)\n",
      "Tensor(\"Shape_23:0\", shape=(3,), dtype=int32)\n",
      "[[[1]\n",
      "  [4]]]\n"
     ]
    }
   ],
   "source": [
    "sl_const3 = tf.slice(const3, [0, 0, 0], [1, 2, 1])\n",
    "print(sl_const3)\n",
    "print(tf.shape(sl_const3))\n",
    "tfutil.print_operation_value(sl_const3)"
   ]
  },
  {
   "cell_type": "code",
   "execution_count": 25,
   "metadata": {},
   "outputs": [
    {
     "name": "stdout",
     "output_type": "stream",
     "text": [
      "Tensor(\"Slice_21:0\", shape=(1, 2, 2), dtype=int32)\n",
      "Tensor(\"Shape_24:0\", shape=(3,), dtype=int32)\n",
      "[[[1 2]\n",
      "  [4 5]]]\n"
     ]
    }
   ],
   "source": [
    "sl_const3 = tf.slice(const3, [0, 0, 0], [1, 2, 2])\n",
    "print(sl_const3)\n",
    "print(tf.shape(sl_const3))\n",
    "tfutil.print_operation_value(sl_const3)"
   ]
  },
  {
   "cell_type": "code",
   "execution_count": 26,
   "metadata": {},
   "outputs": [
    {
     "name": "stdout",
     "output_type": "stream",
     "text": [
      "Tensor(\"Slice_22:0\", shape=(1, 2, 3), dtype=int32)\n",
      "Tensor(\"Shape_25:0\", shape=(3,), dtype=int32)\n",
      "[[[1 2 3]\n",
      "  [4 5 6]]]\n"
     ]
    }
   ],
   "source": [
    "sl_const3 = tf.slice(const3, [0, 0, 0], [1, 2, 3])\n",
    "print(sl_const3)\n",
    "print(tf.shape(sl_const3))\n",
    "tfutil.print_operation_value(sl_const3)"
   ]
  },
  {
   "cell_type": "code",
   "execution_count": 27,
   "metadata": {},
   "outputs": [
    {
     "name": "stdout",
     "output_type": "stream",
     "text": [
      "Tensor(\"Slice_23:0\", shape=(3, 1, 1), dtype=int32)\n",
      "Tensor(\"Shape_26:0\", shape=(3,), dtype=int32)\n",
      "[[[ 1]]\n",
      "\n",
      " [[ 7]]\n",
      "\n",
      " [[13]]]\n"
     ]
    }
   ],
   "source": [
    "sl_const3 = tf.slice(const3, [0, 0, 0], [3, 1, 1])\n",
    "print(sl_const3)\n",
    "print(tf.shape(sl_const3))\n",
    "tfutil.print_operation_value(sl_const3)"
   ]
  },
  {
   "cell_type": "code",
   "execution_count": 28,
   "metadata": {},
   "outputs": [
    {
     "name": "stdout",
     "output_type": "stream",
     "text": [
      "Tensor(\"Slice_24:0\", shape=(3, 2, 1), dtype=int32)\n",
      "Tensor(\"Shape_27:0\", shape=(3,), dtype=int32)\n",
      "[[[ 1]\n",
      "  [ 4]]\n",
      "\n",
      " [[ 7]\n",
      "  [10]]\n",
      "\n",
      " [[13]\n",
      "  [16]]]\n"
     ]
    }
   ],
   "source": [
    "sl_const3 = tf.slice(const3, [0, 0, 0], [3, 2, 1])\n",
    "print(sl_const3)\n",
    "print(tf.shape(sl_const3))\n",
    "tfutil.print_operation_value(sl_const3)"
   ]
  },
  {
   "cell_type": "code",
   "execution_count": 29,
   "metadata": {},
   "outputs": [
    {
     "name": "stdout",
     "output_type": "stream",
     "text": [
      "Tensor(\"Slice_25:0\", shape=(3, 1, 2), dtype=int32)\n",
      "Tensor(\"Shape_28:0\", shape=(3,), dtype=int32)\n",
      "[[[ 1  2]]\n",
      "\n",
      " [[ 7  8]]\n",
      "\n",
      " [[13 14]]]\n"
     ]
    }
   ],
   "source": [
    "sl_const3 = tf.slice(const3, [0, 0, 0], [3, 1, 2])\n",
    "print(sl_const3)\n",
    "print(tf.shape(sl_const3))\n",
    "tfutil.print_operation_value(sl_const3)"
   ]
  },
  {
   "cell_type": "code",
   "execution_count": 30,
   "metadata": {},
   "outputs": [
    {
     "name": "stdout",
     "output_type": "stream",
     "text": [
      "Tensor(\"Slice_26:0\", shape=(3, 2, 2), dtype=int32)\n",
      "Tensor(\"Shape_29:0\", shape=(3,), dtype=int32)\n",
      "[[[ 1  2]\n",
      "  [ 4  5]]\n",
      "\n",
      " [[ 7  8]\n",
      "  [10 11]]\n",
      "\n",
      " [[13 14]\n",
      "  [16 17]]]\n"
     ]
    }
   ],
   "source": [
    "sl_const3 = tf.slice(const3, [0, 0, 0], [3, 2, 2])\n",
    "print(sl_const3)\n",
    "print(tf.shape(sl_const3))\n",
    "tfutil.print_operation_value(sl_const3)"
   ]
  },
  {
   "cell_type": "code",
   "execution_count": 31,
   "metadata": {},
   "outputs": [
    {
     "name": "stdout",
     "output_type": "stream",
     "text": [
      "Tensor(\"Slice_27:0\", shape=(3, 1, 3), dtype=int32)\n",
      "Tensor(\"Shape_30:0\", shape=(3,), dtype=int32)\n",
      "[[[ 1  2  3]]\n",
      "\n",
      " [[ 7  8  9]]\n",
      "\n",
      " [[13 14 15]]]\n"
     ]
    }
   ],
   "source": [
    "sl_const3 = tf.slice(const3, [0, 0, 0], [3, 1, 3])\n",
    "print(sl_const3)\n",
    "print(tf.shape(sl_const3))\n",
    "tfutil.print_operation_value(sl_const3)"
   ]
  },
  {
   "cell_type": "code",
   "execution_count": 32,
   "metadata": {},
   "outputs": [
    {
     "name": "stdout",
     "output_type": "stream",
     "text": [
      "Tensor(\"Slice_28:0\", shape=(3, 2, 3), dtype=int32)\n",
      "Tensor(\"Shape_31:0\", shape=(3,), dtype=int32)\n",
      "[[[ 1  2  3]\n",
      "  [ 4  5  6]]\n",
      "\n",
      " [[ 7  8  9]\n",
      "  [10 11 12]]\n",
      "\n",
      " [[13 14 15]\n",
      "  [16 17 18]]]\n"
     ]
    }
   ],
   "source": [
    "sl_const3 = tf.slice(const3, [0, 0, 0], [3, 2, 3])\n",
    "print(sl_const3)\n",
    "print(tf.shape(sl_const3))\n",
    "tfutil.print_operation_value(sl_const3)"
   ]
  }
 ],
 "metadata": {
  "kernelspec": {
   "display_name": "Python 2",
   "language": "python",
   "name": "python2"
  },
  "language_info": {
   "codemirror_mode": {
    "name": "ipython",
    "version": 2
   },
   "file_extension": ".py",
   "mimetype": "text/x-python",
   "name": "python",
   "nbconvert_exporter": "python",
   "pygments_lexer": "ipython2",
   "version": "2.7.12"
  }
 },
 "nbformat": 4,
 "nbformat_minor": 2
}
