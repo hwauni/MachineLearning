{
 "cells": [
  {
   "cell_type": "code",
   "execution_count": 1,
   "metadata": {},
   "outputs": [],
   "source": [
    "import tensorflow as tf\n",
    "import numpy as np\n",
    "import tfutil"
   ]
  },
  {
   "cell_type": "code",
   "execution_count": 2,
   "metadata": {
    "scrolled": true
   },
   "outputs": [
    {
     "name": "stdout",
     "output_type": "stream",
     "text": [
      "Tensor(\"Const:0\", shape=(1, 2, 2, 1), dtype=int32)\n",
      "Tensor(\"Shape:0\", shape=(4,), dtype=int32)\n",
      "[[[[1]\n",
      "   [2]]\n",
      "\n",
      "  [[3]\n",
      "   [4]]]]\n"
     ]
    }
   ],
   "source": [
    "x = [[[[1], [2]], [[3], [4]]]]\n",
    "const1 = tf.constant(np.array(x), dtype=tf.int32)\n",
    "print(const1)\n",
    "print(tf.shape(const1))\n",
    "tfutil.print_constant(const1)"
   ]
  },
  {
   "cell_type": "code",
   "execution_count": 3,
   "metadata": {},
   "outputs": [
    {
     "name": "stdout",
     "output_type": "stream",
     "text": [
      "Tensor(\"SpaceToBatchND:0\", shape=(1, 2, 2, 1), dtype=int32)\n",
      "Tensor(\"Shape_1:0\", shape=(4,), dtype=int32)\n",
      "[[[[1]\n",
      "   [2]]\n",
      "\n",
      "  [[3]\n",
      "   [4]]]]\n"
     ]
    }
   ],
   "source": [
    "# return: [batch*block_size*block_size, height_pad/block_size, width_pad/block_size, depth]\n",
    "# paddings = [[pad_top, pad_bottom], [pad_left, pad_right]]\n",
    "# height_pad = pad_top + height + pad_bottom\n",
    "# width_pad = pad_left + width + pad_right\n",
    "# blocksize = Both height_pad and width_pad must be divisible by block_size.\n",
    "paddings = [[0, 0],[0, 0]]\n",
    "blocksize = 1\n",
    "stb_const1 = tf.space_to_batch(const1, paddings, blocksize)\n",
    "print(stb_const1)\n",
    "print(tf.shape(stb_const1))\n",
    "tfutil.print_operation_value(stb_const1)"
   ]
  },
  {
   "cell_type": "code",
   "execution_count": 4,
   "metadata": {},
   "outputs": [
    {
     "name": "stdout",
     "output_type": "stream",
     "text": [
      "Tensor(\"SpaceToBatchND_1:0\", shape=(1, 2, 3, 1), dtype=int32)\n",
      "Tensor(\"Shape_2:0\", shape=(4,), dtype=int32)\n",
      "[[[[1]\n",
      "   [2]\n",
      "   [0]]\n",
      "\n",
      "  [[3]\n",
      "   [4]\n",
      "   [0]]]]\n"
     ]
    }
   ],
   "source": [
    "paddings = [[0, 0],[0, 1]]\n",
    "blocksize = 1\n",
    "stb_const1 = tf.space_to_batch(const1, paddings, blocksize)\n",
    "print(stb_const1)\n",
    "print(tf.shape(stb_const1))\n",
    "tfutil.print_operation_value(stb_const1)"
   ]
  },
  {
   "cell_type": "code",
   "execution_count": 5,
   "metadata": {},
   "outputs": [
    {
     "name": "stdout",
     "output_type": "stream",
     "text": [
      "Tensor(\"SpaceToBatchND_2:0\", shape=(1, 2, 4, 1), dtype=int32)\n",
      "Tensor(\"Shape_3:0\", shape=(4,), dtype=int32)\n",
      "[[[[0]\n",
      "   [1]\n",
      "   [2]\n",
      "   [0]]\n",
      "\n",
      "  [[0]\n",
      "   [3]\n",
      "   [4]\n",
      "   [0]]]]\n"
     ]
    }
   ],
   "source": [
    "paddings = [[0, 0],[1, 1]]\n",
    "blocksize = 1\n",
    "stb_const1 = tf.space_to_batch(const1, paddings, blocksize)\n",
    "print(stb_const1)\n",
    "print(tf.shape(stb_const1))\n",
    "tfutil.print_operation_value(stb_const1)"
   ]
  },
  {
   "cell_type": "code",
   "execution_count": 6,
   "metadata": {},
   "outputs": [
    {
     "name": "stdout",
     "output_type": "stream",
     "text": [
      "Tensor(\"SpaceToBatchND_3:0\", shape=(1, 3, 4, 1), dtype=int32)\n",
      "Tensor(\"Shape_4:0\", shape=(4,), dtype=int32)\n",
      "[[[[0]\n",
      "   [1]\n",
      "   [2]\n",
      "   [0]]\n",
      "\n",
      "  [[0]\n",
      "   [3]\n",
      "   [4]\n",
      "   [0]]\n",
      "\n",
      "  [[0]\n",
      "   [0]\n",
      "   [0]\n",
      "   [0]]]]\n"
     ]
    }
   ],
   "source": [
    "paddings = [[0, 1],[1, 1]]\n",
    "blocksize = 1\n",
    "stb_const1 = tf.space_to_batch(const1, paddings, blocksize)\n",
    "print(stb_const1)\n",
    "print(tf.shape(stb_const1))\n",
    "tfutil.print_operation_value(stb_const1)"
   ]
  },
  {
   "cell_type": "code",
   "execution_count": 7,
   "metadata": {},
   "outputs": [
    {
     "name": "stdout",
     "output_type": "stream",
     "text": [
      "Tensor(\"SpaceToBatchND_4:0\", shape=(1, 4, 4, 1), dtype=int32)\n",
      "Tensor(\"Shape_5:0\", shape=(4,), dtype=int32)\n",
      "[[[[0]\n",
      "   [0]\n",
      "   [0]\n",
      "   [0]]\n",
      "\n",
      "  [[0]\n",
      "   [1]\n",
      "   [2]\n",
      "   [0]]\n",
      "\n",
      "  [[0]\n",
      "   [3]\n",
      "   [4]\n",
      "   [0]]\n",
      "\n",
      "  [[0]\n",
      "   [0]\n",
      "   [0]\n",
      "   [0]]]]\n"
     ]
    }
   ],
   "source": [
    "paddings = [[1, 1],[1, 1]]\n",
    "blocksize = 1\n",
    "stb_const1 = tf.space_to_batch(const1, paddings, blocksize)\n",
    "print(stb_const1)\n",
    "print(tf.shape(stb_const1))\n",
    "tfutil.print_operation_value(stb_const1)"
   ]
  },
  {
   "cell_type": "code",
   "execution_count": 8,
   "metadata": {},
   "outputs": [
    {
     "name": "stdout",
     "output_type": "stream",
     "text": [
      "Tensor(\"SpaceToBatchND_5:0\", shape=(4, 1, 1, 1), dtype=int32)\n",
      "Tensor(\"Shape_6:0\", shape=(4,), dtype=int32)\n",
      "[[[[1]]]\n",
      "\n",
      "\n",
      " [[[2]]]\n",
      "\n",
      "\n",
      " [[[3]]]\n",
      "\n",
      "\n",
      " [[[4]]]]\n"
     ]
    }
   ],
   "source": [
    "paddings = [[0, 0],[0, 0]]\n",
    "blocksize = 2\n",
    "stb_const1 = tf.space_to_batch(const1, paddings, blocksize)\n",
    "print(stb_const1)\n",
    "print(tf.shape(stb_const1))\n",
    "tfutil.print_operation_value(stb_const1)"
   ]
  },
  {
   "cell_type": "code",
   "execution_count": 9,
   "metadata": {},
   "outputs": [
    {
     "name": "stdout",
     "output_type": "stream",
     "text": [
      "Tensor(\"SpaceToBatchND_6:0\", shape=(4, 1, 2, 1), dtype=int32)\n",
      "Tensor(\"Shape_7:0\", shape=(4,), dtype=int32)\n",
      "[[[[0]\n",
      "   [2]]]\n",
      "\n",
      "\n",
      " [[[1]\n",
      "   [0]]]\n",
      "\n",
      "\n",
      " [[[0]\n",
      "   [4]]]\n",
      "\n",
      "\n",
      " [[[3]\n",
      "   [0]]]]\n"
     ]
    }
   ],
   "source": [
    "# [batch*block_size*block_size, height_pad/block_size, width_pad/block_size, depth]\n",
    "# blocksize = Both height_pad and width_pad must be divisible by block_size.\n",
    "paddings = [[0, 0],[1, 1]]\n",
    "blocksize = 2\n",
    "stb_const1 = tf.space_to_batch(const1, paddings, blocksize)\n",
    "print(stb_const1)\n",
    "print(tf.shape(stb_const1))\n",
    "tfutil.print_operation_value(stb_const1)"
   ]
  },
  {
   "cell_type": "code",
   "execution_count": 10,
   "metadata": {},
   "outputs": [
    {
     "name": "stdout",
     "output_type": "stream",
     "text": [
      "Tensor(\"SpaceToBatchND_7:0\", shape=(4, 2, 2, 1), dtype=int32)\n",
      "Tensor(\"Shape_8:0\", shape=(4,), dtype=int32)\n",
      "[[[[0]\n",
      "   [0]]\n",
      "\n",
      "  [[0]\n",
      "   [4]]]\n",
      "\n",
      "\n",
      " [[[0]\n",
      "   [0]]\n",
      "\n",
      "  [[3]\n",
      "   [0]]]\n",
      "\n",
      "\n",
      " [[[0]\n",
      "   [2]]\n",
      "\n",
      "  [[0]\n",
      "   [0]]]\n",
      "\n",
      "\n",
      " [[[1]\n",
      "   [0]]\n",
      "\n",
      "  [[0]\n",
      "   [0]]]]\n"
     ]
    }
   ],
   "source": [
    "# [batch*block_size*block_size, height_pad/block_size, width_pad/block_size, depth]\n",
    "# blocksize = Both height_pad and width_pad must be divisible by block_size.\n",
    "paddings = [[1, 1],[1, 1]]\n",
    "blocksize = 2\n",
    "stb_const1 = tf.space_to_batch(const1, paddings, blocksize)\n",
    "print(stb_const1)\n",
    "print(tf.shape(stb_const1))\n",
    "tfutil.print_operation_value(stb_const1)"
   ]
  },
  {
   "cell_type": "code",
   "execution_count": 11,
   "metadata": {},
   "outputs": [
    {
     "name": "stdout",
     "output_type": "stream",
     "text": [
      "Tensor(\"Const_1:0\", shape=(1, 2, 2, 3), dtype=int32)\n",
      "Tensor(\"Shape_9:0\", shape=(4,), dtype=int32)\n",
      "[[[[ 1  2  3]\n",
      "   [ 4  5  6]]\n",
      "\n",
      "  [[ 7  8  9]\n",
      "   [10 11 12]]]]\n"
     ]
    }
   ],
   "source": [
    "x = [[[[1, 2, 3], [4, 5, 6]], [[7, 8, 9], [10, 11, 12]]]]\n",
    "const2 = tf.constant(np.array(x), dtype=tf.int32)\n",
    "print(const2)\n",
    "print(tf.shape(const2))\n",
    "tfutil.print_constant(const2)"
   ]
  },
  {
   "cell_type": "code",
   "execution_count": 12,
   "metadata": {},
   "outputs": [
    {
     "name": "stdout",
     "output_type": "stream",
     "text": [
      "Tensor(\"SpaceToBatchND_8:0\", shape=(4, 1, 1, 3), dtype=int32)\n",
      "Tensor(\"Shape_10:0\", shape=(4,), dtype=int32)\n",
      "[[[[ 1  2  3]]]\n",
      "\n",
      "\n",
      " [[[ 4  5  6]]]\n",
      "\n",
      "\n",
      " [[[ 7  8  9]]]\n",
      "\n",
      "\n",
      " [[[10 11 12]]]]\n"
     ]
    }
   ],
   "source": [
    "paddings = [[0, 0],[0, 0]]\n",
    "blocksize = 2\n",
    "stb_const2 = tf.space_to_batch(const2, paddings, blocksize)\n",
    "print(stb_const2)\n",
    "print(tf.shape(stb_const2))\n",
    "tfutil.print_operation_value(stb_const2)"
   ]
  },
  {
   "cell_type": "code",
   "execution_count": 13,
   "metadata": {},
   "outputs": [
    {
     "name": "stdout",
     "output_type": "stream",
     "text": [
      "Tensor(\"Const_2:0\", shape=(1, 4, 4, 1), dtype=int32)\n",
      "Tensor(\"Shape_11:0\", shape=(4,), dtype=int32)\n",
      "[[[[ 1]\n",
      "   [ 2]\n",
      "   [ 3]\n",
      "   [ 4]]\n",
      "\n",
      "  [[ 5]\n",
      "   [ 6]\n",
      "   [ 7]\n",
      "   [ 8]]\n",
      "\n",
      "  [[ 9]\n",
      "   [10]\n",
      "   [11]\n",
      "   [12]]\n",
      "\n",
      "  [[13]\n",
      "   [14]\n",
      "   [15]\n",
      "   [16]]]]\n"
     ]
    }
   ],
   "source": [
    "x = [[[[1], [2], [3], [4]], [[5], [6], [7], [8]], [[9], [10], [11], [12]], [[13], [14], [15], [16]]]]\n",
    "const3 = tf.constant(np.array(x), dtype=tf.int32)\n",
    "print(const3)\n",
    "print(tf.shape(const3))\n",
    "tfutil.print_constant(const3)"
   ]
  },
  {
   "cell_type": "code",
   "execution_count": 14,
   "metadata": {},
   "outputs": [
    {
     "name": "stdout",
     "output_type": "stream",
     "text": [
      "Tensor(\"SpaceToBatchND_9:0\", shape=(4, 2, 2, 1), dtype=int32)\n",
      "Tensor(\"Shape_12:0\", shape=(4,), dtype=int32)\n",
      "[[[[ 1]\n",
      "   [ 3]]\n",
      "\n",
      "  [[ 9]\n",
      "   [11]]]\n",
      "\n",
      "\n",
      " [[[ 2]\n",
      "   [ 4]]\n",
      "\n",
      "  [[10]\n",
      "   [12]]]\n",
      "\n",
      "\n",
      " [[[ 5]\n",
      "   [ 7]]\n",
      "\n",
      "  [[13]\n",
      "   [15]]]\n",
      "\n",
      "\n",
      " [[[ 6]\n",
      "   [ 8]]\n",
      "\n",
      "  [[14]\n",
      "   [16]]]]\n"
     ]
    }
   ],
   "source": [
    "paddings = [[0, 0],[0, 0]]\n",
    "blocksize = 2\n",
    "stb_const3 = tf.space_to_batch(const3, paddings, blocksize)\n",
    "print(stb_const3)\n",
    "print(tf.shape(stb_const3))\n",
    "tfutil.print_operation_value(stb_const3)"
   ]
  },
  {
   "cell_type": "code",
   "execution_count": 15,
   "metadata": {},
   "outputs": [
    {
     "name": "stdout",
     "output_type": "stream",
     "text": [
      "Tensor(\"Const_3:0\", shape=(2, 2, 4, 1), dtype=int32)\n",
      "Tensor(\"Shape_13:0\", shape=(4,), dtype=int32)\n",
      "[[[[ 1]\n",
      "   [ 2]\n",
      "   [ 3]\n",
      "   [ 4]]\n",
      "\n",
      "  [[ 5]\n",
      "   [ 6]\n",
      "   [ 7]\n",
      "   [ 8]]]\n",
      "\n",
      "\n",
      " [[[ 9]\n",
      "   [10]\n",
      "   [11]\n",
      "   [12]]\n",
      "\n",
      "  [[13]\n",
      "   [14]\n",
      "   [15]\n",
      "   [16]]]]\n"
     ]
    }
   ],
   "source": [
    "x = [[[[1], [2], [3], [4]], [[5], [6], [7], [8]]], [[[9], [10], [11], [12]], [[13], [14], [15], [16]]]]\n",
    "const4 = tf.constant(np.array(x), dtype=tf.int32)\n",
    "print(const4)\n",
    "print(tf.shape(const4))\n",
    "tfutil.print_constant(const4)"
   ]
  },
  {
   "cell_type": "code",
   "execution_count": 16,
   "metadata": {},
   "outputs": [
    {
     "name": "stdout",
     "output_type": "stream",
     "text": [
      "Tensor(\"SpaceToBatchND_10:0\", shape=(8, 1, 2, 1), dtype=int32)\n",
      "Tensor(\"Shape_14:0\", shape=(4,), dtype=int32)\n",
      "[[[[ 1]\n",
      "   [ 3]]]\n",
      "\n",
      "\n",
      " [[[ 9]\n",
      "   [11]]]\n",
      "\n",
      "\n",
      " [[[ 2]\n",
      "   [ 4]]]\n",
      "\n",
      "\n",
      " [[[10]\n",
      "   [12]]]\n",
      "\n",
      "\n",
      " [[[ 5]\n",
      "   [ 7]]]\n",
      "\n",
      "\n",
      " [[[13]\n",
      "   [15]]]\n",
      "\n",
      "\n",
      " [[[ 6]\n",
      "   [ 8]]]\n",
      "\n",
      "\n",
      " [[[14]\n",
      "   [16]]]]\n"
     ]
    }
   ],
   "source": [
    "paddings = [[0, 0],[0, 0]]\n",
    "blocksize = 2\n",
    "stb_const4 = tf.space_to_batch(const4, paddings, blocksize)\n",
    "print(stb_const4)\n",
    "print(tf.shape(stb_const4))\n",
    "tfutil.print_operation_value(stb_const4)"
   ]
  }
 ],
 "metadata": {
  "kernelspec": {
   "display_name": "Python 2",
   "language": "python",
   "name": "python2"
  },
  "language_info": {
   "codemirror_mode": {
    "name": "ipython",
    "version": 2
   },
   "file_extension": ".py",
   "mimetype": "text/x-python",
   "name": "python",
   "nbconvert_exporter": "python",
   "pygments_lexer": "ipython2",
   "version": "2.7.12"
  }
 },
 "nbformat": 4,
 "nbformat_minor": 2
}
