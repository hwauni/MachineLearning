{
 "cells": [
  {
   "cell_type": "code",
   "execution_count": 15,
   "metadata": {},
   "outputs": [
    {
     "name": "stdout",
     "output_type": "stream",
     "text": [
      "Tensor(\"Const_5:0\", shape=(1, 2, 2, 1), dtype=int32)\n",
      "Tensor(\"Shape_8:0\", shape=(4,), dtype=int32)\n",
      "[[[[1]\n",
      "   [2]]\n",
      "\n",
      "  [[3]\n",
      "   [4]]]]\n"
     ]
    }
   ],
   "source": [
    "import tensorflow as tf\n",
    "import numpy as np\n",
    "import tfutil\n",
    "\n",
    "\n",
    "images = [[[[1], [2]], [[3], [4]]]]\n",
    "\n",
    "const1 = tf.constant(np.array(images), dtype=tf.int32)\n",
    "print(const1)\n",
    "print(tf.shape(const1))\n",
    "tfutil.print_constant(const1)"
   ]
  },
  {
   "cell_type": "code",
   "execution_count": 16,
   "metadata": {},
   "outputs": [
    {
     "name": "stdout",
     "output_type": "stream",
     "text": [
      "Tensor(\"SpaceToBatchND_9:0\", shape=(4, 1, 1, 1), dtype=int32)\n",
      "Tensor(\"Shape_9:0\", shape=(4,), dtype=int32)\n",
      "[[[[1]]]\n",
      "\n",
      "\n",
      " [[[2]]]\n",
      "\n",
      "\n",
      " [[[3]]]\n",
      "\n",
      "\n",
      " [[[4]]]]\n"
     ]
    }
   ],
   "source": [
    "paddings = [[0, 0],[0, 0]]\n",
    "blocksize = 2\n",
    "stb_const1 = tf.space_to_batch(const1, paddings, blocksize)\n",
    "print(stb_const1)\n",
    "print(tf.shape(stb_const1))\n",
    "tfutil.print_operation_value(stb_const1)"
   ]
  },
  {
   "cell_type": "code",
   "execution_count": 17,
   "metadata": {},
   "outputs": [
    {
     "name": "stdout",
     "output_type": "stream",
     "text": [
      "Tensor(\"Const_6:0\", shape=(1, 2, 2, 1), dtype=int32)\n",
      "Tensor(\"Shape_10:0\", shape=(4,), dtype=int32)\n",
      "[[[[1]\n",
      "   [2]]\n",
      "\n",
      "  [[3]\n",
      "   [4]]]]\n"
     ]
    }
   ],
   "source": [
    "x = [[[[1, 2, 3], [4, 5, 6]], [[7, 8, 9], [10, 11, 12]]]]\n",
    "const2 = tf.constant(np.array(images), dtype=tf.int32)\n",
    "print(const2)\n",
    "print(tf.shape(const2))\n",
    "tfutil.print_constant(const2)"
   ]
  },
  {
   "cell_type": "code",
   "execution_count": 18,
   "metadata": {},
   "outputs": [
    {
     "name": "stdout",
     "output_type": "stream",
     "text": [
      "Tensor(\"SpaceToBatchND_10:0\", shape=(4, 1, 1, 1), dtype=int32)\n",
      "Tensor(\"Shape_11:0\", shape=(4,), dtype=int32)\n",
      "[[[[1]]]\n",
      "\n",
      "\n",
      " [[[2]]]\n",
      "\n",
      "\n",
      " [[[3]]]\n",
      "\n",
      "\n",
      " [[[4]]]]\n"
     ]
    }
   ],
   "source": [
    "paddings = [[0, 0],[0, 0]]\n",
    "blocksize = 2\n",
    "stb_const2 = tf.space_to_batch(const2, paddings, blocksize)\n",
    "print(stb_const2)\n",
    "print(tf.shape(stb_const2))\n",
    "tfutil.print_operation_value(stb_const2)"
   ]
  },
  {
   "cell_type": "code",
   "execution_count": 19,
   "metadata": {},
   "outputs": [
    {
     "name": "stdout",
     "output_type": "stream",
     "text": [
      "Tensor(\"Const_7:0\", shape=(1, 2, 2, 1), dtype=int32)\n",
      "Tensor(\"Shape_12:0\", shape=(4,), dtype=int32)\n",
      "[[[[1]\n",
      "   [2]]\n",
      "\n",
      "  [[3]\n",
      "   [4]]]]\n"
     ]
    }
   ],
   "source": [
    "x = [[[[1], [2], [3], [4]], [[5], [6], [7], [8]], [[9], [10], [11], [12]], [[13], [14], [15], [16]]]]\n",
    "const3 = tf.constant(np.array(images), dtype=tf.int32)\n",
    "print(const3)\n",
    "print(tf.shape(const3))\n",
    "tfutil.print_constant(const3)"
   ]
  },
  {
   "cell_type": "code",
   "execution_count": 20,
   "metadata": {},
   "outputs": [
    {
     "name": "stdout",
     "output_type": "stream",
     "text": [
      "Tensor(\"SpaceToBatchND_11:0\", shape=(4, 1, 1, 1), dtype=int32)\n",
      "Tensor(\"Shape_13:0\", shape=(4,), dtype=int32)\n",
      "[[[[1]]]\n",
      "\n",
      "\n",
      " [[[2]]]\n",
      "\n",
      "\n",
      " [[[3]]]\n",
      "\n",
      "\n",
      " [[[4]]]]\n"
     ]
    }
   ],
   "source": [
    "paddings = [[0, 0],[0, 0]]\n",
    "blocksize = 2\n",
    "stb_const3 = tf.space_to_batch(const3, paddings, blocksize)\n",
    "print(stb_const3)\n",
    "print(tf.shape(stb_const3))\n",
    "tfutil.print_operation_value(stb_const3)\n"
   ]
  },
  {
   "cell_type": "code",
   "execution_count": 21,
   "metadata": {},
   "outputs": [
    {
     "name": "stdout",
     "output_type": "stream",
     "text": [
      "Tensor(\"Const_8:0\", shape=(1, 2, 2, 1), dtype=int32)\n",
      "Tensor(\"Shape_14:0\", shape=(4,), dtype=int32)\n",
      "[[[[1]\n",
      "   [2]]\n",
      "\n",
      "  [[3]\n",
      "   [4]]]]\n"
     ]
    }
   ],
   "source": [
    "x = [[[[1], [2], [3], [4]], [[5], [6], [7], [8]]], [[[9], [10], [11], [12]], [[13], [14], [15], [16]]]]\n",
    "const4 = tf.constant(np.array(images), dtype=tf.int32)\n",
    "print(const4)\n",
    "print(tf.shape(const4))\n",
    "tfutil.print_constant(const4)\n"
   ]
  },
  {
   "cell_type": "code",
   "execution_count": 22,
   "metadata": {},
   "outputs": [
    {
     "name": "stdout",
     "output_type": "stream",
     "text": [
      "Tensor(\"SpaceToBatchND_12:0\", shape=(4, 1, 1, 1), dtype=int32)\n",
      "Tensor(\"Shape_15:0\", shape=(4,), dtype=int32)\n",
      "[[[[1]]]\n",
      "\n",
      "\n",
      " [[[2]]]\n",
      "\n",
      "\n",
      " [[[3]]]\n",
      "\n",
      "\n",
      " [[[4]]]]\n"
     ]
    }
   ],
   "source": [
    "paddings = [[0, 0],[0, 0]]\n",
    "blocksize = 2\n",
    "stb_const4 = tf.space_to_batch(const4, paddings, blocksize)\n",
    "print(stb_const4)\n",
    "print(tf.shape(stb_const4))\n",
    "tfutil.print_operation_value(stb_const4)\n"
   ]
  }
 ],
 "metadata": {
  "kernelspec": {
   "display_name": "Python 2",
   "language": "python",
   "name": "python2"
  },
  "language_info": {
   "codemirror_mode": {
    "name": "ipython",
    "version": 2
   },
   "file_extension": ".py",
   "mimetype": "text/x-python",
   "name": "python",
   "nbconvert_exporter": "python",
   "pygments_lexer": "ipython2",
   "version": "2.7.12"
  }
 },
 "nbformat": 4,
 "nbformat_minor": 2
}
