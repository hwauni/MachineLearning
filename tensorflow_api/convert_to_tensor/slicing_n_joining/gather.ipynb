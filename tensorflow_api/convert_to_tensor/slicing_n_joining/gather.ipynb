{
 "cells": [
  {
   "cell_type": "code",
   "execution_count": 1,
   "metadata": {},
   "outputs": [],
   "source": [
    "import tensorflow as tf\n",
    "import numpy as np\n",
    "import tfutil"
   ]
  },
  {
   "cell_type": "code",
   "execution_count": 2,
   "metadata": {},
   "outputs": [
    {
     "name": "stdout",
     "output_type": "stream",
     "text": [
      "Tensor(\"Const:0\", shape=(3, 3), dtype=int32)\n",
      "Tensor(\"Shape:0\", shape=(2,), dtype=int32)\n",
      "[[1 2 3]\n",
      " [4 5 6]\n",
      " [7 8 9]]\n"
     ]
    }
   ],
   "source": [
    "x = [[1, 2, 3],\n",
    "     [4, 5, 6],  \n",
    "     [7, 8, 9]] \n",
    "const1 = tf.constant(np.array(x), dtype=tf.int32)\n",
    "print(const1)\n",
    "print(tf.shape(const1))\n",
    "tfutil.print_constant(const1)"
   ]
  },
  {
   "cell_type": "code",
   "execution_count": 3,
   "metadata": {},
   "outputs": [
    {
     "name": "stdout",
     "output_type": "stream",
     "text": [
      "Tensor(\"Const_1:0\", shape=(3,), dtype=int32)\n",
      "Tensor(\"Shape_1:0\", shape=(1,), dtype=int32)\n",
      "[1 0 2]\n"
     ]
    }
   ],
   "source": [
    "idx_const2 = tf.constant([1, 0, 2])\n",
    "print(idx_const2)\n",
    "print(tf.shape(idx_const2))\n",
    "tfutil.print_constant(idx_const2)"
   ]
  },
  {
   "cell_type": "code",
   "execution_count": 4,
   "metadata": {},
   "outputs": [
    {
     "name": "stdout",
     "output_type": "stream",
     "text": [
      "Tensor(\"add:0\", shape=(3,), dtype=int32)\n",
      "Tensor(\"Shape_2:0\", shape=(1,), dtype=int32)\n",
      "[1 3 8]\n"
     ]
    }
   ],
   "source": [
    "idx_flattened = tf.range(0, const1.shape[0]) * const1.shape[1] + idx_const2\n",
    "print(idx_flattened)\n",
    "print(tf.shape(idx_flattened))\n",
    "tfutil.print_constant(idx_flattened)"
   ]
  },
  {
   "cell_type": "code",
   "execution_count": 5,
   "metadata": {},
   "outputs": [
    {
     "name": "stdout",
     "output_type": "stream",
     "text": [
      "3\n",
      "Tensor(\"range_1:0\", shape=(3,), dtype=int32)\n",
      "Tensor(\"Shape_3:0\", shape=(1,), dtype=int32)\n",
      "[0 1 2]\n"
     ]
    }
   ],
   "source": [
    "# partial code 1\n",
    "print(const1.shape[0])\n",
    "tmp1 = tf.range(0, const1.shape[0])\n",
    "print(tmp1)\n",
    "print(tf.shape(tmp1))\n",
    "tfutil.print_constant(tmp1)"
   ]
  },
  {
   "cell_type": "code",
   "execution_count": 6,
   "metadata": {},
   "outputs": [
    {
     "name": "stdout",
     "output_type": "stream",
     "text": [
      "3\n",
      "Tensor(\"mul_1:0\", shape=(3,), dtype=int32)\n",
      "Tensor(\"Shape_4:0\", shape=(1,), dtype=int32)\n",
      "[0 3 6]\n"
     ]
    }
   ],
   "source": [
    "# partial code 2\n",
    "print(const1.shape[1])\n",
    "tmp2 = tf.range(0, const1.shape[0]) * const1.shape[1]\n",
    "print(tmp2)\n",
    "print(tf.shape(tmp2))\n",
    "tfutil.print_constant(tmp2)"
   ]
  },
  {
   "cell_type": "code",
   "execution_count": 7,
   "metadata": {},
   "outputs": [
    {
     "name": "stdout",
     "output_type": "stream",
     "text": [
      "Tensor(\"add_1:0\", shape=(3,), dtype=int32)\n",
      "Tensor(\"Shape_5:0\", shape=(1,), dtype=int32)\n",
      "[1 3 8]\n"
     ]
    }
   ],
   "source": [
    "# partial code 3\n",
    "tmp3 = tmp2 + idx_const2\n",
    "print(tmp3)\n",
    "print(tf.shape(tmp3))\n",
    "tfutil.print_constant(tmp3)"
   ]
  },
  {
   "cell_type": "code",
   "execution_count": 8,
   "metadata": {},
   "outputs": [
    {
     "name": "stdout",
     "output_type": "stream",
     "text": [
      "Tensor(\"Reshape:0\", shape=(9,), dtype=int32)\n",
      "Tensor(\"Shape_6:0\", shape=(1,), dtype=int32)\n",
      "[1 2 3 4 5 6 7 8 9]\n"
     ]
    }
   ],
   "source": [
    "params = tf.reshape(x, [-1])  \n",
    "print(params)\n",
    "print(tf.shape(params))\n",
    "tfutil.print_constant(params)"
   ]
  },
  {
   "cell_type": "code",
   "execution_count": 9,
   "metadata": {},
   "outputs": [
    {
     "name": "stdout",
     "output_type": "stream",
     "text": [
      "Tensor(\"Gather:0\", shape=(3,), dtype=int32)\n",
      "Tensor(\"Shape_7:0\", shape=(1,), dtype=int32)\n",
      "[2 4 9]\n"
     ]
    }
   ],
   "source": [
    "gather_const1 = tf.gather(params,         # flatten input\n",
    "              idx_flattened)  # use flattened indices\n",
    "print(gather_const1)\n",
    "print(tf.shape(gather_const1))\n",
    "tfutil.print_constant(gather_const1)"
   ]
  }
 ],
 "metadata": {
  "kernelspec": {
   "display_name": "Python 2",
   "language": "python",
   "name": "python2"
  },
  "language_info": {
   "codemirror_mode": {
    "name": "ipython",
    "version": 2
   },
   "file_extension": ".py",
   "mimetype": "text/x-python",
   "name": "python",
   "nbconvert_exporter": "python",
   "pygments_lexer": "ipython2",
   "version": "2.7.12"
  }
 },
 "nbformat": 4,
 "nbformat_minor": 2
}
