{
 "cells": [
  {
   "cell_type": "code",
   "execution_count": 1,
   "metadata": {},
   "outputs": [],
   "source": [
    "import tensorflow as tf\n",
    "import numpy as np\n",
    "import tfutil"
   ]
  },
  {
   "cell_type": "code",
   "execution_count": 2,
   "metadata": {},
   "outputs": [
    {
     "name": "stdout",
     "output_type": "stream",
     "text": [
      "Tensor(\"Const:0\", shape=(3,), dtype=int32)\n",
      "Tensor(\"Shape:0\", shape=(1,), dtype=int32)\n",
      "[1 2 3]\n"
     ]
    }
   ],
   "source": [
    "const1 = tf.constant(np.array([1, 2, 3]), dtype=tf.int32)\n",
    "print(const1)\n",
    "print(tf.shape(const1))\n",
    "tfutil.print_constant(const1)"
   ]
  },
  {
   "cell_type": "code",
   "execution_count": 3,
   "metadata": {},
   "outputs": [
    {
     "name": "stdout",
     "output_type": "stream",
     "text": [
      "Tensor(\"Const_1:0\", shape=(3,), dtype=int32)\n",
      "Tensor(\"Shape_1:0\", shape=(1,), dtype=int32)\n",
      "[4 5 6]\n"
     ]
    }
   ],
   "source": [
    "const2 = tf.constant(np.array([4, 5, 6]), dtype=tf.int32)\n",
    "print(const2)\n",
    "print(tf.shape(const2))\n",
    "tfutil.print_constant(const2)"
   ]
  },
  {
   "cell_type": "code",
   "execution_count": 4,
   "metadata": {},
   "outputs": [
    {
     "name": "stdout",
     "output_type": "stream",
     "text": [
      "Tensor(\"Const_2:0\", shape=(3,), dtype=int32)\n",
      "Tensor(\"Shape_2:0\", shape=(1,), dtype=int32)\n",
      "[7 8 9]\n"
     ]
    }
   ],
   "source": [
    "const3 = tf.constant(np.array([7, 8, 9]), dtype=tf.int32)\n",
    "print(const3)\n",
    "print(tf.shape(const3))\n",
    "tfutil.print_constant(const3)"
   ]
  },
  {
   "cell_type": "code",
   "execution_count": 5,
   "metadata": {},
   "outputs": [
    {
     "name": "stdout",
     "output_type": "stream",
     "text": [
      "Tensor(\"stack:0\", shape=(3, 3), dtype=int32)\n",
      "Tensor(\"Shape_3:0\", shape=(2,), dtype=int32)\n",
      "[[1 2 3]\n",
      " [4 5 6]\n",
      " [7 8 9]]\n"
     ]
    }
   ],
   "source": [
    "pack_const1 = tf.stack([const1, const2, const3])\n",
    "print(pack_const1)\n",
    "print(tf.shape(pack_const1))\n",
    "tfutil.print_operation_value(pack_const1)"
   ]
  },
  {
   "cell_type": "code",
   "execution_count": 6,
   "metadata": {},
   "outputs": [
    {
     "name": "stdout",
     "output_type": "stream",
     "text": [
      "Tensor(\"unstack:0\", shape=(3,), dtype=int32)\n",
      "Tensor(\"Shape_4:0\", shape=(1,), dtype=int32)\n",
      "[1 2 3]\n"
     ]
    }
   ],
   "source": [
    "up_const1, up_const2, up_const3 = tf.unstack(pack_const1)\n",
    "print(up_const1)\n",
    "print(tf.shape(up_const1))\n",
    "tfutil.print_constant(up_const1)"
   ]
  },
  {
   "cell_type": "code",
   "execution_count": 7,
   "metadata": {},
   "outputs": [
    {
     "name": "stdout",
     "output_type": "stream",
     "text": [
      "Tensor(\"unstack:1\", shape=(3,), dtype=int32)\n",
      "Tensor(\"Shape_5:0\", shape=(1,), dtype=int32)\n",
      "[4 5 6]\n"
     ]
    }
   ],
   "source": [
    "print(up_const2)\n",
    "print(tf.shape(up_const2))\n",
    "tfutil.print_constant(up_const2)"
   ]
  },
  {
   "cell_type": "code",
   "execution_count": 8,
   "metadata": {},
   "outputs": [
    {
     "name": "stdout",
     "output_type": "stream",
     "text": [
      "Tensor(\"unstack:2\", shape=(3,), dtype=int32)\n",
      "Tensor(\"Shape_6:0\", shape=(1,), dtype=int32)\n",
      "[7 8 9]\n"
     ]
    }
   ],
   "source": [
    "print(up_const3)\n",
    "print(tf.shape(up_const3))\n",
    "tfutil.print_constant(up_const3)"
   ]
  },
  {
   "cell_type": "code",
   "execution_count": 9,
   "metadata": {},
   "outputs": [
    {
     "name": "stdout",
     "output_type": "stream",
     "text": [
      "Tensor(\"stack_1:0\", shape=(3, 3), dtype=int32)\n",
      "Tensor(\"Shape_7:0\", shape=(2,), dtype=int32)\n",
      "[[1 4 7]\n",
      " [2 5 8]\n",
      " [3 6 9]]\n"
     ]
    }
   ],
   "source": [
    "pack_const1 = tf.stack([const1, const2, const3], axis=1)\n",
    "print(pack_const1)\n",
    "print(tf.shape(pack_const1))\n",
    "tfutil.print_operation_value(pack_const1)"
   ]
  },
  {
   "cell_type": "code",
   "execution_count": 10,
   "metadata": {},
   "outputs": [
    {
     "name": "stdout",
     "output_type": "stream",
     "text": [
      "Tensor(\"unstack_1:0\", shape=(3,), dtype=int32)\n",
      "Tensor(\"Shape_8:0\", shape=(1,), dtype=int32)\n",
      "[1 4 7]\n"
     ]
    }
   ],
   "source": [
    "up_const1, up_const2, up_const3 = tf.unstack(pack_const1)\n",
    "print(up_const1)\n",
    "print(tf.shape(up_const1))\n",
    "tfutil.print_constant(up_const1)"
   ]
  },
  {
   "cell_type": "code",
   "execution_count": 11,
   "metadata": {},
   "outputs": [
    {
     "name": "stdout",
     "output_type": "stream",
     "text": [
      "Tensor(\"unstack_1:1\", shape=(3,), dtype=int32)\n",
      "Tensor(\"Shape_9:0\", shape=(1,), dtype=int32)\n",
      "[2 5 8]\n"
     ]
    }
   ],
   "source": [
    "print(up_const2)\n",
    "print(tf.shape(up_const2))\n",
    "tfutil.print_constant(up_const2)"
   ]
  },
  {
   "cell_type": "code",
   "execution_count": 12,
   "metadata": {},
   "outputs": [
    {
     "name": "stdout",
     "output_type": "stream",
     "text": [
      "Tensor(\"unstack_1:2\", shape=(3,), dtype=int32)\n",
      "Tensor(\"Shape_10:0\", shape=(1,), dtype=int32)\n",
      "[3 6 9]\n"
     ]
    }
   ],
   "source": [
    "print(up_const3)\n",
    "print(tf.shape(up_const3))\n",
    "tfutil.print_constant(up_const3)"
   ]
  }
 ],
 "metadata": {
  "kernelspec": {
   "display_name": "Python 2",
   "language": "python",
   "name": "python2"
  },
  "language_info": {
   "codemirror_mode": {
    "name": "ipython",
    "version": 2
   },
   "file_extension": ".py",
   "mimetype": "text/x-python",
   "name": "python",
   "nbconvert_exporter": "python",
   "pygments_lexer": "ipython2",
   "version": "2.7.12"
  }
 },
 "nbformat": 4,
 "nbformat_minor": 2
}
