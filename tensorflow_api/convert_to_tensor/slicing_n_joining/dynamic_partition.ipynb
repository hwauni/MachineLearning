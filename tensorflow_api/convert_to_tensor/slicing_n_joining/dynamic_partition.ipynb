{
 "cells": [
  {
   "cell_type": "code",
   "execution_count": 1,
   "metadata": {},
   "outputs": [],
   "source": [
    "import tensorflow as tf\n",
    "import numpy as np\n",
    "import tfutil"
   ]
  },
  {
   "cell_type": "code",
   "execution_count": 2,
   "metadata": {},
   "outputs": [
    {
     "name": "stdout",
     "output_type": "stream",
     "text": [
      "Tensor(\"Const:0\", shape=(2,), dtype=int64)\n",
      "Tensor(\"Shape:0\", shape=(1,), dtype=int32)\n",
      "[10 20]\n"
     ]
    }
   ],
   "source": [
    "# outputs[i].shape = [sum(partitions == i)] + data.shape[partitions.ndim:]\n",
    "# outputs[i] = pack([data[js, ...] for js if partitions[js] == i])\n",
    "\n",
    "x = [10, 20]\n",
    "const1 = tf.constant(np.array(x))\n",
    "print(const1)\n",
    "print(tf.shape(const1))\n",
    "tfutil.print_constant(const1)"
   ]
  },
  {
   "cell_type": "code",
   "execution_count": 3,
   "metadata": {},
   "outputs": [
    {
     "name": "stdout",
     "output_type": "stream",
     "text": [
      "Tensor(\"DynamicPartition:0\", shape=(?, 2), dtype=int64)\n",
      "Tensor(\"Shape_1:0\", shape=(2,), dtype=int32)\n",
      "[]\n"
     ]
    }
   ],
   "source": [
    "# Scalar partitions.\n",
    "partitions = 1 \n",
    "num_partitions = 2 \n",
    "dyp_const1 = tf.dynamic_partition(const1, partitions, num_partitions)\n",
    "print(dyp_const1[0])\n",
    "print(tf.shape(dyp_const1[0]))\n",
    "tfutil.print_operation_value(dyp_const1[0])"
   ]
  },
  {
   "cell_type": "code",
   "execution_count": 4,
   "metadata": {},
   "outputs": [
    {
     "name": "stdout",
     "output_type": "stream",
     "text": [
      "Tensor(\"DynamicPartition:1\", shape=(?, 2), dtype=int64)\n",
      "Tensor(\"Shape_2:0\", shape=(2,), dtype=int32)\n",
      "[[10 20]]\n"
     ]
    }
   ],
   "source": [
    "print(dyp_const1[1])\n",
    "print(tf.shape(dyp_const1[1]))\n",
    "tfutil.print_operation_value(dyp_const1[1])"
   ]
  },
  {
   "cell_type": "code",
   "execution_count": 5,
   "metadata": {},
   "outputs": [
    {
     "name": "stdout",
     "output_type": "stream",
     "text": [
      "[<tf.Tensor 'DynamicPartition:0' shape=(?, 2) dtype=int64>, <tf.Tensor 'DynamicPartition:1' shape=(?, 2) dtype=int64>]\n",
      "Tensor(\"Shape_3:0\", shape=(3,), dtype=int32)\n",
      "[array([], shape=(0, 2), dtype=int64), array([[10, 20]])]\n"
     ]
    }
   ],
   "source": [
    "print(dyp_const1)\n",
    "print(tf.shape(dyp_const1))\n",
    "tfutil.print_operation_value(dyp_const1)"
   ]
  },
  {
   "cell_type": "code",
   "execution_count": 6,
   "metadata": {},
   "outputs": [
    {
     "name": "stdout",
     "output_type": "stream",
     "text": [
      "Tensor(\"Const_1:0\", shape=(5,), dtype=int64)\n",
      "Tensor(\"Shape_4:0\", shape=(1,), dtype=int32)\n",
      "[10 20 30 40 50]\n"
     ]
    }
   ],
   "source": [
    "x = [10, 20, 30, 40, 50]\n",
    "const2 = tf.constant(np.array(x))\n",
    "print(const2)\n",
    "print(tf.shape(const2))\n",
    "tfutil.print_constant(const2)"
   ]
  },
  {
   "cell_type": "code",
   "execution_count": 7,
   "metadata": {},
   "outputs": [
    {
     "name": "stdout",
     "output_type": "stream",
     "text": [
      "Tensor(\"DynamicPartition_1:0\", shape=(?,), dtype=int64)\n",
      "Tensor(\"Shape_5:0\", shape=(1,), dtype=int32)\n",
      "[10 20 50]\n"
     ]
    }
   ],
   "source": [
    "# Vector partitions.\n",
    "partitions = [0, 0, 1, 1, 0]\n",
    "num_partitions = 2\n",
    "dyp_const2 = tf.dynamic_partition(const2, partitions, num_partitions)\n",
    "print(dyp_const2[0])\n",
    "print(tf.shape(dyp_const2[0]))\n",
    "tfutil.print_operation_value(dyp_const2[0])"
   ]
  },
  {
   "cell_type": "code",
   "execution_count": 8,
   "metadata": {},
   "outputs": [
    {
     "name": "stdout",
     "output_type": "stream",
     "text": [
      "Tensor(\"DynamicPartition_1:1\", shape=(?,), dtype=int64)\n",
      "Tensor(\"Shape_6:0\", shape=(1,), dtype=int32)\n",
      "[30 40]\n"
     ]
    }
   ],
   "source": [
    "print(dyp_const2[1])\n",
    "print(tf.shape(dyp_const2[1]))\n",
    "tfutil.print_operation_value(dyp_const2[1])"
   ]
  },
  {
   "cell_type": "code",
   "execution_count": 9,
   "metadata": {},
   "outputs": [
    {
     "name": "stdout",
     "output_type": "stream",
     "text": [
      "[<tf.Tensor 'DynamicPartition_1:0' shape=(?,) dtype=int64>, <tf.Tensor 'DynamicPartition_1:1' shape=(?,) dtype=int64>]\n",
      "Tensor(\"Shape_7:0\", shape=(2,), dtype=int32)\n",
      "[array([10, 20, 50]), array([30, 40])]\n"
     ]
    }
   ],
   "source": [
    "print(dyp_const2)\n",
    "print(tf.shape(dyp_const2))\n",
    "tfutil.print_operation_value(dyp_const2)"
   ]
  }
 ],
 "metadata": {
  "kernelspec": {
   "display_name": "Python 2",
   "language": "python",
   "name": "python2"
  },
  "language_info": {
   "codemirror_mode": {
    "name": "ipython",
    "version": 2
   },
   "file_extension": ".py",
   "mimetype": "text/x-python",
   "name": "python",
   "nbconvert_exporter": "python",
   "pygments_lexer": "ipython2",
   "version": "2.7.12"
  }
 },
 "nbformat": 4,
 "nbformat_minor": 2
}
