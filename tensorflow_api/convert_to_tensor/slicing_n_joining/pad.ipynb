{
 "cells": [
  {
   "cell_type": "code",
   "execution_count": 1,
   "metadata": {},
   "outputs": [],
   "source": [
    "import tensorflow as tf\n",
    "import numpy as np\n",
    "import tfutil"
   ]
  },
  {
   "cell_type": "code",
   "execution_count": 2,
   "metadata": {},
   "outputs": [
    {
     "name": "stdout",
     "output_type": "stream",
     "text": [
      "Tensor(\"Const:0\", shape=(2, 3), dtype=int32)\n",
      "Tensor(\"Shape:0\", shape=(2,), dtype=int32)\n",
      "[[1 2 3]\n",
      " [4 5 6]]\n"
     ]
    }
   ],
   "source": [
    "# [[1, 2, 3], [4, 5, 6]]\n",
    "const1 = tf.constant(np.array([[1, 2, 3], [4, 5, 6]]), dtype=tf.int32)\n",
    "print(const1)\n",
    "print(tf.shape(const1))\n",
    "tfutil.print_constant(const1)"
   ]
  },
  {
   "cell_type": "code",
   "execution_count": 3,
   "metadata": {},
   "outputs": [
    {
     "name": "stdout",
     "output_type": "stream",
     "text": [
      "Tensor(\"Pad:0\", shape=(2, 4), dtype=int32)\n",
      "Tensor(\"Shape_1:0\", shape=(2,), dtype=int32)\n",
      "[[1 2 3 0]\n",
      " [4 5 6 0]]\n"
     ]
    }
   ],
   "source": [
    "paddings =  [[0, 0,], [0, 1]]\n",
    "pad_const1 = tf.pad(const1, paddings, \"CONSTANT\")\n",
    "print(pad_const1)\n",
    "print(tf.shape(pad_const1))\n",
    "tfutil.print_operation_value(pad_const1)"
   ]
  },
  {
   "cell_type": "code",
   "execution_count": 4,
   "metadata": {},
   "outputs": [
    {
     "name": "stdout",
     "output_type": "stream",
     "text": [
      "Tensor(\"Pad_1:0\", shape=(2, 4), dtype=int32)\n",
      "Tensor(\"Shape_2:0\", shape=(2,), dtype=int32)\n",
      "[[0 1 2 3]\n",
      " [0 4 5 6]]\n"
     ]
    }
   ],
   "source": [
    "paddings =  [[0, 0,], [1, 0]]\n",
    "pad_const1 = tf.pad(const1, paddings, \"CONSTANT\")\n",
    "print(pad_const1)\n",
    "print(tf.shape(pad_const1))\n",
    "tfutil.print_operation_value(pad_const1)"
   ]
  },
  {
   "cell_type": "code",
   "execution_count": 5,
   "metadata": {},
   "outputs": [
    {
     "name": "stdout",
     "output_type": "stream",
     "text": [
      "Tensor(\"Pad_2:0\", shape=(2, 5), dtype=int32)\n",
      "Tensor(\"Shape_3:0\", shape=(2,), dtype=int32)\n",
      "[[0 1 2 3 0]\n",
      " [0 4 5 6 0]]\n"
     ]
    }
   ],
   "source": [
    "paddings =  [[0, 0,], [1, 1]]\n",
    "pad_const1 = tf.pad(const1, paddings, \"CONSTANT\")\n",
    "print(pad_const1)\n",
    "print(tf.shape(pad_const1))\n",
    "tfutil.print_operation_value(pad_const1)"
   ]
  },
  {
   "cell_type": "code",
   "execution_count": 6,
   "metadata": {},
   "outputs": [
    {
     "name": "stdout",
     "output_type": "stream",
     "text": [
      "Tensor(\"Pad_3:0\", shape=(3, 3), dtype=int32)\n",
      "Tensor(\"Shape_4:0\", shape=(2,), dtype=int32)\n",
      "[[1 2 3]\n",
      " [4 5 6]\n",
      " [0 0 0]]\n"
     ]
    }
   ],
   "source": [
    "paddings =  [[0, 1,], [0, 0]]\n",
    "pad_const1 = tf.pad(const1, paddings, \"CONSTANT\")\n",
    "print(pad_const1)\n",
    "print(tf.shape(pad_const1))\n",
    "tfutil.print_operation_value(pad_const1)"
   ]
  },
  {
   "cell_type": "code",
   "execution_count": 7,
   "metadata": {},
   "outputs": [
    {
     "name": "stdout",
     "output_type": "stream",
     "text": [
      "Tensor(\"Pad_4:0\", shape=(3, 3), dtype=int32)\n",
      "Tensor(\"Shape_5:0\", shape=(2,), dtype=int32)\n",
      "[[0 0 0]\n",
      " [1 2 3]\n",
      " [4 5 6]]\n"
     ]
    }
   ],
   "source": [
    "paddings =  [[1, 0,], [0, 0]]\n",
    "pad_const1 = tf.pad(const1, paddings, \"CONSTANT\")\n",
    "print(pad_const1)\n",
    "print(tf.shape(pad_const1))\n",
    "tfutil.print_operation_value(pad_const1)"
   ]
  },
  {
   "cell_type": "code",
   "execution_count": 8,
   "metadata": {},
   "outputs": [
    {
     "name": "stdout",
     "output_type": "stream",
     "text": [
      "Tensor(\"Pad_5:0\", shape=(4, 3), dtype=int32)\n",
      "Tensor(\"Shape_6:0\", shape=(2,), dtype=int32)\n",
      "[[0 0 0]\n",
      " [1 2 3]\n",
      " [4 5 6]\n",
      " [0 0 0]]\n"
     ]
    }
   ],
   "source": [
    "paddings =  [[1, 1,], [0, 0]]\n",
    "pad_const1 = tf.pad(const1, paddings, \"CONSTANT\")\n",
    "print(pad_const1)\n",
    "print(tf.shape(pad_const1))\n",
    "tfutil.print_operation_value(pad_const1)"
   ]
  },
  {
   "cell_type": "code",
   "execution_count": 9,
   "metadata": {},
   "outputs": [
    {
     "name": "stdout",
     "output_type": "stream",
     "text": [
      "Tensor(\"Pad_6:0\", shape=(4, 5), dtype=int32)\n",
      "Tensor(\"Shape_7:0\", shape=(2,), dtype=int32)\n",
      "[[0 0 0 0 0]\n",
      " [0 1 2 3 0]\n",
      " [0 4 5 6 0]\n",
      " [0 0 0 0 0]]\n"
     ]
    }
   ],
   "source": [
    "paddings =  [[1, 1,], [1, 1]]\n",
    "pad_const1 = tf.pad(const1, paddings, \"CONSTANT\")\n",
    "print(pad_const1)\n",
    "print(tf.shape(pad_const1))\n",
    "tfutil.print_operation_value(pad_const1)"
   ]
  },
  {
   "cell_type": "code",
   "execution_count": 10,
   "metadata": {},
   "outputs": [
    {
     "name": "stdout",
     "output_type": "stream",
     "text": [
      "Tensor(\"MirrorPad:0\", shape=(2, 4), dtype=int32)\n",
      "Tensor(\"Shape_8:0\", shape=(2,), dtype=int32)\n",
      "[[1 2 3 2]\n",
      " [4 5 6 5]]\n"
     ]
    }
   ],
   "source": [
    "# [[1, 2, 3], [4, 5, 6]]\n",
    "paddings =  [[0, 0,], [0, 1]]\n",
    "pad_const1 = tf.pad(const1, paddings, \"REFLECT\")\n",
    "print(pad_const1)\n",
    "print(tf.shape(pad_const1))\n",
    "tfutil.print_operation_value(pad_const1)"
   ]
  },
  {
   "cell_type": "code",
   "execution_count": 11,
   "metadata": {},
   "outputs": [
    {
     "name": "stdout",
     "output_type": "stream",
     "text": [
      "Tensor(\"MirrorPad_1:0\", shape=(2, 4), dtype=int32)\n",
      "Tensor(\"Shape_9:0\", shape=(2,), dtype=int32)\n",
      "[[2 1 2 3]\n",
      " [5 4 5 6]]\n"
     ]
    }
   ],
   "source": [
    "paddings =  [[0, 0,], [1, 0]]\n",
    "pad_const1 = tf.pad(const1, paddings, \"REFLECT\")\n",
    "print(pad_const1)\n",
    "print(tf.shape(pad_const1))\n",
    "tfutil.print_operation_value(pad_const1)"
   ]
  },
  {
   "cell_type": "code",
   "execution_count": 12,
   "metadata": {},
   "outputs": [
    {
     "name": "stdout",
     "output_type": "stream",
     "text": [
      "Tensor(\"MirrorPad_2:0\", shape=(2, 5), dtype=int32)\n",
      "Tensor(\"Shape_10:0\", shape=(2,), dtype=int32)\n",
      "[[2 1 2 3 2]\n",
      " [5 4 5 6 5]]\n"
     ]
    }
   ],
   "source": [
    "paddings =  [[0, 0,], [1, 1]]\n",
    "pad_const1 = tf.pad(const1, paddings, \"REFLECT\")\n",
    "print(pad_const1)\n",
    "print(tf.shape(pad_const1))\n",
    "tfutil.print_operation_value(pad_const1)"
   ]
  },
  {
   "cell_type": "code",
   "execution_count": 13,
   "metadata": {},
   "outputs": [
    {
     "name": "stdout",
     "output_type": "stream",
     "text": [
      "Tensor(\"MirrorPad_3:0\", shape=(3, 3), dtype=int32)\n",
      "Tensor(\"Shape_11:0\", shape=(2,), dtype=int32)\n",
      "[[1 2 3]\n",
      " [4 5 6]\n",
      " [1 2 3]]\n"
     ]
    }
   ],
   "source": [
    "paddings =  [[0, 1,], [0, 0]]\n",
    "pad_const1 = tf.pad(const1, paddings, \"REFLECT\")\n",
    "print(pad_const1)\n",
    "print(tf.shape(pad_const1))\n",
    "tfutil.print_operation_value(pad_const1)"
   ]
  },
  {
   "cell_type": "code",
   "execution_count": 14,
   "metadata": {},
   "outputs": [
    {
     "name": "stdout",
     "output_type": "stream",
     "text": [
      "Tensor(\"MirrorPad_4:0\", shape=(3, 3), dtype=int32)\n",
      "Tensor(\"Shape_12:0\", shape=(2,), dtype=int32)\n",
      "[[4 5 6]\n",
      " [1 2 3]\n",
      " [4 5 6]]\n"
     ]
    }
   ],
   "source": [
    "paddings =  [[1, 0,], [0, 0]]\n",
    "pad_const1 = tf.pad(const1, paddings, \"REFLECT\")\n",
    "print(pad_const1)\n",
    "print(tf.shape(pad_const1))\n",
    "tfutil.print_operation_value(pad_const1)"
   ]
  },
  {
   "cell_type": "code",
   "execution_count": 15,
   "metadata": {},
   "outputs": [
    {
     "name": "stdout",
     "output_type": "stream",
     "text": [
      "Tensor(\"MirrorPad_5:0\", shape=(4, 3), dtype=int32)\n",
      "Tensor(\"Shape_13:0\", shape=(2,), dtype=int32)\n",
      "[[4 5 6]\n",
      " [1 2 3]\n",
      " [4 5 6]\n",
      " [1 2 3]]\n"
     ]
    }
   ],
   "source": [
    "paddings =  [[1, 1,], [0, 0]]\n",
    "pad_const1 = tf.pad(const1, paddings, \"REFLECT\")\n",
    "print(pad_const1)\n",
    "print(tf.shape(pad_const1))\n",
    "tfutil.print_operation_value(pad_const1)"
   ]
  },
  {
   "cell_type": "code",
   "execution_count": 16,
   "metadata": {},
   "outputs": [
    {
     "name": "stdout",
     "output_type": "stream",
     "text": [
      "Tensor(\"MirrorPad_6:0\", shape=(4, 5), dtype=int32)\n",
      "Tensor(\"Shape_14:0\", shape=(2,), dtype=int32)\n",
      "[[5 4 5 6 5]\n",
      " [2 1 2 3 2]\n",
      " [5 4 5 6 5]\n",
      " [2 1 2 3 2]]\n"
     ]
    }
   ],
   "source": [
    "paddings =  [[1, 1,], [1, 1]]\n",
    "pad_const1 = tf.pad(const1, paddings, \"REFLECT\")\n",
    "print(pad_const1)\n",
    "print(tf.shape(pad_const1))\n",
    "tfutil.print_operation_value(pad_const1)"
   ]
  },
  {
   "cell_type": "code",
   "execution_count": 17,
   "metadata": {
    "scrolled": false
   },
   "outputs": [
    {
     "name": "stdout",
     "output_type": "stream",
     "text": [
      "Tensor(\"MirrorPad_7:0\", shape=(4, 7), dtype=int32)\n",
      "Tensor(\"Shape_15:0\", shape=(2,), dtype=int32)\n",
      "[[6 5 4 5 6 5 4]\n",
      " [3 2 1 2 3 2 1]\n",
      " [6 5 4 5 6 5 4]\n",
      " [3 2 1 2 3 2 1]]\n"
     ]
    }
   ],
   "source": [
    "paddings =  [[1, 1,], [2, 2]]\n",
    "pad_const1 = tf.pad(const1, paddings, \"REFLECT\")\n",
    "print(pad_const1)\n",
    "print(tf.shape(pad_const1))\n",
    "tfutil.print_operation_value(pad_const1)"
   ]
  },
  {
   "cell_type": "code",
   "execution_count": 18,
   "metadata": {},
   "outputs": [
    {
     "name": "stdout",
     "output_type": "stream",
     "text": [
      "Tensor(\"MirrorPad_8:0\", shape=(2, 4), dtype=int32)\n",
      "Tensor(\"Shape_16:0\", shape=(2,), dtype=int32)\n",
      "[[1 2 3 3]\n",
      " [4 5 6 6]]\n"
     ]
    }
   ],
   "source": [
    "# [[1, 2, 3], [4, 5, 6]]\n",
    "paddings =  [[0, 0,], [0, 1]]\n",
    "pad_const1 = tf.pad(const1, paddings, \"SYMMETRIC\")\n",
    "print(pad_const1)\n",
    "print(tf.shape(pad_const1))\n",
    "tfutil.print_operation_value(pad_const1)"
   ]
  },
  {
   "cell_type": "code",
   "execution_count": 19,
   "metadata": {},
   "outputs": [
    {
     "name": "stdout",
     "output_type": "stream",
     "text": [
      "Tensor(\"MirrorPad_9:0\", shape=(2, 4), dtype=int32)\n",
      "Tensor(\"Shape_17:0\", shape=(2,), dtype=int32)\n",
      "[[1 1 2 3]\n",
      " [4 4 5 6]]\n"
     ]
    }
   ],
   "source": [
    "paddings =  [[0, 0,], [1, 0]]\n",
    "pad_const1 = tf.pad(const1, paddings, \"SYMMETRIC\")\n",
    "print(pad_const1)\n",
    "print(tf.shape(pad_const1))\n",
    "tfutil.print_operation_value(pad_const1)"
   ]
  },
  {
   "cell_type": "code",
   "execution_count": 20,
   "metadata": {},
   "outputs": [
    {
     "name": "stdout",
     "output_type": "stream",
     "text": [
      "Tensor(\"MirrorPad_10:0\", shape=(2, 5), dtype=int32)\n",
      "Tensor(\"Shape_18:0\", shape=(2,), dtype=int32)\n",
      "[[1 1 2 3 3]\n",
      " [4 4 5 6 6]]\n"
     ]
    }
   ],
   "source": [
    "paddings =  [[0, 0,], [1, 1]]\n",
    "pad_const1 = tf.pad(const1, paddings, \"SYMMETRIC\")\n",
    "print(pad_const1)\n",
    "print(tf.shape(pad_const1))\n",
    "tfutil.print_operation_value(pad_const1)"
   ]
  },
  {
   "cell_type": "code",
   "execution_count": 21,
   "metadata": {},
   "outputs": [
    {
     "name": "stdout",
     "output_type": "stream",
     "text": [
      "Tensor(\"MirrorPad_11:0\", shape=(3, 3), dtype=int32)\n",
      "Tensor(\"Shape_19:0\", shape=(2,), dtype=int32)\n",
      "[[1 2 3]\n",
      " [4 5 6]\n",
      " [4 5 6]]\n"
     ]
    }
   ],
   "source": [
    "paddings =  [[0, 1,], [0, 0]]\n",
    "pad_const1 = tf.pad(const1, paddings, \"SYMMETRIC\")\n",
    "print(pad_const1)\n",
    "print(tf.shape(pad_const1))\n",
    "tfutil.print_operation_value(pad_const1)"
   ]
  },
  {
   "cell_type": "code",
   "execution_count": 22,
   "metadata": {},
   "outputs": [
    {
     "name": "stdout",
     "output_type": "stream",
     "text": [
      "Tensor(\"MirrorPad_12:0\", shape=(3, 3), dtype=int32)\n",
      "Tensor(\"Shape_20:0\", shape=(2,), dtype=int32)\n",
      "[[1 2 3]\n",
      " [1 2 3]\n",
      " [4 5 6]]\n"
     ]
    }
   ],
   "source": [
    "paddings =  [[1, 0,], [0, 0]]\n",
    "pad_const1 = tf.pad(const1, paddings, \"SYMMETRIC\")\n",
    "print(pad_const1)\n",
    "print(tf.shape(pad_const1))\n",
    "tfutil.print_operation_value(pad_const1)"
   ]
  },
  {
   "cell_type": "code",
   "execution_count": 23,
   "metadata": {},
   "outputs": [
    {
     "name": "stdout",
     "output_type": "stream",
     "text": [
      "Tensor(\"MirrorPad_13:0\", shape=(4, 3), dtype=int32)\n",
      "Tensor(\"Shape_21:0\", shape=(2,), dtype=int32)\n",
      "[[1 2 3]\n",
      " [1 2 3]\n",
      " [4 5 6]\n",
      " [4 5 6]]\n"
     ]
    }
   ],
   "source": [
    "paddings =  [[1, 1,], [0, 0]]\n",
    "pad_const1 = tf.pad(const1, paddings, \"SYMMETRIC\")\n",
    "print(pad_const1)\n",
    "print(tf.shape(pad_const1))\n",
    "tfutil.print_operation_value(pad_const1)"
   ]
  },
  {
   "cell_type": "code",
   "execution_count": 24,
   "metadata": {},
   "outputs": [
    {
     "name": "stdout",
     "output_type": "stream",
     "text": [
      "Tensor(\"MirrorPad_14:0\", shape=(4, 5), dtype=int32)\n",
      "Tensor(\"Shape_22:0\", shape=(2,), dtype=int32)\n",
      "[[1 1 2 3 3]\n",
      " [1 1 2 3 3]\n",
      " [4 4 5 6 6]\n",
      " [4 4 5 6 6]]\n"
     ]
    }
   ],
   "source": [
    "paddings =  [[1, 1,], [1, 1]]\n",
    "pad_const1 = tf.pad(const1, paddings, \"SYMMETRIC\")\n",
    "print(pad_const1)\n",
    "print(tf.shape(pad_const1))\n",
    "tfutil.print_operation_value(pad_const1)"
   ]
  },
  {
   "cell_type": "code",
   "execution_count": 25,
   "metadata": {},
   "outputs": [
    {
     "name": "stdout",
     "output_type": "stream",
     "text": [
      "Tensor(\"MirrorPad_15:0\", shape=(4, 7), dtype=int32)\n",
      "Tensor(\"Shape_23:0\", shape=(2,), dtype=int32)\n",
      "[[2 1 1 2 3 3 2]\n",
      " [2 1 1 2 3 3 2]\n",
      " [5 4 4 5 6 6 5]\n",
      " [5 4 4 5 6 6 5]]\n"
     ]
    }
   ],
   "source": [
    "paddings =  [[1, 1,], [2, 2]]\n",
    "pad_const1 = tf.pad(const1, paddings, \"SYMMETRIC\")\n",
    "print(pad_const1)\n",
    "print(tf.shape(pad_const1))\n",
    "tfutil.print_operation_value(pad_const1)"
   ]
  },
  {
   "cell_type": "code",
   "execution_count": 26,
   "metadata": {},
   "outputs": [
    {
     "name": "stdout",
     "output_type": "stream",
     "text": [
      "Tensor(\"MirrorPad_16:0\", shape=(4, 9), dtype=int32)\n",
      "Tensor(\"Shape_24:0\", shape=(2,), dtype=int32)\n",
      "[[3 2 1 1 2 3 3 2 1]\n",
      " [3 2 1 1 2 3 3 2 1]\n",
      " [6 5 4 4 5 6 6 5 4]\n",
      " [6 5 4 4 5 6 6 5 4]]\n"
     ]
    }
   ],
   "source": [
    "paddings =  [[1, 1,], [3, 3]]\n",
    "pad_const1 = tf.pad(const1, paddings, \"SYMMETRIC\")\n",
    "print(pad_const1)\n",
    "print(tf.shape(pad_const1))\n",
    "tfutil.print_operation_value(pad_const1)"
   ]
  }
 ],
 "metadata": {
  "kernelspec": {
   "display_name": "Python 2",
   "language": "python",
   "name": "python2"
  },
  "language_info": {
   "codemirror_mode": {
    "name": "ipython",
    "version": 2
   },
   "file_extension": ".py",
   "mimetype": "text/x-python",
   "name": "python",
   "nbconvert_exporter": "python",
   "pygments_lexer": "ipython2",
   "version": "2.7.12"
  }
 },
 "nbformat": 4,
 "nbformat_minor": 2
}
