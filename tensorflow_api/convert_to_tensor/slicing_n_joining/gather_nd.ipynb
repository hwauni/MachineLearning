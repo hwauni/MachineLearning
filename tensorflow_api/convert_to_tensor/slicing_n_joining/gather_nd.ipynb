{
 "cells": [
  {
   "cell_type": "code",
   "execution_count": 1,
   "metadata": {},
   "outputs": [],
   "source": [
    "import tensorflow as tf\n",
    "import numpy as np\n",
    "import tfutil"
   ]
  },
  {
   "cell_type": "code",
   "execution_count": 2,
   "metadata": {},
   "outputs": [
    {
     "name": "stdout",
     "output_type": "stream",
     "text": [
      "Tensor(\"Const:0\", shape=(2, 2), dtype=string)\n",
      "Tensor(\"Shape:0\", shape=(2,), dtype=int32)\n",
      "[['a' 'b']\n",
      " ['c' 'd']]\n"
     ]
    }
   ],
   "source": [
    "# [d_0, ..., d_{Q-2}, params.shape[K], ..., params.shape[P-1]].\n",
    "x = [['a', 'b'], ['c', 'd']]\n",
    "const1 = tf.constant(np.array(x))\n",
    "print(const1)\n",
    "print(tf.shape(const1))\n",
    "tfutil.print_constant(const1)"
   ]
  },
  {
   "cell_type": "code",
   "execution_count": 3,
   "metadata": {},
   "outputs": [
    {
     "name": "stdout",
     "output_type": "stream",
     "text": [
      "Tensor(\"GatherNd:0\", shape=(2,), dtype=string)\n",
      "Tensor(\"Shape_1:0\", shape=(1,), dtype=int32)\n",
      "['a' 'd']\n"
     ]
    }
   ],
   "source": [
    "# Simple indexing into a matrix:\n",
    "indices = [[0, 0], [1, 1]]\n",
    "gn_const1 = tf.gather_nd(const1, indices)\n",
    "print(gn_const1)\n",
    "print(tf.shape(gn_const1))\n",
    "tfutil.print_operation_value(gn_const1)"
   ]
  },
  {
   "cell_type": "code",
   "execution_count": 4,
   "metadata": {},
   "outputs": [
    {
     "name": "stdout",
     "output_type": "stream",
     "text": [
      "Tensor(\"GatherNd_1:0\", shape=(2, 2), dtype=string)\n",
      "Tensor(\"Shape_2:0\", shape=(2,), dtype=int32)\n",
      "[['c' 'd']\n",
      " ['a' 'b']]\n"
     ]
    }
   ],
   "source": [
    "# Slice indexing into a matrix:\n",
    "indices = [[1], [0]]\n",
    "gn_const1 = tf.gather_nd(const1, indices)\n",
    "print(gn_const1)\n",
    "print(tf.shape(gn_const1))\n",
    "tfutil.print_operation_value(gn_const1)"
   ]
  },
  {
   "cell_type": "code",
   "execution_count": 5,
   "metadata": {},
   "outputs": [
    {
     "name": "stdout",
     "output_type": "stream",
     "text": [
      "Tensor(\"GatherNd_2:0\", shape=(2, 1), dtype=string)\n",
      "Tensor(\"Shape_3:0\", shape=(2,), dtype=int32)\n",
      "[['a']\n",
      " ['b']]\n"
     ]
    }
   ],
   "source": [
    "# Batched indexing into a matrix:\n",
    "indices = [[[0, 0]], [[0, 1]]]\n",
    "gn_const1 = tf.gather_nd(const1, indices)\n",
    "print(gn_const1)\n",
    "print(tf.shape(gn_const1))\n",
    "tfutil.print_operation_value(gn_const1)"
   ]
  },
  {
   "cell_type": "code",
   "execution_count": 6,
   "metadata": {},
   "outputs": [
    {
     "name": "stdout",
     "output_type": "stream",
     "text": [
      "Tensor(\"GatherNd_3:0\", shape=(2, 1, 2), dtype=string)\n",
      "Tensor(\"Shape_4:0\", shape=(3,), dtype=int32)\n",
      "[[['c' 'd']]\n",
      "\n",
      " [['a' 'b']]]\n"
     ]
    }
   ],
   "source": [
    "# Batched slice indexing into a matrix:\n",
    "indices = [[[1]], [[0]]]\n",
    "gn_const1 = tf.gather_nd(const1, indices)\n",
    "print(gn_const1)\n",
    "print(tf.shape(gn_const1))\n",
    "tfutil.print_operation_value(gn_const1)"
   ]
  },
  {
   "cell_type": "code",
   "execution_count": 7,
   "metadata": {},
   "outputs": [
    {
     "name": "stdout",
     "output_type": "stream",
     "text": [
      "Tensor(\"Const_1:0\", shape=(2, 2, 2), dtype=string)\n",
      "Tensor(\"Shape_5:0\", shape=(3,), dtype=int32)\n",
      "[[['a0' 'b0']\n",
      "  ['c0' 'd0']]\n",
      "\n",
      " [['a1' 'b1']\n",
      "  ['c1' 'd1']]]\n"
     ]
    }
   ],
   "source": [
    "x = [[['a0', 'b0'], ['c0', 'd0']],\n",
    "    [['a1', 'b1'], ['c1', 'd1']]]\n",
    "const2 = tf.constant(np.array(x))\n",
    "print(const2)\n",
    "print(tf.shape(const2))\n",
    "tfutil.print_constant(const2)"
   ]
  },
  {
   "cell_type": "code",
   "execution_count": 8,
   "metadata": {},
   "outputs": [
    {
     "name": "stdout",
     "output_type": "stream",
     "text": [
      "Tensor(\"GatherNd_4:0\", shape=(1, 2, 2), dtype=string)\n",
      "Tensor(\"Shape_6:0\", shape=(3,), dtype=int32)\n",
      "[[['a1' 'b1']\n",
      "  ['c1' 'd1']]]\n"
     ]
    }
   ],
   "source": [
    "# Indexing into a 3-tensor:\n",
    "indices = [[1]]\n",
    "gn_const2 = tf.gather_nd(const2, indices)\n",
    "print(gn_const2)\n",
    "print(tf.shape(gn_const2))\n",
    "tfutil.print_operation_value(gn_const2)"
   ]
  },
  {
   "cell_type": "code",
   "execution_count": 9,
   "metadata": {},
   "outputs": [
    {
     "name": "stdout",
     "output_type": "stream",
     "text": [
      "Tensor(\"GatherNd_5:0\", shape=(2, 2), dtype=string)\n",
      "Tensor(\"Shape_7:0\", shape=(2,), dtype=int32)\n",
      "[['c0' 'd0']\n",
      " ['a1' 'b1']]\n"
     ]
    }
   ],
   "source": [
    "indices = [[0, 1], [1, 0]]\n",
    "gn_const2 = tf.gather_nd(const2, indices)\n",
    "print(gn_const2)\n",
    "print(tf.shape(gn_const2))\n",
    "tfutil.print_operation_value(gn_const2)"
   ]
  },
  {
   "cell_type": "code",
   "execution_count": 10,
   "metadata": {},
   "outputs": [
    {
     "name": "stdout",
     "output_type": "stream",
     "text": [
      "Tensor(\"GatherNd_6:0\", shape=(2,), dtype=string)\n",
      "Tensor(\"Shape_8:0\", shape=(1,), dtype=int32)\n",
      "['b0' 'b1']\n"
     ]
    }
   ],
   "source": [
    "indices = [[0, 0, 1], [1, 0, 1]]\n",
    "gn_const2 = tf.gather_nd(const2, indices)\n",
    "print(gn_const2)\n",
    "print(tf.shape(gn_const2))\n",
    "tfutil.print_operation_value(gn_const2)"
   ]
  },
  {
   "cell_type": "code",
   "execution_count": 11,
   "metadata": {},
   "outputs": [
    {
     "name": "stdout",
     "output_type": "stream",
     "text": [
      "Tensor(\"GatherNd_7:0\", shape=(2, 1, 2, 2), dtype=string)\n",
      "Tensor(\"Shape_9:0\", shape=(4,), dtype=int32)\n",
      "[[[['a1' 'b1']\n",
      "   ['c1' 'd1']]]\n",
      "\n",
      "\n",
      " [[['a0' 'b0']\n",
      "   ['c0' 'd0']]]]\n"
     ]
    }
   ],
   "source": [
    "# Batched indexing into a 3-tensor:\n",
    "indices = [[[1]], [[0]]]\n",
    "gn_const2 = tf.gather_nd(const2, indices)\n",
    "print(gn_const2)\n",
    "print(tf.shape(gn_const2))\n",
    "tfutil.print_operation_value(gn_const2)"
   ]
  },
  {
   "cell_type": "code",
   "execution_count": 12,
   "metadata": {},
   "outputs": [
    {
     "name": "stdout",
     "output_type": "stream",
     "text": [
      "Tensor(\"GatherNd_8:0\", shape=(2, 2, 2), dtype=string)\n",
      "Tensor(\"Shape_10:0\", shape=(3,), dtype=int32)\n",
      "[[['c0' 'd0']\n",
      "  ['a1' 'b1']]\n",
      "\n",
      " [['a0' 'b0']\n",
      "  ['c1' 'd1']]]\n"
     ]
    }
   ],
   "source": [
    "indices = [[[0, 1], [1, 0]], [[0, 0], [1, 1]]]\n",
    "gn_const2 = tf.gather_nd(const2, indices)\n",
    "print(gn_const2)\n",
    "print(tf.shape(gn_const2))\n",
    "tfutil.print_operation_value(gn_const2)"
   ]
  },
  {
   "cell_type": "code",
   "execution_count": 13,
   "metadata": {},
   "outputs": [
    {
     "name": "stdout",
     "output_type": "stream",
     "text": [
      "Tensor(\"GatherNd_9:0\", shape=(2, 2), dtype=string)\n",
      "Tensor(\"Shape_11:0\", shape=(2,), dtype=int32)\n",
      "[['b0' 'b1']\n",
      " ['d0' 'c1']]\n"
     ]
    }
   ],
   "source": [
    "indices = [[[0, 0, 1], [1, 0, 1]], [[0, 1, 1], [1, 1, 0]]]\n",
    "gn_const2 = tf.gather_nd(const2, indices)\n",
    "print(gn_const2)\n",
    "print(tf.shape(gn_const2))\n",
    "tfutil.print_operation_value(gn_const2)"
   ]
  }
 ],
 "metadata": {
  "kernelspec": {
   "display_name": "Python 2",
   "language": "python",
   "name": "python2"
  },
  "language_info": {
   "codemirror_mode": {
    "name": "ipython",
    "version": 2
   },
   "file_extension": ".py",
   "mimetype": "text/x-python",
   "name": "python",
   "nbconvert_exporter": "python",
   "pygments_lexer": "ipython2",
   "version": "2.7.12"
  }
 },
 "nbformat": 4,
 "nbformat_minor": 2
}
