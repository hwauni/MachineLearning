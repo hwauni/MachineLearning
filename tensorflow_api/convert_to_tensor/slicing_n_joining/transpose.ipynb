{
 "cells": [
  {
   "cell_type": "code",
   "execution_count": 1,
   "metadata": {},
   "outputs": [],
   "source": [
    "import tensorflow as tf\n",
    "import numpy as np\n",
    "import tfutil"
   ]
  },
  {
   "cell_type": "code",
   "execution_count": 2,
   "metadata": {},
   "outputs": [
    {
     "data": {
      "text/plain": [
       "'\\nA=[2,3,4] matrix, using perm(1,0,2) will get B=[3,2,4]\\n\\nIndex = (0,1,2)\\nA     = [2,3,4]\\nPerm  = (1,0,2)\\nB     = (3,2,4)  --> Perm 1 from Index 1 (3), Perm 0 from Index 0 (2), Perm 2 from Index 2 (4) --> so get (3,2,4\\n'"
      ]
     },
     "execution_count": 2,
     "metadata": {},
     "output_type": "execute_result"
    }
   ],
   "source": [
    "'''\n",
    "A=[2,3,4] matrix, using perm(1,0,2) will get B=[3,2,4]\n",
    "\n",
    "Index = (0,1,2)\n",
    "A     = [2,3,4]\n",
    "Perm  = (1,0,2)\n",
    "B     = (3,2,4)  --> Perm 1 from Index 1 (3), Perm 0 from Index 0 (2), Perm 2 from Index 2 (4) --> so get (3,2,4\n",
    "'''"
   ]
  },
  {
   "cell_type": "code",
   "execution_count": 3,
   "metadata": {},
   "outputs": [
    {
     "name": "stdout",
     "output_type": "stream",
     "text": [
      "Tensor(\"Const:0\", shape=(1, 6), dtype=int32)\n",
      "Tensor(\"Shape:0\", shape=(2,), dtype=int32)\n",
      "[[1 2 3 4 5 6]]\n"
     ]
    }
   ],
   "source": [
    "x = [[1, 2, 3, 4, 5, 6]]\n",
    "\n",
    "const1 = tf.constant(np.array(x), dtype=tf.int32)\n",
    "print(const1)\n",
    "print(tf.shape(const1))\n",
    "tfutil.print_constant(const1)"
   ]
  },
  {
   "cell_type": "code",
   "execution_count": 4,
   "metadata": {},
   "outputs": [
    {
     "name": "stdout",
     "output_type": "stream",
     "text": [
      "Tensor(\"transpose:0\", shape=(6, 1), dtype=int32)\n",
      "Tensor(\"Shape_1:0\", shape=(2,), dtype=int32)\n",
      "[[1]\n",
      " [2]\n",
      " [3]\n",
      " [4]\n",
      " [5]\n",
      " [6]]\n"
     ]
    }
   ],
   "source": [
    "perm = [1, 0]\n",
    "trans_const1 = tf.transpose(const1, perm)\n",
    "print(trans_const1)\n",
    "print(tf.shape(trans_const1))\n",
    "tfutil.print_operation_value(trans_const1)"
   ]
  },
  {
   "cell_type": "code",
   "execution_count": 5,
   "metadata": {},
   "outputs": [
    {
     "name": "stdout",
     "output_type": "stream",
     "text": [
      "Tensor(\"transpose_1:0\", shape=(1, 6), dtype=int32)\n",
      "Tensor(\"Shape_2:0\", shape=(2,), dtype=int32)\n",
      "[[1 2 3 4 5 6]]\n"
     ]
    }
   ],
   "source": [
    "perm = [0, 1]\n",
    "trans_const1 = tf.transpose(const1, perm)\n",
    "print(trans_const1)\n",
    "print(tf.shape(trans_const1))\n",
    "tfutil.print_operation_value(trans_const1)"
   ]
  },
  {
   "cell_type": "code",
   "execution_count": 6,
   "metadata": {},
   "outputs": [
    {
     "name": "stdout",
     "output_type": "stream",
     "text": [
      "Tensor(\"Const_1:0\", shape=(2, 3), dtype=int32)\n",
      "Tensor(\"Shape_3:0\", shape=(2,), dtype=int32)\n",
      "[[1 2 3]\n",
      " [4 5 6]]\n"
     ]
    }
   ],
   "source": [
    "x = [[1, 2, 3], [4, 5, 6]]\n",
    "const2 = tf.constant(np.array(x), dtype=tf.int32)\n",
    "print(const2)\n",
    "print(tf.shape(const2))\n",
    "tfutil.print_constant(const2)"
   ]
  },
  {
   "cell_type": "code",
   "execution_count": 7,
   "metadata": {},
   "outputs": [
    {
     "name": "stdout",
     "output_type": "stream",
     "text": [
      "Tensor(\"transpose_2:0\", shape=(3, 2), dtype=int32)\n",
      "Tensor(\"Shape_4:0\", shape=(2,), dtype=int32)\n",
      "[[1 4]\n",
      " [2 5]\n",
      " [3 6]]\n"
     ]
    }
   ],
   "source": [
    "perm = [1, 0] \n",
    "trans_const2 = tf.transpose(const2, perm)\n",
    "print(trans_const2)\n",
    "print(tf.shape(trans_const2))\n",
    "tfutil.print_operation_value(trans_const2)"
   ]
  },
  {
   "cell_type": "code",
   "execution_count": 8,
   "metadata": {},
   "outputs": [
    {
     "name": "stdout",
     "output_type": "stream",
     "text": [
      "Tensor(\"transpose_3:0\", shape=(2, 3), dtype=int32)\n",
      "Tensor(\"Shape_5:0\", shape=(2,), dtype=int32)\n",
      "[[1 2 3]\n",
      " [4 5 6]]\n"
     ]
    }
   ],
   "source": [
    "perm = [0, 1] \n",
    "trans_const2 = tf.transpose(const2, perm)\n",
    "print(trans_const2)\n",
    "print(tf.shape(trans_const2))\n",
    "tfutil.print_operation_value(trans_const2)"
   ]
  },
  {
   "cell_type": "code",
   "execution_count": 9,
   "metadata": {},
   "outputs": [
    {
     "name": "stdout",
     "output_type": "stream",
     "text": [
      "Tensor(\"Const_2:0\", shape=(2, 2, 3), dtype=int32)\n",
      "Tensor(\"Shape_6:0\", shape=(3,), dtype=int32)\n",
      "[[[ 1  2  3]\n",
      "  [ 4  5  6]]\n",
      "\n",
      " [[ 7  8  9]\n",
      "  [10 11 12]]]\n"
     ]
    }
   ],
   "source": [
    "x = [[[ 1,  2,  3],\n",
    "      [ 4,  5,  6]],\n",
    "     [[ 7,  8,  9],\n",
    "      [10, 11, 12]]]\n",
    "const3 = tf.constant(np.array(x), dtype=tf.int32)\n",
    "print(const3)\n",
    "print(tf.shape(const3))\n",
    "tfutil.print_constant(const3)"
   ]
  },
  {
   "cell_type": "code",
   "execution_count": 10,
   "metadata": {},
   "outputs": [
    {
     "name": "stdout",
     "output_type": "stream",
     "text": [
      "Tensor(\"transpose_4:0\", shape=(2, 2, 3), dtype=int32)\n",
      "Tensor(\"Shape_7:0\", shape=(3,), dtype=int32)\n",
      "[[[ 1  2  3]\n",
      "  [ 7  8  9]]\n",
      "\n",
      " [[ 4  5  6]\n",
      "  [10 11 12]]]\n"
     ]
    }
   ],
   "source": [
    "perm = [1, 0, 2] \n",
    "trans_const3 = tf.transpose(const3, perm)\n",
    "print(trans_const3)\n",
    "print(tf.shape(trans_const3))\n",
    "tfutil.print_operation_value(trans_const3)"
   ]
  },
  {
   "cell_type": "code",
   "execution_count": 11,
   "metadata": {},
   "outputs": [
    {
     "name": "stdout",
     "output_type": "stream",
     "text": [
      "Tensor(\"transpose_5:0\", shape=(3, 2, 2), dtype=int32)\n",
      "Tensor(\"Shape_8:0\", shape=(3,), dtype=int32)\n",
      "[[[ 1  4]\n",
      "  [ 7 10]]\n",
      "\n",
      " [[ 2  5]\n",
      "  [ 8 11]]\n",
      "\n",
      " [[ 3  6]\n",
      "  [ 9 12]]]\n"
     ]
    }
   ],
   "source": [
    "perm = [2, 0, 1] \n",
    "trans_const3 = tf.transpose(const3, perm)\n",
    "print(trans_const3)\n",
    "print(tf.shape(trans_const3))\n",
    "tfutil.print_operation_value(trans_const3)"
   ]
  },
  {
   "cell_type": "code",
   "execution_count": 12,
   "metadata": {},
   "outputs": [
    {
     "name": "stdout",
     "output_type": "stream",
     "text": [
      "Tensor(\"transpose_6:0\", shape=(3, 2, 2), dtype=int32)\n",
      "Tensor(\"Shape_9:0\", shape=(3,), dtype=int32)\n",
      "[[[ 1  7]\n",
      "  [ 4 10]]\n",
      "\n",
      " [[ 2  8]\n",
      "  [ 5 11]]\n",
      "\n",
      " [[ 3  9]\n",
      "  [ 6 12]]]\n"
     ]
    }
   ],
   "source": [
    "perm = [2, 1, 0] \n",
    "trans_const3 = tf.transpose(const3, perm)\n",
    "print(trans_const3)\n",
    "print(tf.shape(trans_const3))\n",
    "tfutil.print_operation_value(trans_const3)"
   ]
  },
  {
   "cell_type": "code",
   "execution_count": 13,
   "metadata": {},
   "outputs": [
    {
     "name": "stdout",
     "output_type": "stream",
     "text": [
      "Tensor(\"transpose_7:0\", shape=(2, 3, 2), dtype=int32)\n",
      "Tensor(\"Shape_10:0\", shape=(3,), dtype=int32)\n",
      "[[[ 1  7]\n",
      "  [ 2  8]\n",
      "  [ 3  9]]\n",
      "\n",
      " [[ 4 10]\n",
      "  [ 5 11]\n",
      "  [ 6 12]]]\n"
     ]
    }
   ],
   "source": [
    "perm = [1, 2, 0] \n",
    "trans_const3 = tf.transpose(const3, perm)\n",
    "print(trans_const3)\n",
    "print(tf.shape(trans_const3))\n",
    "tfutil.print_operation_value(trans_const3)"
   ]
  },
  {
   "cell_type": "code",
   "execution_count": 14,
   "metadata": {},
   "outputs": [
    {
     "name": "stdout",
     "output_type": "stream",
     "text": [
      "Tensor(\"transpose_8:0\", shape=(2, 3, 2), dtype=int32)\n",
      "Tensor(\"Shape_11:0\", shape=(3,), dtype=int32)\n",
      "[[[ 1  4]\n",
      "  [ 2  5]\n",
      "  [ 3  6]]\n",
      "\n",
      " [[ 7 10]\n",
      "  [ 8 11]\n",
      "  [ 9 12]]]\n"
     ]
    }
   ],
   "source": [
    "perm = [0, 2, 1] \n",
    "trans_const3 = tf.transpose(const3, perm)\n",
    "print(trans_const3)\n",
    "print(tf.shape(trans_const3))\n",
    "tfutil.print_operation_value(trans_const3)"
   ]
  },
  {
   "cell_type": "code",
   "execution_count": 15,
   "metadata": {},
   "outputs": [
    {
     "name": "stdout",
     "output_type": "stream",
     "text": [
      "Tensor(\"transpose_9:0\", shape=(2, 2, 3), dtype=int32)\n",
      "Tensor(\"Shape_12:0\", shape=(3,), dtype=int32)\n",
      "[[[ 1  2  3]\n",
      "  [ 4  5  6]]\n",
      "\n",
      " [[ 7  8  9]\n",
      "  [10 11 12]]]\n"
     ]
    }
   ],
   "source": [
    "perm = [0, 1, 2] \n",
    "trans_const3 = tf.transpose(const3, perm)\n",
    "print(trans_const3)\n",
    "print(tf.shape(trans_const3))\n",
    "tfutil.print_operation_value(trans_const3)"
   ]
  }
 ],
 "metadata": {
  "kernelspec": {
   "display_name": "Python 2",
   "language": "python",
   "name": "python2"
  },
  "language_info": {
   "codemirror_mode": {
    "name": "ipython",
    "version": 2
   },
   "file_extension": ".py",
   "mimetype": "text/x-python",
   "name": "python",
   "nbconvert_exporter": "python",
   "pygments_lexer": "ipython2",
   "version": "2.7.12"
  }
 },
 "nbformat": 4,
 "nbformat_minor": 2
}
