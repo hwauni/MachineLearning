{
 "cells": [
  {
   "cell_type": "code",
   "execution_count": 1,
   "metadata": {},
   "outputs": [],
   "source": [
    "import tensorflow as tf\n",
    "import numpy as np\n",
    "import tfutil"
   ]
  },
  {
   "cell_type": "code",
   "execution_count": 2,
   "metadata": {},
   "outputs": [
    {
     "name": "stdout",
     "output_type": "stream",
     "text": [
      "Tensor(\"Const:0\", shape=(10,), dtype=int32)\n",
      "Tensor(\"Shape:0\", shape=(1,), dtype=int32)\n",
      "[ 1  2  3  4  5  6  7  8  9 10]\n"
     ]
    }
   ],
   "source": [
    "# [1, 2, 3, 4, 5, 6, 7, 8, 9]\n",
    "const1 = tf.constant(np.array([1, 2, 3, 4, 5, 6, 7, 8, 9, 10]), dtype=tf.int32)\n",
    "print(const1)\n",
    "print(tf.shape(const1))\n",
    "tfutil.print_constant(const1)"
   ]
  },
  {
   "cell_type": "code",
   "execution_count": 3,
   "metadata": {},
   "outputs": [
    {
     "name": "stdout",
     "output_type": "stream",
     "text": [
      "Tensor(\"Tile:0\", shape=(10,), dtype=int32)\n",
      "Tensor(\"Shape_1:0\", shape=(1,), dtype=int32)\n",
      "[ 1  2  3  4  5  6  7  8  9 10]\n"
     ]
    }
   ],
   "source": [
    "ti_const1 = tf.tile(const1, [1])\n",
    "print(ti_const1)\n",
    "print(tf.shape(ti_const1))\n",
    "tfutil.print_operation_value(ti_const1)"
   ]
  },
  {
   "cell_type": "code",
   "execution_count": 4,
   "metadata": {},
   "outputs": [
    {
     "name": "stdout",
     "output_type": "stream",
     "text": [
      "Tensor(\"Tile_1:0\", shape=(20,), dtype=int32)\n",
      "Tensor(\"Shape_2:0\", shape=(1,), dtype=int32)\n",
      "[ 1  2  3  4  5  6  7  8  9 10  1  2  3  4  5  6  7  8  9 10]\n"
     ]
    }
   ],
   "source": [
    "ti_const1 = tf.tile(const1, [2])\n",
    "print(ti_const1)\n",
    "print(tf.shape(ti_const1))\n",
    "tfutil.print_operation_value(ti_const1)"
   ]
  },
  {
   "cell_type": "code",
   "execution_count": 5,
   "metadata": {},
   "outputs": [
    {
     "name": "stdout",
     "output_type": "stream",
     "text": [
      "Tensor(\"Tile_2:0\", shape=(30,), dtype=int32)\n",
      "Tensor(\"Shape_3:0\", shape=(1,), dtype=int32)\n",
      "[ 1  2  3  4  5  6  7  8  9 10  1  2  3  4  5  6  7  8  9 10  1  2  3  4  5\n",
      "  6  7  8  9 10]\n"
     ]
    }
   ],
   "source": [
    "ti_const1 = tf.tile(const1, [3])\n",
    "print(ti_const1)\n",
    "print(tf.shape(ti_const1))\n",
    "tfutil.print_operation_value(ti_const1)"
   ]
  }
 ],
 "metadata": {
  "kernelspec": {
   "display_name": "Python 2",
   "language": "python",
   "name": "python2"
  },
  "language_info": {
   "codemirror_mode": {
    "name": "ipython",
    "version": 2
   },
   "file_extension": ".py",
   "mimetype": "text/x-python",
   "name": "python",
   "nbconvert_exporter": "python",
   "pygments_lexer": "ipython2",
   "version": "2.7.12"
  }
 },
 "nbformat": 4,
 "nbformat_minor": 2
}
