{
 "cells": [
  {
   "cell_type": "code",
   "execution_count": 1,
   "metadata": {},
   "outputs": [],
   "source": [
    "import tensorflow as tf\n",
    "import numpy as np\n",
    "import tfutil"
   ]
  },
  {
   "cell_type": "code",
   "execution_count": 2,
   "metadata": {},
   "outputs": [
    {
     "name": "stdout",
     "output_type": "stream",
     "text": [
      "Tensor(\"Const:0\", shape=(4, 1, 1, 1), dtype=int32)\n",
      "Tensor(\"Shape:0\", shape=(4,), dtype=int32)\n",
      "[[[[1]]]\n",
      "\n",
      "\n",
      " [[[2]]]\n",
      "\n",
      "\n",
      " [[[3]]]\n",
      "\n",
      "\n",
      " [[[4]]]]\n"
     ]
    }
   ],
   "source": [
    "x = [[[[1]]], [[[2]]], [[[3]]], [[[4]]]]\n",
    "\n",
    "const1 = tf.constant(np.array(x), dtype=tf.int32)\n",
    "print(const1)\n",
    "print(tf.shape(const1))\n",
    "tfutil.print_constant(const1)"
   ]
  },
  {
   "cell_type": "code",
   "execution_count": 3,
   "metadata": {},
   "outputs": [
    {
     "name": "stdout",
     "output_type": "stream",
     "text": [
      "Tensor(\"BatchToSpaceND:0\", shape=(4, 1, 0, 1), dtype=int32)\n",
      "Tensor(\"Shape_1:0\", shape=(4,), dtype=int32)\n",
      "[]\n"
     ]
    }
   ],
   "source": [
    "# crops = [[crop_top, crop_bottom], [crop_left, crop_right]]\n",
    "# [batch, height, width, depth]\n",
    "# height = height_pad - crop_top - crop_bottom\n",
    "# width = width_pad - crop_left - crop_right\n",
    "\n",
    "corps = [[0, 0],[0, 1]]\n",
    "blocksize = 1\n",
    "bts_const1 = tf.batch_to_space(const1, corps, blocksize)\n",
    "print(bts_const1)\n",
    "print(tf.shape(bts_const1))\n",
    "tfutil.print_operation_value(bts_const1)"
   ]
  },
  {
   "cell_type": "code",
   "execution_count": 4,
   "metadata": {},
   "outputs": [
    {
     "name": "stdout",
     "output_type": "stream",
     "text": [
      "Tensor(\"BatchToSpaceND_1:0\", shape=(4, 1, 0, 1), dtype=int32)\n",
      "Tensor(\"Shape_2:0\", shape=(4,), dtype=int32)\n",
      "[]\n"
     ]
    }
   ],
   "source": [
    "corps = [[0, 0],[0, 1]]\n",
    "blocksize = 1\n",
    "bts_const1 = tf.batch_to_space(const1, corps, blocksize)\n",
    "print(bts_const1)\n",
    "print(tf.shape(bts_const1))\n",
    "tfutil.print_operation_value(bts_const1)"
   ]
  },
  {
   "cell_type": "code",
   "execution_count": 5,
   "metadata": {},
   "outputs": [
    {
     "name": "stdout",
     "output_type": "stream",
     "text": [
      "Tensor(\"BatchToSpaceND_2:0\", shape=(4, 0, 1, 1), dtype=int32)\n",
      "Tensor(\"Shape_3:0\", shape=(4,), dtype=int32)\n",
      "[]\n"
     ]
    }
   ],
   "source": [
    "corps = [[0, 1],[0, 0]]\n",
    "blocksize = 1\n",
    "bts_const1 = tf.batch_to_space(const1, corps, blocksize)\n",
    "print(bts_const1)\n",
    "print(tf.shape(bts_const1))\n",
    "tfutil.print_operation_value(bts_const1)"
   ]
  },
  {
   "cell_type": "code",
   "execution_count": 6,
   "metadata": {},
   "outputs": [
    {
     "name": "stdout",
     "output_type": "stream",
     "text": [
      "Tensor(\"BatchToSpaceND_3:0\", shape=(4, 0, 1, 1), dtype=int32)\n",
      "Tensor(\"Shape_4:0\", shape=(4,), dtype=int32)\n",
      "[]\n"
     ]
    }
   ],
   "source": [
    "corps = [[1, 0],[0, 0]]\n",
    "blocksize = 1\n",
    "bts_const1 = tf.batch_to_space(const1, corps, blocksize)\n",
    "print(bts_const1)\n",
    "print(tf.shape(bts_const1))\n",
    "tfutil.print_operation_value(bts_const1)"
   ]
  },
  {
   "cell_type": "code",
   "execution_count": 7,
   "metadata": {},
   "outputs": [
    {
     "name": "stdout",
     "output_type": "stream",
     "text": [
      "Tensor(\"BatchToSpaceND_4:0\", shape=(1, 2, 2, 1), dtype=int32)\n",
      "Tensor(\"Shape_5:0\", shape=(4,), dtype=int32)\n",
      "[[[[1]\n",
      "   [2]]\n",
      "\n",
      "  [[3]\n",
      "   [4]]]]\n"
     ]
    }
   ],
   "source": [
    "corps = [[0, 0],[0, 0]]\n",
    "blocksize = 2\n",
    "bts_const1 = tf.batch_to_space(const1, corps, blocksize)\n",
    "print(bts_const1)\n",
    "print(tf.shape(bts_const1))\n",
    "tfutil.print_operation_value(bts_const1)"
   ]
  },
  {
   "cell_type": "code",
   "execution_count": 8,
   "metadata": {},
   "outputs": [
    {
     "name": "stdout",
     "output_type": "stream",
     "text": [
      "Tensor(\"BatchToSpaceND_5:0\", shape=(1, 2, 0, 1), dtype=int32)\n",
      "Tensor(\"Shape_6:0\", shape=(4,), dtype=int32)\n",
      "[]\n"
     ]
    }
   ],
   "source": [
    "corps = [[0, 0],[1, 1]]\n",
    "blocksize = 2\n",
    "bts_const1 = tf.batch_to_space(const1, corps, blocksize)\n",
    "print(bts_const1)\n",
    "print(tf.shape(bts_const1))\n",
    "tfutil.print_operation_value(bts_const1)"
   ]
  },
  {
   "cell_type": "code",
   "execution_count": 9,
   "metadata": {},
   "outputs": [
    {
     "name": "stdout",
     "output_type": "stream",
     "text": [
      "Tensor(\"BatchToSpaceND_6:0\", shape=(1, 0, 2, 1), dtype=int32)\n",
      "Tensor(\"Shape_7:0\", shape=(4,), dtype=int32)\n",
      "[]\n"
     ]
    }
   ],
   "source": [
    "corps = [[1, 1],[0, 0]]\n",
    "blocksize = 2\n",
    "bts_const1 = tf.batch_to_space(const1, corps, blocksize)\n",
    "print(bts_const1)\n",
    "print(tf.shape(bts_const1))\n",
    "tfutil.print_operation_value(bts_const1)"
   ]
  },
  {
   "cell_type": "code",
   "execution_count": 10,
   "metadata": {},
   "outputs": [
    {
     "name": "stdout",
     "output_type": "stream",
     "text": [
      "Tensor(\"BatchToSpaceND_7:0\", shape=(1, 0, 0, 1), dtype=int32)\n",
      "Tensor(\"Shape_8:0\", shape=(4,), dtype=int32)\n",
      "[]\n"
     ]
    }
   ],
   "source": [
    "corps = [[1, 1],[1, 1]]\n",
    "blocksize = 2\n",
    "bts_const1 = tf.batch_to_space(const1, corps, blocksize)\n",
    "print(bts_const1)\n",
    "print(tf.shape(bts_const1))\n",
    "tfutil.print_operation_value(bts_const1)"
   ]
  },
  {
   "cell_type": "code",
   "execution_count": 11,
   "metadata": {
    "scrolled": false
   },
   "outputs": [
    {
     "name": "stdout",
     "output_type": "stream",
     "text": [
      "Tensor(\"Const_1:0\", shape=(4, 1, 1, 3), dtype=int32)\n",
      "Tensor(\"Shape_9:0\", shape=(4,), dtype=int32)\n",
      "[[[[ 1  2  3]]]\n",
      "\n",
      "\n",
      " [[[ 4  5  6]]]\n",
      "\n",
      "\n",
      " [[[ 7  8  9]]]\n",
      "\n",
      "\n",
      " [[[10 11 12]]]]\n"
     ]
    }
   ],
   "source": [
    "x = [[[[ 1,  2,  3]]],\n",
    " [[[ 4,  5,  6]]],\n",
    " [[[ 7,  8,  9]]],\n",
    " [[[10, 11, 12]]]]\n",
    "const2 = tf.constant(np.array(x), dtype=tf.int32)\n",
    "print(const2)\n",
    "print(tf.shape(const2))\n",
    "tfutil.print_constant(const2)"
   ]
  },
  {
   "cell_type": "code",
   "execution_count": 12,
   "metadata": {},
   "outputs": [
    {
     "name": "stdout",
     "output_type": "stream",
     "text": [
      "Tensor(\"BatchToSpaceND_8:0\", shape=(1, 2, 2, 1), dtype=int32)\n",
      "Tensor(\"Shape_10:0\", shape=(4,), dtype=int32)\n",
      "[[[[1]\n",
      "   [2]]\n",
      "\n",
      "  [[3]\n",
      "   [4]]]]\n"
     ]
    }
   ],
   "source": [
    "corps = [[0, 0],[0, 0]]\n",
    "blocksize = 2\n",
    "bts_const1 = tf.batch_to_space(const1, corps, blocksize)\n",
    "print(bts_const1)\n",
    "print(tf.shape(bts_const1))\n",
    "tfutil.print_operation_value(bts_const1)"
   ]
  },
  {
   "cell_type": "code",
   "execution_count": 13,
   "metadata": {},
   "outputs": [
    {
     "name": "stdout",
     "output_type": "stream",
     "text": [
      "Tensor(\"Const_2:0\", shape=(4, 2, 2, 1), dtype=int32)\n",
      "Tensor(\"Shape_11:0\", shape=(4,), dtype=int32)\n",
      "[[[[ 1]\n",
      "   [ 3]]\n",
      "\n",
      "  [[ 9]\n",
      "   [11]]]\n",
      "\n",
      "\n",
      " [[[ 2]\n",
      "   [ 4]]\n",
      "\n",
      "  [[10]\n",
      "   [12]]]\n",
      "\n",
      "\n",
      " [[[ 5]\n",
      "   [ 7]]\n",
      "\n",
      "  [[13]\n",
      "   [15]]]\n",
      "\n",
      "\n",
      " [[[ 6]\n",
      "   [ 8]]\n",
      "\n",
      "  [[14]\n",
      "   [16]]]]\n"
     ]
    }
   ],
   "source": [
    "x = [[[[1], [3]], [[9], [11]]],\n",
    "     [[[2], [4]], [[10], [12]]],\n",
    "     [[[5], [7]], [[13], [15]]],\n",
    "     [[[6], [8]], [[14], [16]]]]\n",
    "const3 = tf.constant(np.array(x), dtype=tf.int32)\n",
    "print(const3)\n",
    "print(tf.shape(const3))\n",
    "tfutil.print_constant(const3)"
   ]
  },
  {
   "cell_type": "code",
   "execution_count": 14,
   "metadata": {},
   "outputs": [
    {
     "name": "stdout",
     "output_type": "stream",
     "text": [
      "Tensor(\"BatchToSpaceND_9:0\", shape=(1, 4, 4, 1), dtype=int32)\n",
      "Tensor(\"Shape_12:0\", shape=(4,), dtype=int32)\n",
      "[[[[ 1]\n",
      "   [ 2]\n",
      "   [ 3]\n",
      "   [ 4]]\n",
      "\n",
      "  [[ 5]\n",
      "   [ 6]\n",
      "   [ 7]\n",
      "   [ 8]]\n",
      "\n",
      "  [[ 9]\n",
      "   [10]\n",
      "   [11]\n",
      "   [12]]\n",
      "\n",
      "  [[13]\n",
      "   [14]\n",
      "   [15]\n",
      "   [16]]]]\n"
     ]
    }
   ],
   "source": [
    "corps = [[0, 0],[0, 0]]\n",
    "blocksize = 2\n",
    "bts_const3 = tf.batch_to_space(const3, corps, blocksize)\n",
    "print(bts_const3)\n",
    "print(tf.shape(bts_const3))\n",
    "tfutil.print_operation_value(bts_const3)"
   ]
  },
  {
   "cell_type": "code",
   "execution_count": 15,
   "metadata": {},
   "outputs": [
    {
     "name": "stdout",
     "output_type": "stream",
     "text": [
      "Tensor(\"Const_3:0\", shape=(8, 1, 2, 1), dtype=int32)\n",
      "Tensor(\"Shape_13:0\", shape=(4,), dtype=int32)\n",
      "[[[[ 1]\n",
      "   [ 3]]]\n",
      "\n",
      "\n",
      " [[[ 9]\n",
      "   [11]]]\n",
      "\n",
      "\n",
      " [[[ 2]\n",
      "   [ 4]]]\n",
      "\n",
      "\n",
      " [[[10]\n",
      "   [12]]]\n",
      "\n",
      "\n",
      " [[[ 5]\n",
      "   [ 7]]]\n",
      "\n",
      "\n",
      " [[[13]\n",
      "   [15]]]\n",
      "\n",
      "\n",
      " [[[ 6]\n",
      "   [ 8]]]\n",
      "\n",
      "\n",
      " [[[14]\n",
      "   [16]]]]\n"
     ]
    }
   ],
   "source": [
    "x = [[[[1], [3]]], [[[9], [11]]], [[[2], [4]]], [[[10], [12]]],\n",
    "     [[[5], [7]]], [[[13], [15]]], [[[6], [8]]], [[[14], [16]]]]\n",
    "const4 = tf.constant(np.array(x), dtype=tf.int32)\n",
    "print(const4)\n",
    "print(tf.shape(const4))\n",
    "tfutil.print_constant(const4)"
   ]
  },
  {
   "cell_type": "code",
   "execution_count": 16,
   "metadata": {},
   "outputs": [
    {
     "name": "stdout",
     "output_type": "stream",
     "text": [
      "Tensor(\"BatchToSpaceND_10:0\", shape=(2, 2, 4, 1), dtype=int32)\n",
      "Tensor(\"Shape_14:0\", shape=(4,), dtype=int32)\n",
      "[[[[ 1]\n",
      "   [ 2]\n",
      "   [ 3]\n",
      "   [ 4]]\n",
      "\n",
      "  [[ 5]\n",
      "   [ 6]\n",
      "   [ 7]\n",
      "   [ 8]]]\n",
      "\n",
      "\n",
      " [[[ 9]\n",
      "   [10]\n",
      "   [11]\n",
      "   [12]]\n",
      "\n",
      "  [[13]\n",
      "   [14]\n",
      "   [15]\n",
      "   [16]]]]\n"
     ]
    }
   ],
   "source": [
    "corps = [[0, 0],[0, 0]]\n",
    "blocksize = 2\n",
    "bts_const4 = tf.batch_to_space(const4, corps, blocksize)\n",
    "print(bts_const4)\n",
    "print(tf.shape(bts_const4))\n",
    "tfutil.print_operation_value(bts_const4)"
   ]
  }
 ],
 "metadata": {
  "kernelspec": {
   "display_name": "Python 2",
   "language": "python",
   "name": "python2"
  },
  "language_info": {
   "codemirror_mode": {
    "name": "ipython",
    "version": 2
   },
   "file_extension": ".py",
   "mimetype": "text/x-python",
   "name": "python",
   "nbconvert_exporter": "python",
   "pygments_lexer": "ipython2",
   "version": "2.7.12"
  }
 },
 "nbformat": 4,
 "nbformat_minor": 2
}
