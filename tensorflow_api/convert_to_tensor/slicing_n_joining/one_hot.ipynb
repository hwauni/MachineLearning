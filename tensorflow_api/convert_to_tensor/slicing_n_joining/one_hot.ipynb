{
 "cells": [
  {
   "cell_type": "code",
   "execution_count": 1,
   "metadata": {},
   "outputs": [],
   "source": [
    "import tensorflow as tf\n",
    "import numpy as np\n",
    "import tfutil"
   ]
  },
  {
   "cell_type": "code",
   "execution_count": 2,
   "metadata": {},
   "outputs": [
    {
     "name": "stdout",
     "output_type": "stream",
     "text": [
      "Tensor(\"Const:0\", shape=(3,), dtype=int64)\n",
      "Tensor(\"Shape:0\", shape=(1,), dtype=int32)\n",
      "[0 1 2]\n"
     ]
    }
   ],
   "source": [
    "x = [0, 1, 2]\n",
    "const1 = tf.constant(np.array(x))\n",
    "print(const1)\n",
    "print(tf.shape(const1))\n",
    "tfutil.print_constant(const1)"
   ]
  },
  {
   "cell_type": "code",
   "execution_count": 3,
   "metadata": {},
   "outputs": [
    {
     "name": "stdout",
     "output_type": "stream",
     "text": [
      "Tensor(\"one_hot:0\", shape=(3, 3), dtype=float32)\n",
      "Tensor(\"Shape_1:0\", shape=(2,), dtype=int32)\n",
      "[[ 1.  0.  0.]\n",
      " [ 0.  1.  0.]\n",
      " [ 0.  0.  1.]]\n"
     ]
    }
   ],
   "source": [
    "depth = 3\n",
    "oh_const1 = tf.one_hot(const1, depth)\n",
    "print(oh_const1)\n",
    "print(tf.shape(oh_const1))\n",
    "tfutil.print_operation_value(oh_const1)"
   ]
  },
  {
   "cell_type": "code",
   "execution_count": 4,
   "metadata": {},
   "outputs": [
    {
     "name": "stdout",
     "output_type": "stream",
     "text": [
      "Tensor(\"Const_1:0\", shape=(4,), dtype=int64)\n",
      "Tensor(\"Shape_2:0\", shape=(1,), dtype=int32)\n",
      "[ 0  2 -1  1]\n"
     ]
    }
   ],
   "source": [
    "x = [0, 2, -1, 1]\n",
    "const2 = tf.constant(np.array(x))\n",
    "print(const2)\n",
    "print(tf.shape(const2))\n",
    "tfutil.print_constant(const2)"
   ]
  },
  {
   "cell_type": "code",
   "execution_count": 5,
   "metadata": {},
   "outputs": [
    {
     "name": "stdout",
     "output_type": "stream",
     "text": [
      "Tensor(\"one_hot_1:0\", shape=(4, 3), dtype=float32)\n",
      "Tensor(\"Shape_3:0\", shape=(2,), dtype=int32)\n",
      "[[ 5.  0.  0.]\n",
      " [ 0.  0.  5.]\n",
      " [ 0.  0.  0.]\n",
      " [ 0.  5.  0.]]\n"
     ]
    }
   ],
   "source": [
    "depth = 3\n",
    "bm_const2 = tf.one_hot(const2, depth,\n",
    "    on_value=5.0, off_value=0.0, axis=-1)\n",
    "print(bm_const2)\n",
    "print(tf.shape(bm_const2))\n",
    "tfutil.print_operation_value(bm_const2)"
   ]
  },
  {
   "cell_type": "code",
   "execution_count": 6,
   "metadata": {},
   "outputs": [
    {
     "name": "stdout",
     "output_type": "stream",
     "text": [
      "Tensor(\"Const_2:0\", shape=(2, 2), dtype=int64)\n",
      "Tensor(\"Shape_4:0\", shape=(2,), dtype=int32)\n",
      "[[ 0  2]\n",
      " [ 1 -1]]\n"
     ]
    }
   ],
   "source": [
    "x = [[0, 2], [1, -1]]\n",
    "const3 = tf.constant(np.array(x)) \n",
    "print(const3)\n",
    "print(tf.shape(const3))\n",
    "tfutil.print_constant(const3)"
   ]
  },
  {
   "cell_type": "code",
   "execution_count": 7,
   "metadata": {},
   "outputs": [
    {
     "name": "stdout",
     "output_type": "stream",
     "text": [
      "Tensor(\"one_hot_2:0\", shape=(2, 2, 3), dtype=float32)\n",
      "Tensor(\"Shape_5:0\", shape=(3,), dtype=int32)\n",
      "[[[ 1.  0.  0.]\n",
      "  [ 0.  0.  1.]]\n",
      "\n",
      " [[ 0.  1.  0.]\n",
      "  [ 0.  0.  0.]]]\n"
     ]
    }
   ],
   "source": [
    "depth = 3\n",
    "bm_const3 = tf.one_hot(const3, depth, \n",
    "    on_value=1.0, off_value=0.0, axis=-1)\n",
    "print(bm_const3)\n",
    "print(tf.shape(bm_const3))\n",
    "tfutil.print_operation_value(bm_const3)"
   ]
  }
 ],
 "metadata": {
  "kernelspec": {
   "display_name": "Python 2",
   "language": "python",
   "name": "python2"
  },
  "language_info": {
   "codemirror_mode": {
    "name": "ipython",
    "version": 2
   },
   "file_extension": ".py",
   "mimetype": "text/x-python",
   "name": "python",
   "nbconvert_exporter": "python",
   "pygments_lexer": "ipython2",
   "version": "2.7.12"
  }
 },
 "nbformat": 4,
 "nbformat_minor": 2
}
