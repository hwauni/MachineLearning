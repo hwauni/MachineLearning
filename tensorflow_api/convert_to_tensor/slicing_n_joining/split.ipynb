{
 "cells": [
  {
   "cell_type": "code",
   "execution_count": 1,
   "metadata": {},
   "outputs": [
    {
     "name": "stdout",
     "output_type": "stream",
     "text": [
      "Tensor(\"Const:0\", shape=(10,), dtype=int32)\n",
      "Tensor(\"Shape:0\", shape=(1,), dtype=int32)\n",
      "[ 1  2  3  4  5  6  7  8  9 10]\n"
     ]
    }
   ],
   "source": [
    "import tensorflow as tf\n",
    "import numpy as np\n",
    "import tfutil\n",
    "\n",
    "\n",
    "# [1, 2, 3, 4, 5, 6, 7, 8, 9]\n",
    "const1 = tf.constant(np.array([1, 2, 3, 4, 5, 6, 7, 8, 9, 10]), dtype=tf.int32)\n",
    "print(const1)\n",
    "print(tf.shape(const1))\n",
    "tfutil.print_constant(const1)"
   ]
  },
  {
   "cell_type": "code",
   "execution_count": 2,
   "metadata": {},
   "outputs": [
    {
     "name": "stdout",
     "output_type": "stream",
     "text": [
      "Tensor(\"split:0\", shape=(5,), dtype=int32)\n",
      "Tensor(\"Shape_1:0\", shape=(1,), dtype=int32)\n",
      "[1 2 3 4 5]\n"
     ]
    }
   ],
   "source": [
    "sp1_const1, sp2_const1 = tf.split(const1, 2, 0)\n",
    "print(sp1_const1)\n",
    "print(tf.shape(sp1_const1))\n",
    "tfutil.print_operation_value(sp1_const1)"
   ]
  },
  {
   "cell_type": "code",
   "execution_count": 3,
   "metadata": {},
   "outputs": [
    {
     "name": "stdout",
     "output_type": "stream",
     "text": [
      "Tensor(\"split:1\", shape=(5,), dtype=int32)\n",
      "Tensor(\"Shape_2:0\", shape=(1,), dtype=int32)\n",
      "[ 6  7  8  9 10]\n"
     ]
    }
   ],
   "source": [
    "print(sp2_const1)\n",
    "print(tf.shape(sp2_const1))\n",
    "tfutil.print_operation_value(sp2_const1)"
   ]
  },
  {
   "cell_type": "code",
   "execution_count": 4,
   "metadata": {},
   "outputs": [
    {
     "name": "stdout",
     "output_type": "stream",
     "text": [
      "Tensor(\"Const_2:0\", shape=(5, 4), dtype=int32)\n",
      "Tensor(\"Shape_3:0\", shape=(2,), dtype=int32)\n",
      "[[ 1  2  3  4]\n",
      " [ 5  6  7  8]\n",
      " [ 9 10 11 12]\n",
      " [13 14 15 16]\n",
      " [17 18 19 20]]\n"
     ]
    }
   ],
   "source": [
    "# [[[1, 2, 3], [4, 5, 6]], [[7, 8, 9], [10, 11, 12]], [[13, 14, 15], [16, 17, 18]]]\n",
    "const2 = tf.constant([[1, 2, 3, 4], [5, 6, 7, 8], [9, 10, 11, 12], [13, 14, 15, 16], [17, 18, 19, 20]])\n",
    "print(const2)\n",
    "print(tf.shape(const2))\n",
    "tfutil.print_constant(const2)"
   ]
  },
  {
   "cell_type": "code",
   "execution_count": 5,
   "metadata": {},
   "outputs": [
    {
     "name": "stdout",
     "output_type": "stream",
     "text": [
      "Tensor(\"split_1:0\", shape=(5, 2), dtype=int32)\n",
      "Tensor(\"Shape_4:0\", shape=(2,), dtype=int32)\n",
      "[[ 1  2]\n",
      " [ 5  6]\n",
      " [ 9 10]\n",
      " [13 14]\n",
      " [17 18]]\n"
     ]
    }
   ],
   "source": [
    "sp1_const2, sp2_const2 = tf.split(const2, 2, 1)\n",
    "print(sp1_const2)\n",
    "print(tf.shape(sp1_const2))\n",
    "tfutil.print_operation_value(sp1_const2)"
   ]
  },
  {
   "cell_type": "code",
   "execution_count": 6,
   "metadata": {},
   "outputs": [
    {
     "name": "stdout",
     "output_type": "stream",
     "text": [
      "Tensor(\"split_1:1\", shape=(5, 2), dtype=int32)\n",
      "Tensor(\"Shape_5:0\", shape=(2,), dtype=int32)\n",
      "[[ 3  4]\n",
      " [ 7  8]\n",
      " [11 12]\n",
      " [15 16]\n",
      " [19 20]]\n"
     ]
    }
   ],
   "source": [
    "print(sp2_const2)\n",
    "print(tf.shape(sp2_const2))\n",
    "tfutil.print_operation_value(sp2_const2)"
   ]
  },
  {
   "cell_type": "code",
   "execution_count": 7,
   "metadata": {},
   "outputs": [
    {
     "name": "stdout",
     "output_type": "stream",
     "text": [
      "<tf.Variable 'Variable:0' shape=(5, 30) dtype=float32_ref>\n",
      "Tensor(\"Shape_6:0\", shape=(2,), dtype=int32)\n"
     ]
    }
   ],
   "source": [
    "# [5, 30]\n",
    "var1 = tf.Variable(tf.random_normal([5, 30]))\n",
    "print(var1)\n",
    "print(tf.shape(var1))"
   ]
  },
  {
   "cell_type": "code",
   "execution_count": 8,
   "metadata": {},
   "outputs": [
    {
     "name": "stdout",
     "output_type": "stream",
     "text": [
      "Tensor(\"split_2:0\", shape=(5, 10), dtype=float32)\n",
      "Tensor(\"Shape_7:0\", shape=(2,), dtype=int32)\n"
     ]
    }
   ],
   "source": [
    "sp1_var1, sp2_var1, sp3_var1 = tf.split(var1, 3, 1)\n",
    "print(sp1_var1)\n",
    "print(tf.shape(sp1_var1))"
   ]
  },
  {
   "cell_type": "code",
   "execution_count": 9,
   "metadata": {},
   "outputs": [
    {
     "name": "stdout",
     "output_type": "stream",
     "text": [
      "Tensor(\"split_2:1\", shape=(5, 10), dtype=float32)\n",
      "Tensor(\"Shape_8:0\", shape=(2,), dtype=int32)\n"
     ]
    }
   ],
   "source": [
    "print(sp2_var1)\n",
    "print(tf.shape(sp2_var1))"
   ]
  },
  {
   "cell_type": "code",
   "execution_count": 10,
   "metadata": {},
   "outputs": [
    {
     "name": "stdout",
     "output_type": "stream",
     "text": [
      "Tensor(\"split_2:2\", shape=(5, 10), dtype=float32)\n",
      "Tensor(\"Shape_9:0\", shape=(2,), dtype=int32)\n"
     ]
    }
   ],
   "source": [
    "print(sp3_var1)\n",
    "print(tf.shape(sp3_var1))"
   ]
  }
 ],
 "metadata": {
  "kernelspec": {
   "display_name": "Python 2",
   "language": "python",
   "name": "python2"
  },
  "language_info": {
   "codemirror_mode": {
    "name": "ipython",
    "version": 2
   },
   "file_extension": ".py",
   "mimetype": "text/x-python",
   "name": "python",
   "nbconvert_exporter": "python",
   "pygments_lexer": "ipython2",
   "version": "2.7.12"
  }
 },
 "nbformat": 4,
 "nbformat_minor": 2
}
