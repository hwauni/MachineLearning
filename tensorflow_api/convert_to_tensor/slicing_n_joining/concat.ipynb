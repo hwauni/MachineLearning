{
 "cells": [
  {
   "cell_type": "code",
   "execution_count": 1,
   "metadata": {},
   "outputs": [],
   "source": [
    "import tensorflow as tf\n",
    "import numpy as np\n",
    "import tfutil"
   ]
  },
  {
   "cell_type": "code",
   "execution_count": 2,
   "metadata": {},
   "outputs": [
    {
     "name": "stdout",
     "output_type": "stream",
     "text": [
      "Tensor(\"Const:0\", shape=(2, 3), dtype=int32)\n",
      "Tensor(\"Shape:0\", shape=(2,), dtype=int32)\n",
      "[[1 2 3]\n",
      " [4 5 6]]\n"
     ]
    }
   ],
   "source": [
    "# [[1, 2, 3], [4, 5, 6]]\n",
    "const1 = tf.constant(np.array([[1, 2, 3], [4, 5, 6]]), dtype=tf.int32)\n",
    "print(const1)\n",
    "print(tf.shape(const1))\n",
    "tfutil.print_constant(const1)"
   ]
  },
  {
   "cell_type": "code",
   "execution_count": 3,
   "metadata": {},
   "outputs": [
    {
     "name": "stdout",
     "output_type": "stream",
     "text": [
      "Tensor(\"Const_1:0\", shape=(2, 3), dtype=int32)\n",
      "Tensor(\"Shape_1:0\", shape=(2,), dtype=int32)\n",
      "[[ 7  8  9]\n",
      " [10 11 12]]\n"
     ]
    }
   ],
   "source": [
    "# [[7, 8, 9], [10, 11, 12]]\n",
    "const2 = tf.constant(np.array([[7, 8, 9], [10, 11, 12]]), dtype=tf.int32)\n",
    "print(const2)\n",
    "print(tf.shape(const2))\n",
    "tfutil.print_constant(const2)"
   ]
  },
  {
   "cell_type": "code",
   "execution_count": 4,
   "metadata": {},
   "outputs": [
    {
     "name": "stdout",
     "output_type": "stream",
     "text": [
      "Tensor(\"concat:0\", shape=(4, 3), dtype=int32)\n",
      "Tensor(\"Shape_2:0\", shape=(2,), dtype=int32)\n",
      "[[ 1  2  3]\n",
      " [ 4  5  6]\n",
      " [ 7  8  9]\n",
      " [10 11 12]]\n"
     ]
    }
   ],
   "source": [
    "cc_const1 = tf.concat([const1, const2], 0)\n",
    "print(cc_const1)\n",
    "print(tf.shape(cc_const1))\n",
    "tfutil.print_operation_value(cc_const1)"
   ]
  },
  {
   "cell_type": "code",
   "execution_count": 5,
   "metadata": {},
   "outputs": [
    {
     "name": "stdout",
     "output_type": "stream",
     "text": [
      "Tensor(\"concat_1:0\", shape=(2, 6), dtype=int32)\n",
      "Tensor(\"Shape_3:0\", shape=(2,), dtype=int32)\n",
      "[[ 1  2  3  7  8  9]\n",
      " [ 4  5  6 10 11 12]]\n"
     ]
    }
   ],
   "source": [
    "cc_const1 = tf.concat([const1, const2], 1)\n",
    "print(cc_const1)\n",
    "print(tf.shape(cc_const1))\n",
    "tfutil.print_operation_value(cc_const1)"
   ]
  }
 ],
 "metadata": {
  "kernelspec": {
   "display_name": "Python 2",
   "language": "python",
   "name": "python2"
  },
  "language_info": {
   "codemirror_mode": {
    "name": "ipython",
    "version": 2
   },
   "file_extension": ".py",
   "mimetype": "text/x-python",
   "name": "python",
   "nbconvert_exporter": "python",
   "pygments_lexer": "ipython2",
   "version": "2.7.12"
  }
 },
 "nbformat": 4,
 "nbformat_minor": 2
}
