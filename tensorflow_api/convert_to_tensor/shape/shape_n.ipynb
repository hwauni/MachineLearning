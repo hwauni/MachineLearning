{
 "cells": [
  {
   "cell_type": "code",
   "execution_count": 1,
   "metadata": {},
   "outputs": [],
   "source": [
    "import tensorflow as tf\n",
    "import numpy as np\n",
    "import tfutil"
   ]
  },
  {
   "cell_type": "code",
   "execution_count": 2,
   "metadata": {},
   "outputs": [
    {
     "name": "stdout",
     "output_type": "stream",
     "text": [
      "Tensor(\"Const:0\", shape=(1,), dtype=int64)\n",
      "Tensor(\"Shape:0\", shape=(1,), dtype=int32)\n",
      "[1]\n"
     ]
    }
   ],
   "source": [
    "x = [1]\n",
    "const1 = tf.constant(np.array(x))\n",
    "print(const1)\n",
    "print(tf.shape(const1))\n",
    "tfutil.print_constant(const1)"
   ]
  },
  {
   "cell_type": "code",
   "execution_count": 3,
   "metadata": {},
   "outputs": [
    {
     "name": "stdout",
     "output_type": "stream",
     "text": [
      "[<tf.Tensor 'ShapeN:0' shape=(1,) dtype=int32>]\n",
      "[array([1], dtype=int32)]\n"
     ]
    }
   ],
   "source": [
    "sn_const1 = tf.shape_n([const1])\n",
    "print(sn_const1)\n",
    "tfutil.print_operation_value(sn_const1)"
   ]
  },
  {
   "cell_type": "code",
   "execution_count": 4,
   "metadata": {},
   "outputs": [
    {
     "name": "stdout",
     "output_type": "stream",
     "text": [
      "Tensor(\"Const_1:0\", shape=(2,), dtype=int64)\n",
      "Tensor(\"Shape_1:0\", shape=(1,), dtype=int32)\n",
      "[1 2]\n"
     ]
    }
   ],
   "source": [
    "x = [1, 2]\n",
    "const2 = tf.constant(np.array(x))\n",
    "print(const2)\n",
    "print(tf.shape(const2))\n",
    "tfutil.print_constant(const2)"
   ]
  },
  {
   "cell_type": "code",
   "execution_count": 5,
   "metadata": {},
   "outputs": [
    {
     "name": "stdout",
     "output_type": "stream",
     "text": [
      "[<tf.Tensor 'ShapeN_1:0' shape=(1,) dtype=int32>]\n",
      "[array([2], dtype=int32)]\n"
     ]
    }
   ],
   "source": [
    "sn_const2 = tf.shape_n([const2])\n",
    "print(sn_const2)\n",
    "tfutil.print_operation_value(sn_const2)"
   ]
  },
  {
   "cell_type": "code",
   "execution_count": 6,
   "metadata": {},
   "outputs": [
    {
     "name": "stdout",
     "output_type": "stream",
     "text": [
      "Tensor(\"Const_2:0\", shape=(2, 2), dtype=int64)\n",
      "Tensor(\"Shape_2:0\", shape=(2,), dtype=int32)\n",
      "[[1 2]\n",
      " [3 4]]\n"
     ]
    }
   ],
   "source": [
    "x = [[1, 2], [3, 4]]\n",
    "const3 = tf.constant(np.array(x))\n",
    "print(const3)\n",
    "print(tf.shape(const3))\n",
    "tfutil.print_constant(const3)"
   ]
  },
  {
   "cell_type": "code",
   "execution_count": 7,
   "metadata": {},
   "outputs": [
    {
     "name": "stdout",
     "output_type": "stream",
     "text": [
      "[<tf.Tensor 'ShapeN_2:0' shape=(2,) dtype=int32>]\n",
      "[array([2, 2], dtype=int32)]\n"
     ]
    }
   ],
   "source": [
    "sn_const3 = tf.shape_n([const3])\n",
    "print(sn_const3)\n",
    "tfutil.print_operation_value(sn_const3)"
   ]
  },
  {
   "cell_type": "code",
   "execution_count": 8,
   "metadata": {},
   "outputs": [
    {
     "name": "stdout",
     "output_type": "stream",
     "text": [
      "Tensor(\"Const_3:0\", shape=(3, 2), dtype=int64)\n",
      "Tensor(\"Shape_3:0\", shape=(2,), dtype=int32)\n",
      "[[1 2]\n",
      " [3 4]\n",
      " [5 6]]\n"
     ]
    }
   ],
   "source": [
    "x = [[1, 2], [3, 4], [5, 6]]\n",
    "const4 = tf.constant(np.array(x))\n",
    "print(const4)\n",
    "print(tf.shape(const4))\n",
    "tfutil.print_constant(const4)"
   ]
  },
  {
   "cell_type": "code",
   "execution_count": 9,
   "metadata": {},
   "outputs": [
    {
     "name": "stdout",
     "output_type": "stream",
     "text": [
      "[<tf.Tensor 'ShapeN_3:0' shape=(2,) dtype=int32>]\n",
      "[array([3, 2], dtype=int32)]\n"
     ]
    }
   ],
   "source": [
    "sn_const4 = tf.shape_n([const4])\n",
    "print(sn_const4)\n",
    "tfutil.print_operation_value(sn_const4)"
   ]
  },
  {
   "cell_type": "code",
   "execution_count": 10,
   "metadata": {},
   "outputs": [
    {
     "name": "stdout",
     "output_type": "stream",
     "text": [
      "Tensor(\"Const_4:0\", shape=(2, 2, 1), dtype=int64)\n",
      "Tensor(\"Shape_4:0\", shape=(3,), dtype=int32)\n",
      "[[[1]\n",
      "  [2]]\n",
      "\n",
      " [[3]\n",
      "  [4]]]\n"
     ]
    }
   ],
   "source": [
    "x = [[[1], [2]], [[3], [4]]]\n",
    "const5 = tf.constant(np.array(x))\n",
    "print(const5)\n",
    "print(tf.shape(const5))\n",
    "tfutil.print_constant(const5)"
   ]
  },
  {
   "cell_type": "code",
   "execution_count": 11,
   "metadata": {},
   "outputs": [
    {
     "name": "stdout",
     "output_type": "stream",
     "text": [
      "[<tf.Tensor 'ShapeN_4:0' shape=(3,) dtype=int32>]\n",
      "[array([2, 2, 1], dtype=int32)]\n"
     ]
    }
   ],
   "source": [
    "sn_const5 = tf.shape_n([const5])\n",
    "print(sn_const5)\n",
    "tfutil.print_operation_value(sn_const5)"
   ]
  },
  {
   "cell_type": "code",
   "execution_count": 12,
   "metadata": {},
   "outputs": [
    {
     "name": "stdout",
     "output_type": "stream",
     "text": [
      "Tensor(\"Const_5:0\", shape=(3, 2, 1), dtype=int64)\n",
      "Tensor(\"Shape_5:0\", shape=(3,), dtype=int32)\n",
      "[[[1]\n",
      "  [2]]\n",
      "\n",
      " [[3]\n",
      "  [4]]\n",
      "\n",
      " [[5]\n",
      "  [6]]]\n"
     ]
    }
   ],
   "source": [
    "x = [[[1], [2]], [[3], [4]], [[5], [6]]]\n",
    "const6 = tf.constant(np.array(x))\n",
    "print(const6)\n",
    "print(tf.shape(const6))\n",
    "tfutil.print_constant(const6)"
   ]
  },
  {
   "cell_type": "code",
   "execution_count": 13,
   "metadata": {},
   "outputs": [
    {
     "name": "stdout",
     "output_type": "stream",
     "text": [
      "[<tf.Tensor 'ShapeN_5:0' shape=(3,) dtype=int32>]\n",
      "[array([3, 2, 1], dtype=int32)]\n"
     ]
    }
   ],
   "source": [
    "sn_const6 = tf.shape_n([const6])\n",
    "print(sn_const6)\n",
    "tfutil.print_operation_value(sn_const6)"
   ]
  },
  {
   "cell_type": "code",
   "execution_count": 14,
   "metadata": {},
   "outputs": [
    {
     "name": "stdout",
     "output_type": "stream",
     "text": [
      "[<tf.Tensor 'ShapeN_6:0' shape=(4,) dtype=int32>]\n",
      "[array([1, 3, 2, 1], dtype=int32)]\n"
     ]
    }
   ],
   "source": [
    "sn_const6 = tf.shape_n([[const6]])\n",
    "print(sn_const6)\n",
    "tfutil.print_operation_value(sn_const6)"
   ]
  }
 ],
 "metadata": {
  "kernelspec": {
   "display_name": "Python 2",
   "language": "python",
   "name": "python2"
  },
  "language_info": {
   "codemirror_mode": {
    "name": "ipython",
    "version": 2
   },
   "file_extension": ".py",
   "mimetype": "text/x-python",
   "name": "python",
   "nbconvert_exporter": "python",
   "pygments_lexer": "ipython2",
   "version": "2.7.12"
  }
 },
 "nbformat": 4,
 "nbformat_minor": 2
}
